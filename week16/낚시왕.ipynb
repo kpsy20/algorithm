{
 "cells": [
  {
   "cell_type": "code",
   "execution_count": null,
   "id": "aerial-invitation",
   "metadata": {},
   "outputs": [],
   "source": [
    "4 6 8\n",
    "4 1 3 3 8\n",
    "1 3 5 2 9\n",
    "2 4 8 4 1\n",
    "4 5 0 1 4\n",
    "3 3 1 2 7\n",
    "1 5 8 4 3\n",
    "3 6 2 1 2\n",
    "2 2 2 3 5"
   ]
  },
  {
   "cell_type": "code",
   "execution_count": 9,
   "id": "returning-sense",
   "metadata": {},
   "outputs": [
    {
     "name": "stdout",
     "output_type": "stream",
     "text": [
      "4 6 1\n",
      "1 1 1 1 1\n"
     ]
    },
    {
     "data": {
      "text/plain": [
       "[[1, 1, 1, 1, 1]]"
      ]
     },
     "execution_count": 9,
     "metadata": {},
     "output_type": "execute_result"
    }
   ],
   "source": [
    "def move(shark, r, c):\n",
    "    for i in range(len(shark)):\n",
    "        if(shark[3] == 1): #up, row --\n",
    "            v = shark[2]\n",
    "            v = v%(2*(r-1))\n",
    "        elif(shark[3] == 2): #donw, row ++\n",
    "        elif(shark[3] == 3): #right, col ++\n",
    "        elif(shark[3] == 4): #left, col --\n",
    "    \n",
    "    \n",
    "\n",
    "r, c, m = map(int, input().split())\n",
    "\n",
    "for i in range(m):\n",
    "    p1, p2, p3, p4, p5 = map(int, input().split())\n",
    "    shark.append([p1, p2, p3, p4, p5])\n",
    "\n",
    "for i in range(c): #c만큼 칸 가니까\n",
    "    temp = -1\n",
    "    idx = -1\n",
    "    ans = 0\n",
    "    for j in range(len(shark)):\n",
    "        if(shark[j][1] == i):\n",
    "            if(temp == -1 or shark[j][0] < temp):\n",
    "                temp = shark[j][0] #row\n",
    "                idx = j\n",
    "        if(temp == -1):\n",
    "            pass\n",
    "        \n",
    "        else:\n",
    "            #eatand del\n",
    "            ans += shark[j][4]\n",
    "            del shark[j]\n",
    "    move(shark, r, c)\n",
    "print(ans)"
   ]
  },
  {
   "cell_type": "code",
   "execution_count": null,
   "id": "unknown-rugby",
   "metadata": {},
   "outputs": [],
   "source": []
  }
 ],
 "metadata": {
  "kernelspec": {
   "display_name": "Python 3",
   "language": "python",
   "name": "python3"
  },
  "language_info": {
   "codemirror_mode": {
    "name": "ipython",
    "version": 3
   },
   "file_extension": ".py",
   "mimetype": "text/x-python",
   "name": "python",
   "nbconvert_exporter": "python",
   "pygments_lexer": "ipython3",
   "version": "3.8.3"
  }
 },
 "nbformat": 4,
 "nbformat_minor": 5
}
