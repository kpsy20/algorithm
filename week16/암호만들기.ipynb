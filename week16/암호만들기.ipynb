{
 "cells": [
  {
   "cell_type": "code",
   "execution_count": null,
   "id": "wanted-particular",
   "metadata": {},
   "outputs": [],
   "source": [
    "4 6\n",
    "a t c i s w"
   ]
  },
  {
   "cell_type": "code",
   "execution_count": 17,
   "id": "virtual-edgar",
   "metadata": {},
   "outputs": [
    {
     "name": "stdout",
     "output_type": "stream",
     "text": [
      "4 6\n",
      "a c t i s w\n",
      "acis\n",
      "acit\n",
      "aciw\n",
      "acst\n",
      "acsw\n",
      "actw\n",
      "aist\n",
      "aisw\n",
      "aitw\n",
      "astw\n",
      "cist\n",
      "cisw\n",
      "citw\n",
      "istw\n"
     ]
    }
   ],
   "source": [
    "l, c = map(int, input().split())\n",
    "s = input().split(\" \")\n",
    "ja = []\n",
    "mo = []\n",
    "s.sort()\n",
    "for i in range(len(s)):\n",
    "    if(s[i] in ['a', 'e', 'i', 'o', 'u']):\n",
    "        mo.append(i)\n",
    "    else:\n",
    "        ja.append(i)\n",
    "#1개 이상의 모음과 2개 이상의 자음\n",
    "#정렬이니까 뽑으면 끝.\n",
    "idx = []\n",
    "for i in range(len(s)):\n",
    "    idx.append(i)\n",
    "from itertools import combinations\n",
    "com = list(combinations(idx, l))    \n",
    "momo = ['a','e','i','o','u']\n",
    "for i in range(len(com)):\n",
    "    ct = 0\n",
    "    for j in range(len(com[i])):\n",
    "            if(com[i][j] in mo):\n",
    "                ct += 1\n",
    "    if(ct==0):\n",
    "        continue\n",
    "    if(l-ct<2):\n",
    "        continue\n",
    "    ans = ''\n",
    "    for k in range(len(com[i])):\n",
    "        ans += s[com[i][k]]\n",
    "    print(ans)"
   ]
  }
 ],
 "metadata": {
  "kernelspec": {
   "display_name": "Python 3",
   "language": "python",
   "name": "python3"
  },
  "language_info": {
   "codemirror_mode": {
    "name": "ipython",
    "version": 3
   },
   "file_extension": ".py",
   "mimetype": "text/x-python",
   "name": "python",
   "nbconvert_exporter": "python",
   "pygments_lexer": "ipython3",
   "version": "3.8.3"
  }
 },
 "nbformat": 4,
 "nbformat_minor": 5
}
