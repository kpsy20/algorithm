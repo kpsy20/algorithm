{
 "cells": [
  {
   "cell_type": "code",
   "execution_count": null,
   "id": "controversial-circular",
   "metadata": {},
   "outputs": [],
   "source": [
    "7 8 2\n",
    "0 0 0 0 0 0 0 9\n",
    "0 0 0 0 3 0 0 8\n",
    "-1 0 5 0 0 0 22 0\n",
    "-1 8 0 0 0 0 0 0\n",
    "0 0 0 0 0 10 43 0\n",
    "0 0 5 0 15 0 0 0\n",
    "0 0 40 0 0 0 20 0"
   ]
  },
  {
   "cell_type": "code",
   "execution_count": 2,
   "id": "tight-container",
   "metadata": {},
   "outputs": [
    {
     "name": "stdout",
     "output_type": "stream",
     "text": [
      "3 4 5\n"
     ]
    }
   ],
   "source": [
    "def away(m, r, c):\n",
    "    temp = [[0 for x in range(c)] for y in range(r)]\n",
    "    for i in range(r):\n",
    "        for j in range(c):\n",
    "            if(i==0):\n",
    "                if(j==0):\n",
    "                    m[i][j] -= m[i][j]//5 * 2\n",
    "                    temp[i+1][j] += m[i][j]//5\n",
    "                    temp[i][j+1] += m[i][j]//5\n",
    "                elif(j==c-1):\n",
    "                    m[i][j] -= m[i][j]//5 * 2\n",
    "                    temp[i+1][j] += m[i][j]//5\n",
    "                    temp[i][j-1] += m[i][j]//5\n",
    "                else:\n",
    "                    m[i][j] -= m[i][j]//5 * 3\n",
    "                    temp[i+1][j] += m[i][j]//5\n",
    "                    temp[i][j-1] += m[i][j]//5\n",
    "                    temp[i][j+1] += m[i][j]//5\n",
    "            elif(i==r-1):\n",
    "                if(j==0):\n",
    "                    m[i][j] -= m[i][j]//5 * 2\n",
    "                    temp[i-1][j] += m[i][j]//5\n",
    "                    temp[i][j+1] += m[i][j]//5\n",
    "                elif(j==c-1):\n",
    "                    m[i][j] -= m[i][j]//5 * 2\n",
    "                    temp[i-1][j] += m[i][j]//5\n",
    "                    temp[i][j-1] += m[i][j]//5\n",
    "                else:\n",
    "                    m[i][j] -= m[i][j]//5 * 3\n",
    "                    temp[i-1][j] += m[i][j]//5\n",
    "                    temp[i][j-1] += m[i][j]//5\n",
    "                    temp[i][j+1] += m[i][j]//5\n",
    "            else:\n",
    "                if(j==0):\n",
    "                    m[i][j] -= m[i][j]//5 * 3\n",
    "                    temp[i-1][j] += m[i][j]//5\n",
    "                    temp[i+1][j] += m[i][j]//5\n",
    "                    temp[i][j+1] += m[i][j]//5\n",
    "                elif(j==c-1):\n",
    "                    m[i][j] -= m[i][j]//5 * 3\n",
    "                    temp[i-1][j] += m[i][j]//5\n",
    "                    temp[i+1][j] += m[i][j]//5\n",
    "                    temp[i][j-1] += m[i][j]//5\n",
    "                else:\n",
    "                    m[i][j] -= m[i][j]//5 * 4\n",
    "                    temp[i-1][j] += m[i][j]//5\n",
    "                    temp[i+1][j] += m[i][j]//5\n",
    "                    temp[i][j+1] += m[i][j]//5\n",
    "                    temp[i][j-1] += m[i][j]//5\n",
    "                \n",
    "    for i in range(r):\n",
    "        for j in range(c):\n",
    "            m[i][j] += temp[i][j]\n",
    "def air(m, r, c):\n",
    "    m = away(m, r, c)\n",
    "    pass\n",
    "    \n",
    "r, c, t = map(int, input().split())\n",
    "m = []\n",
    "for i in range(r):\n",
    "    m.append(list(map(int, input().split())))\n",
    "for i in range(t):\n",
    "    air(m, r, c)\n",
    "res = 0\n",
    "for i in range(r):\n",
    "    res += sum(result[i])\n",
    "print(res)\n",
    "    "
   ]
  },
  {
   "cell_type": "code",
   "execution_count": 3,
   "id": "resident-sewing",
   "metadata": {},
   "outputs": [
    {
     "data": {
      "text/plain": [
       "(3, 4, 5)"
      ]
     },
     "execution_count": 3,
     "metadata": {},
     "output_type": "execute_result"
    }
   ],
   "source": [
    "r,c,t"
   ]
  },
  {
   "cell_type": "code",
   "execution_count": 9,
   "id": "remarkable-apollo",
   "metadata": {},
   "outputs": [
    {
     "name": "stdout",
     "output_type": "stream",
     "text": [
      "0 0 0\n"
     ]
    }
   ],
   "source": [
    "a = list(map(int, input().split()))"
   ]
  },
  {
   "cell_type": "code",
   "execution_count": 10,
   "id": "sporting-think",
   "metadata": {},
   "outputs": [
    {
     "data": {
      "text/plain": [
       "[0, 0, 0]"
      ]
     },
     "execution_count": 10,
     "metadata": {},
     "output_type": "execute_result"
    }
   ],
   "source": [
    "a"
   ]
  },
  {
   "cell_type": "code",
   "execution_count": 13,
   "id": "threaded-truth",
   "metadata": {},
   "outputs": [],
   "source": [
    "import numpy as np"
   ]
  },
  {
   "cell_type": "code",
   "execution_count": 16,
   "id": "christian-coating",
   "metadata": {},
   "outputs": [
    {
     "ename": "ValueError",
     "evalue": "operands could not be broadcast together with shapes (3,) (2,) ",
     "output_type": "error",
     "traceback": [
      "\u001b[1;31m---------------------------------------------------------------------------\u001b[0m",
      "\u001b[1;31mValueError\u001b[0m                                Traceback (most recent call last)",
      "\u001b[1;32m<ipython-input-16-5a1e737cbf44>\u001b[0m in \u001b[0;36m<module>\u001b[1;34m\u001b[0m\n\u001b[1;32m----> 1\u001b[1;33m \u001b[0mnp\u001b[0m\u001b[1;33m.\u001b[0m\u001b[0marray\u001b[0m\u001b[1;33m(\u001b[0m\u001b[1;33m[\u001b[0m\u001b[1;36m1\u001b[0m\u001b[1;33m,\u001b[0m\u001b[1;36m2\u001b[0m\u001b[1;33m,\u001b[0m\u001b[1;36m3\u001b[0m\u001b[1;33m]\u001b[0m\u001b[1;33m)\u001b[0m \u001b[1;33m+\u001b[0m \u001b[0mnp\u001b[0m\u001b[1;33m.\u001b[0m\u001b[0marray\u001b[0m\u001b[1;33m(\u001b[0m\u001b[1;33m[\u001b[0m\u001b[1;36m1\u001b[0m\u001b[1;33m,\u001b[0m\u001b[1;36m2\u001b[0m\u001b[1;33m]\u001b[0m\u001b[1;33m)\u001b[0m\u001b[1;33m\u001b[0m\u001b[1;33m\u001b[0m\u001b[0m\n\u001b[0m",
      "\u001b[1;31mValueError\u001b[0m: operands could not be broadcast together with shapes (3,) (2,) "
     ]
    }
   ],
   "source": [
    "np.array([1,2,3]) + np.array([1,2])"
   ]
  },
  {
   "cell_type": "code",
   "execution_count": null,
   "id": "usual-animal",
   "metadata": {},
   "outputs": [],
   "source": []
  }
 ],
 "metadata": {
  "kernelspec": {
   "display_name": "Python 3",
   "language": "python",
   "name": "python3"
  },
  "language_info": {
   "codemirror_mode": {
    "name": "ipython",
    "version": 3
   },
   "file_extension": ".py",
   "mimetype": "text/x-python",
   "name": "python",
   "nbconvert_exporter": "python",
   "pygments_lexer": "ipython3",
   "version": "3.8.3"
  }
 },
 "nbformat": 4,
 "nbformat_minor": 5
}
