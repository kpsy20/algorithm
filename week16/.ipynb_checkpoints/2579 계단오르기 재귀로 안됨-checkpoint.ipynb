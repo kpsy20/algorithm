{
 "cells": [
  {
   "cell_type": "code",
   "execution_count": 3,
   "id": "joined-break",
   "metadata": {},
   "outputs": [
    {
     "name": "stdout",
     "output_type": "stream",
     "text": [
      "6\n",
      "10\n",
      "20\n",
      "15\n",
      "25\n",
      "10\n",
      "20\n"
     ]
    }
   ],
   "source": [
    "def go(stair, idx, th, score, result):\n",
    "    if(idx == len(stair) -1):\n",
    "        result.append(score+stair[-1])\n",
    "        return\n",
    "    if(th == 2):\n",
    "        if(idx+2<len(stair)):\n",
    "            go(stair, idx+2, 1, score+stair[idx], result)\n",
    "        else:\n",
    "            return\n",
    "    elif(th == 1 or th == 0):\n",
    "        if(idx+2 <len(stair)):\n",
    "            go(stair, idx+1, th+1, score+stair[idx], result)\n",
    "            go(stair, idx+2, th+1, score+stair[idx], result)\n",
    "        elif(idx+1 <len(stair)):\n",
    "            go(stair, idx+1, th+1, score+stair[idx], result)\n",
    "        else:\n",
    "            return\n",
    "num = int(input())\n",
    "step = []\n",
    "for i in range(num):\n",
    "    step.append(int(input()))\n",
    "result = []\n",
    "go(step, 0, 0, 0, result)\n",
    "print(max(result))\n",
    "    "
   ]
  }
 ],
 "metadata": {
  "kernelspec": {
   "display_name": "Python 3",
   "language": "python",
   "name": "python3"
  },
  "language_info": {
   "codemirror_mode": {
    "name": "ipython",
    "version": 3
   },
   "file_extension": ".py",
   "mimetype": "text/x-python",
   "name": "python",
   "nbconvert_exporter": "python",
   "pygments_lexer": "ipython3",
   "version": "3.8.3"
  }
 },
 "nbformat": 4,
 "nbformat_minor": 5
}
