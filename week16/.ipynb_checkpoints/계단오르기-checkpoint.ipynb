{
 "cells": [
  {
   "cell_type": "code",
   "execution_count": 27,
   "id": "posted-stage",
   "metadata": {},
   "outputs": [
    {
     "name": "stdout",
     "output_type": "stream",
     "text": [
      "6\n",
      "10\n",
      "20\n",
      "15\n",
      "25\n",
      "10\n",
      "20\n",
      "75\n"
     ]
    }
   ],
   "source": [
    "step = int(input())\n",
    "stair = []\n",
    "for i in range(step):\n",
    "    stair.append(int(input()))\n",
    "if(len(stair) == 1):\n",
    "    print(stair[0])\n",
    "elif(len(stair) == 2):\n",
    "    print(stair[0] + stair[1])\n",
    "elif(len(stair) == 3):\n",
    "    print(max(stair[1]+stair[2], stair[0]+stair[2]))\n",
    "else:\n",
    "    res = [0 for x in range(step)]\n",
    "    res[0] = stair[0]\n",
    "    res[1] = stair[0]+stair[1]\n",
    "    res[2] = max(stair[0]+stair[2], stair[1]+stair[2])\n",
    "    for i in range(3, step):\n",
    "        \n",
    "        res[i] = max(stair[i] + stair[i-1] + res[i-3], stair[i] + res[i-2])\n",
    "    print(res[-1])"
   ]
  }
 ],
 "metadata": {
  "kernelspec": {
   "display_name": "Python 3",
   "language": "python",
   "name": "python3"
  },
  "language_info": {
   "codemirror_mode": {
    "name": "ipython",
    "version": 3
   },
   "file_extension": ".py",
   "mimetype": "text/x-python",
   "name": "python",
   "nbconvert_exporter": "python",
   "pygments_lexer": "ipython3",
   "version": "3.8.3"
  }
 },
 "nbformat": 4,
 "nbformat_minor": 5
}
