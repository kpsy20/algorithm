{
 "cells": [
  {
   "cell_type": "code",
   "execution_count": 113,
   "id": "collect-james",
   "metadata": {},
   "outputs": [
    {
     "name": "stdout",
     "output_type": "stream",
     "text": [
      "[52, 45, 60, 59, 49, 60, 70, 81, 53, 68, 58, 52, 55, 58, 54, 57, 54, 58, 54, 64, 55, 71, 52, 65, 64]\n",
      "[51, 54, 51, 60, 63, 61, 53, 54, 60, 68, 48, 59, 61, 59, 55, 55, 65, 69, 60, 51, 62, 55, 74, 60, 60]\n",
      "43896\n",
      "1468\n",
      "29.90190735694823\n"
     ]
    }
   ],
   "source": [
    "take = [0 for x in range(25)]\n",
    "save = [0 for x in range(25)]\n",
    "time = 0\n",
    "many = 0\n",
    "for i in first55:\n",
    "    for borrow in first55[i]:\n",
    "        take[borrow[0]] += 1\n",
    "        save[borrow[1]] += 1\n",
    "        time += borrow[2]\n",
    "        many += 1\n",
    "print(take)\n",
    "print(save)\n",
    "print(time)\n",
    "print(many)\n",
    "print(time / many)"
   ]
  },
  {
   "cell_type": "code",
   "execution_count": 163,
   "id": "geographic-cooperative",
   "metadata": {},
   "outputs": [
    {
     "data": {
      "text/plain": [
       "{'auth_key': 'edc3dcd7-4829-4f2c-9788-032d461e800b', 'problem': 1, 'time': 0}"
      ]
     },
     "execution_count": 163,
     "metadata": {},
     "output_type": "execute_result"
    }
   ],
   "source": [
    "import requests\n",
    "import json\n",
    "response = requests.post(\"https://kox947ka1a.execute-api.ap-northeast-2.amazonaws.com/prod/users/start?problem=1\",\n",
    "                        headers={'Content-Type': 'application/json', 'X-Auth-Token':'4be94138a1003b90f9022d22a56933ac'})\n",
    "response.status_code\n",
    "auth = json.loads(response.text)\n",
    "auth"
   ]
  },
  {
   "cell_type": "code",
   "execution_count": 164,
   "id": "opening-nepal",
   "metadata": {},
   "outputs": [],
   "source": [
    "auth_key = auth['auth_key']"
   ]
  },
  {
   "cell_type": "code",
   "execution_count": 168,
   "id": "headed-dodge",
   "metadata": {},
   "outputs": [
    {
     "data": {
      "text/plain": [
       "{'locations': [{'id': 0, 'located_bikes_count': 4},\n",
       "  {'id': 1, 'located_bikes_count': 4},\n",
       "  {'id': 2, 'located_bikes_count': 4},\n",
       "  {'id': 3, 'located_bikes_count': 4},\n",
       "  {'id': 4, 'located_bikes_count': 4},\n",
       "  {'id': 5, 'located_bikes_count': 4},\n",
       "  {'id': 6, 'located_bikes_count': 4},\n",
       "  {'id': 7, 'located_bikes_count': 4},\n",
       "  {'id': 8, 'located_bikes_count': 4},\n",
       "  {'id': 9, 'located_bikes_count': 4},\n",
       "  {'id': 10, 'located_bikes_count': 4},\n",
       "  {'id': 11, 'located_bikes_count': 4},\n",
       "  {'id': 12, 'located_bikes_count': 4},\n",
       "  {'id': 13, 'located_bikes_count': 4},\n",
       "  {'id': 14, 'located_bikes_count': 4},\n",
       "  {'id': 15, 'located_bikes_count': 4},\n",
       "  {'id': 16, 'located_bikes_count': 4},\n",
       "  {'id': 17, 'located_bikes_count': 4},\n",
       "  {'id': 18, 'located_bikes_count': 4},\n",
       "  {'id': 19, 'located_bikes_count': 4},\n",
       "  {'id': 20, 'located_bikes_count': 4},\n",
       "  {'id': 21, 'located_bikes_count': 4},\n",
       "  {'id': 22, 'located_bikes_count': 4},\n",
       "  {'id': 23, 'located_bikes_count': 4},\n",
       "  {'id': 24, 'located_bikes_count': 4}]}"
      ]
     },
     "execution_count": 168,
     "metadata": {},
     "output_type": "execute_result"
    }
   ],
   "source": [
    "response = requests.get(\"https://kox947ka1a.execute-api.ap-northeast-2.amazonaws.com/prod/users/locations\",\n",
    "                        headers={'Content-Type': 'application/json', 'Authorization':auth_key})\n",
    "bike = json.loads(response.text)\n",
    "bike"
   ]
  },
  {
   "cell_type": "code",
   "execution_count": 169,
   "id": "judicial-transformation",
   "metadata": {},
   "outputs": [
    {
     "data": {
      "text/plain": [
       "{'trucks': [{'id': 0, 'loaded_bikes_count': 0, 'location_id': 0},\n",
       "  {'id': 1, 'loaded_bikes_count': 0, 'location_id': 0},\n",
       "  {'id': 2, 'loaded_bikes_count': 0, 'location_id': 0},\n",
       "  {'id': 3, 'loaded_bikes_count': 0, 'location_id': 0},\n",
       "  {'id': 4, 'loaded_bikes_count': 0, 'location_id': 0}]}"
      ]
     },
     "execution_count": 169,
     "metadata": {},
     "output_type": "execute_result"
    }
   ],
   "source": [
    "response = requests.get(\"https://kox947ka1a.execute-api.ap-northeast-2.amazonaws.com/prod/users/trucks\",\n",
    "                        headers={'Content-Type': 'application/json', 'Authorization':auth_key})\n",
    "truck = json.loads(response.text)\n",
    "truck"
   ]
  },
  {
   "cell_type": "code",
   "execution_count": null,
   "id": "disturbed-governor",
   "metadata": {},
   "outputs": [],
   "source": [
    "def allBike(bike):\n",
    "    allB = 0\n",
    "    for b in bike['locations']:\n",
    "        allB += b['located_bikes_count']\n",
    "    return allB\n",
    "def whereZero(bike):\n",
    "    res = []\n",
    "    for b in bike['locations']:\n",
    "        if b['located_bikes_count'] == 0:\n",
    "            res.append(b['id'])\n",
    "    return res\n",
    "def nearTruck(zero, trucks):\n",
    "    for i in zero: #자전거가 없는 곳 id 들어가 있음.\n",
    "        min_dis = 25\n",
    "        for truck in trucks['trucks']:\n",
    "    "
   ]
  },
  {
   "cell_type": "code",
   "execution_count": 118,
   "id": "gross-pepper",
   "metadata": {},
   "outputs": [
    {
     "name": "stdout",
     "output_type": "stream",
     "text": [
      "100\n",
      "200\n",
      "300\n",
      "400\n",
      "500\n",
      "600\n",
      "700\n"
     ]
    }
   ],
   "source": [
    "idx = 0\n",
    "while idx < 720:\n",
    "    response = requests.get(\"https://kox947ka1a.execute-api.ap-northeast-2.amazonaws.com/prod/users/locations\",\n",
    "                        headers={'Content-Type': 'application/json', 'Authorization':auth_key})\n",
    "    bike = json.loads(response.text)\n",
    "    all_bike = allBike(bike)\n",
    "    zero = whereZero(bike)\n",
    "    \n",
    "    response = requests.get(\"https://kox947ka1a.execute-api.ap-northeast-2.amazonaws.com/prod/users/trucks\",\n",
    "                            headers={'Content-Type': 'application/json', 'Authorization':auth_key})\n",
    "    truck = json.loads(response.text)\n",
    "    \n",
    "    \n",
    "    requests.put(\"https://kox947ka1a.execute-api.ap-northeast-2.amazonaws.com/prod/users/simulate\",\n",
    "                 headers={'Content-Type': 'application/json', 'Authorization':auth_key},\n",
    "                 data = json.dumps({'commands':[]})\n",
    "                )\n",
    "    if idx%100==0:\n",
    "        print(idx)\n",
    "    idx += 1\n",
    "    "
   ]
  },
  {
   "cell_type": "code",
   "execution_count": 121,
   "id": "starting-travel",
   "metadata": {},
   "outputs": [
    {
     "data": {
      "text/plain": [
       "{'locations': [{'id': 0, 'located_bikes_count': 11},\n",
       "  {'id': 1, 'located_bikes_count': 1},\n",
       "  {'id': 2, 'located_bikes_count': 0},\n",
       "  {'id': 3, 'located_bikes_count': 2},\n",
       "  {'id': 4, 'located_bikes_count': 1},\n",
       "  {'id': 5, 'located_bikes_count': 5},\n",
       "  {'id': 6, 'located_bikes_count': 0},\n",
       "  {'id': 7, 'located_bikes_count': 4},\n",
       "  {'id': 8, 'located_bikes_count': 1},\n",
       "  {'id': 9, 'located_bikes_count': 1},\n",
       "  {'id': 10, 'located_bikes_count': 0},\n",
       "  {'id': 11, 'located_bikes_count': 2},\n",
       "  {'id': 12, 'located_bikes_count': 2},\n",
       "  {'id': 13, 'located_bikes_count': 0},\n",
       "  {'id': 14, 'located_bikes_count': 2},\n",
       "  {'id': 15, 'located_bikes_count': 1},\n",
       "  {'id': 16, 'located_bikes_count': 6},\n",
       "  {'id': 17, 'located_bikes_count': 5},\n",
       "  {'id': 18, 'located_bikes_count': 4},\n",
       "  {'id': 19, 'located_bikes_count': 5},\n",
       "  {'id': 20, 'located_bikes_count': 0},\n",
       "  {'id': 21, 'located_bikes_count': 3},\n",
       "  {'id': 22, 'located_bikes_count': 2},\n",
       "  {'id': 23, 'located_bikes_count': 1},\n",
       "  {'id': 24, 'located_bikes_count': 2}]}"
      ]
     },
     "execution_count": 121,
     "metadata": {},
     "output_type": "execute_result"
    }
   ],
   "source": [
    "response = requests.get(\"https://kox947ka1a.execute-api.ap-northeast-2.amazonaws.com/prod/users/locations\",\n",
    "                        headers={'Content-Type': 'application/json', 'Authorization':auth_key})\n",
    "bike = json.loads(response.text)\n",
    "bike"
   ]
  },
  {
   "cell_type": "code",
   "execution_count": 83,
   "id": "classified-lincoln",
   "metadata": {},
   "outputs": [
    {
     "name": "stdout",
     "output_type": "stream",
     "text": [
      "600\n",
      "700\n"
     ]
    }
   ],
   "source": [
    "while idx<720:\n",
    "    response = requests.put(\"https://kox947ka1a.execute-api.ap-northeast-2.amazonaws.com/prod/users/simulate\",\n",
    "                 headers={'Content-Type': 'application/json', 'Authorization':auth_key},\n",
    "                 data = json.dumps(dataa)\n",
    "                )\n",
    "    if response.status_code == 200:\n",
    "        idx += 1\n",
    "    else:\n",
    "        print(idx, response.text)\n",
    "    if idx%100==0:\n",
    "        print(idx)"
   ]
  },
  {
   "cell_type": "code",
   "execution_count": 79,
   "id": "listed-concert",
   "metadata": {},
   "outputs": [
    {
     "data": {
      "text/plain": [
       "200"
      ]
     },
     "execution_count": 79,
     "metadata": {},
     "output_type": "execute_result"
    }
   ],
   "source": [
    "response.status_code"
   ]
  },
  {
   "cell_type": "code",
   "execution_count": 123,
   "id": "contemporary-hurricane",
   "metadata": {},
   "outputs": [],
   "source": [
    "score = requests.get(\"https://kox947ka1a.execute-api.ap-northeast-2.amazonaws.com/prod/users/score\",\n",
    "                        headers={'Content-Type': 'application/json', 'Authorization':auth_key})"
   ]
  },
  {
   "cell_type": "code",
   "execution_count": 124,
   "id": "pressing-government",
   "metadata": {},
   "outputs": [
    {
     "data": {
      "text/plain": [
       "'{\"score\":229.94747899159663}'"
      ]
     },
     "execution_count": 124,
     "metadata": {},
     "output_type": "execute_result"
    }
   ],
   "source": [
    "score.text"
   ]
  },
  {
   "cell_type": "code",
   "execution_count": null,
   "id": "handmade-bibliography",
   "metadata": {},
   "outputs": [],
   "source": []
  }
 ],
 "metadata": {
  "kernelspec": {
   "display_name": "Python 3",
   "language": "python",
   "name": "python3"
  },
  "language_info": {
   "codemirror_mode": {
    "name": "ipython",
    "version": 3
   },
   "file_extension": ".py",
   "mimetype": "text/x-python",
   "name": "python",
   "nbconvert_exporter": "python",
   "pygments_lexer": "ipython3",
   "version": "3.8.3"
  }
 },
 "nbformat": 4,
 "nbformat_minor": 5
}
