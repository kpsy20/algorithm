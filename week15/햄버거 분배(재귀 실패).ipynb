{
 "cells": [
  {
   "cell_type": "code",
   "execution_count": 16,
   "id": "close-deployment",
   "metadata": {},
   "outputs": [
    {
     "name": "stdout",
     "output_type": "stream",
     "text": [
      "20 1\n",
      "HHPHPPHHPPHPPPHPHPHP\n",
      "0\n",
      "1\n",
      "2\n",
      "3\n",
      "4\n",
      "7\n",
      "8\n",
      "9\n",
      "['H', 'E', 'P', 'E', 'P', 'P', 'E', 'E', 'P', 'P', 'E', 'P', 'P', 'P', 'E', 'P', 'E', 'P', 'E', 'P']\n",
      "0\n",
      "2\n",
      "3\n",
      "4\n",
      "7\n",
      "8\n",
      "9\n",
      "['H', 'H', 'P', 'E', 'P', 'P', 'E', 'E', 'P', 'P', 'E', 'P', 'P', 'P', 'E', 'P', 'E', 'P', 'E', 'P']\n",
      "8\n",
      "[8, 7]\n"
     ]
    }
   ],
   "source": [
    "def eat(person, table, k, index, result)\n",
    "    check=True\n",
    "    for i in range(k*2+1):\n",
    "        if(person[index]-k+i < len(table) and person[index]-k+i >= 0 and table[person[index]-k+i] == 'H'):\n",
    "            temp = table.copy()\n",
    "            temp[person[index]-k+i] = 'E'\n",
    "            check=False\n",
    "            if(index<len(person)-1):\n",
    "                eat(person, temp, k, index+1, result)\n",
    "    if(check and index<len(person)-1): #못먹어도 다음사람 먹으라고 넘겨\n",
    "        eat(person, table, k, index+1, result)\n",
    "    if(index == len(person)-1): #마지막사람 까지 먹고 끝\n",
    "        result.append(table.count(\"E\"))\n",
    "    \n",
    "n, k = map(int, input().split(\" \"))\n",
    "table_s = input()\n",
    "table=[]\n",
    "for i in range(len(table_s)):\n",
    "    table.append(table_s[i])\n",
    "person = []\n",
    "result = []\n",
    "for i in range(len(table)):\n",
    "    if(table[i] == \"P\"):\n",
    "        person.append(i)\n",
    "eat(person, table, k, 0, result)\n",
    "print(max(result))\n",
    "\n"
   ]
  },
  {
   "cell_type": "code",
   "execution_count": null,
   "id": "hispanic-yugoslavia",
   "metadata": {},
   "outputs": [],
   "source": []
  },
  {
   "cell_type": "code",
   "execution_count": null,
   "id": "fixed-inspection",
   "metadata": {},
   "outputs": [],
   "source": []
  }
 ],
 "metadata": {
  "kernelspec": {
   "display_name": "Python 3",
   "language": "python",
   "name": "python3"
  },
  "language_info": {
   "codemirror_mode": {
    "name": "ipython",
    "version": 3
   },
   "file_extension": ".py",
   "mimetype": "text/x-python",
   "name": "python",
   "nbconvert_exporter": "python",
   "pygments_lexer": "ipython3",
   "version": "3.8.3"
  }
 },
 "nbformat": 4,
 "nbformat_minor": 5
}
