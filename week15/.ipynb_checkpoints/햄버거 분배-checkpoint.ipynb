{
 "cells": [
  {
   "cell_type": "code",
   "execution_count": 5,
   "id": "mexican-audience",
   "metadata": {},
   "outputs": [
    {
     "name": "stdout",
     "output_type": "stream",
     "text": [
      "20 1\n",
      "HHPHPPHHPPHPPPHPHPHP\n",
      "8\n"
     ]
    }
   ],
   "source": [
    "n, k = map(int, input().split())\n",
    "table_s = input()\n",
    "table=[]\n",
    "for i in range(len(table_s)):\n",
    "    table.append(table_s[i])\n",
    "    \n",
    "    \n",
    "result=0\n",
    "for i in range(n):\n",
    "    if(table[i] == \"P\"):\n",
    "        for j in range(2*k+1):\n",
    "            if(i-k+j>=0 and i-k+j < len(table) and table[i-k+j] == \"H\"):\n",
    "                table[i-k+j] = \"E\"\n",
    "                result+=1\n",
    "                break\n",
    "print(result)"
   ]
  },
  {
   "cell_type": "markdown",
   "id": "illegal-ceramic",
   "metadata": {},
   "source": [
    "# "
   ]
  }
 ],
 "metadata": {
  "kernelspec": {
   "display_name": "Python 3",
   "language": "python",
   "name": "python3"
  },
  "language_info": {
   "codemirror_mode": {
    "name": "ipython",
    "version": 3
   },
   "file_extension": ".py",
   "mimetype": "text/x-python",
   "name": "python",
   "nbconvert_exporter": "python",
   "pygments_lexer": "ipython3",
   "version": "3.8.3"
  }
 },
 "nbformat": 4,
 "nbformat_minor": 5
}
