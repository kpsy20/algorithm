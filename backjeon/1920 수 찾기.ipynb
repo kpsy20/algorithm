{
 "cells": [
  {
   "cell_type": "code",
   "execution_count": 8,
   "id": "responsible-indianapolis",
   "metadata": {},
   "outputs": [
    {
     "name": "stdout",
     "output_type": "stream",
     "text": [
      "5\n",
      "4 1 5 2 3\n",
      "5\n",
      "1 3 7 9 5\n",
      "1\n",
      "1\n",
      "0\n",
      "0\n",
      "1\n"
     ]
    }
   ],
   "source": [
    "def by2(a, num):\n",
    "    mid = len(a) // 2\n",
    "    left = 0\n",
    "    right = len(a) - 1\n",
    "    now = len(a) // 2\n",
    "    while(True):\n",
    "        if a[now] == num:\n",
    "            return now #인덱스 리턴\n",
    "        if a[right] == num:\n",
    "            return right\n",
    "        if a[left] == num:\n",
    "            return left\n",
    "        if now == right or now == left:\n",
    "            return -1\n",
    "        if a[now] > num:\n",
    "            right = now\n",
    "            now = (left+right) // 2\n",
    "            \n",
    "        else:\n",
    "            left = now\n",
    "            now = (left+right) // 2\n",
    "\n",
    "    \n",
    "n = int(input())\n",
    "a = list(map(int, input().split()))\n",
    "a.sort()\n",
    "m = int(input())\n",
    "b = list(map(int, input().split()))\n",
    "\n",
    "for i in b:\n",
    "    if by2(a, i) == -1:\n",
    "        print(0)\n",
    "    else:\n",
    "        print(1)\n"
   ]
  },
  {
   "cell_type": "markdown",
   "id": "double-advance",
   "metadata": {},
   "source": [
    "5\n",
    "4 1 5 2 3\n",
    "5\n",
    "1 3 7 9 5"
   ]
  }
 ],
 "metadata": {
  "kernelspec": {
   "display_name": "Python 3",
   "language": "python",
   "name": "python3"
  },
  "language_info": {
   "codemirror_mode": {
    "name": "ipython",
    "version": 3
   },
   "file_extension": ".py",
   "mimetype": "text/x-python",
   "name": "python",
   "nbconvert_exporter": "python",
   "pygments_lexer": "ipython3",
   "version": "3.8.3"
  }
 },
 "nbformat": 4,
 "nbformat_minor": 5
}
