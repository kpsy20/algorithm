{
 "cells": [
  {
   "cell_type": "code",
   "execution_count": null,
   "id": "equivalent-seeking",
   "metadata": {},
   "outputs": [],
   "source": [
    "7 7\n",
    "2 0 0 0 1 1 0\n",
    "0 0 1 0 1 2 0\n",
    "0 1 1 0 1 0 0\n",
    "0 1 0 0 0 0 0\n",
    "0 0 0 0 0 1 1\n",
    "0 1 0 0 0 0 0\n",
    "0 1 0 0 0 0 0\n",
    "\n",
    "4 6\n",
    "0 0 0 0 0 0\n",
    "1 0 0 0 0 2\n",
    "1 1 1 0 0 2\n",
    "0 0 0 0 0 2"
   ]
  },
  {
   "cell_type": "code",
   "execution_count": null,
   "id": "human-cannon",
   "metadata": {},
   "outputs": [],
   "source": [
    "def bfs(world, virus):\n",
    "    x = [0, 0, -1, 1]\n",
    "    y = [1, -1, 0, 0]\n",
    "    while virus:\n",
    "        for i in range(len(virus)):\n",
    "            for j in range(4):\n",
    "                if virus[i][0] + x[j] >= 0 and virus[i][0] + x[j] < len(world) and viru[i][1] + y[j] >= 0 and virus[i][1] + y[j] < len(world[0]):\n",
    "                    if world[virus[i][0] + x[j]][virus[i][1] + y[j]] == 0:\n",
    "                        world[virus[i][0] + x[j]][virus[i][1] + y[j]] = 2\n",
    "                        \n",
    "                        \n",
    "    "
   ]
  },
  {
   "cell_type": "code",
   "execution_count": 8,
   "id": "amateur-lightning",
   "metadata": {},
   "outputs": [
    {
     "name": "stdout",
     "output_type": "stream",
     "text": [
      "4 6\n",
      "0 0 0 0 0 0\n",
      "1 0 0 0 0 2\n",
      "1 1 1 0 0 2\n",
      "0 0 0 0 0 2\n"
     ]
    }
   ],
   "source": [
    "x, y = map(int, input().split())\n",
    "world = []\n",
    "virus = []\n",
    "for i in range(x):\n",
    "    l = [int(x) for x in list(input().split())]\n",
    "    world.append(l)\n",
    "    while 2 in l:\n",
    "        virus.append([i, l.index(2)])\n",
    "        l = l[l.index(2)+1:]\n",
    "\n"
   ]
  },
  {
   "cell_type": "code",
   "execution_count": 9,
   "id": "quick-hypothetical",
   "metadata": {},
   "outputs": [
    {
     "data": {
      "text/plain": [
       "[[1, 5], [2, 5], [3, 5]]"
      ]
     },
     "execution_count": 9,
     "metadata": {},
     "output_type": "execute_result"
    }
   ],
   "source": [
    "어떻게 할것인가\n",
    "바이러스 주변을 봐?\n",
    "모든 곳에 세워?!"
   ]
  },
  {
   "cell_type": "code",
   "execution_count": null,
   "id": "numerous-night",
   "metadata": {},
   "outputs": [],
   "source": []
  }
 ],
 "metadata": {
  "kernelspec": {
   "display_name": "Python 3",
   "language": "python",
   "name": "python3"
  },
  "language_info": {
   "codemirror_mode": {
    "name": "ipython",
    "version": 3
   },
   "file_extension": ".py",
   "mimetype": "text/x-python",
   "name": "python",
   "nbconvert_exporter": "python",
   "pygments_lexer": "ipython3",
   "version": "3.8.3"
  }
 },
 "nbformat": 4,
 "nbformat_minor": 5
}
