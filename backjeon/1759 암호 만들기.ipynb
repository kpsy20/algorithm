{
 "cells": [
  {
   "cell_type": "code",
   "execution_count": 15,
   "id": "geographic-screen",
   "metadata": {},
   "outputs": [
    {
     "name": "stdout",
     "output_type": "stream",
     "text": [
      "4 6\n",
      "a c i t s w\n",
      "acis\n",
      "acit\n",
      "aciw\n",
      "acst\n",
      "acsw\n",
      "actw\n",
      "aist\n",
      "aisw\n",
      "aitw\n",
      "astw\n",
      "cist\n",
      "cisw\n",
      "citw\n",
      "istw\n"
     ]
    }
   ],
   "source": [
    "from itertools import combinations\n",
    "\n",
    "l, c = map(int, input().split())\n",
    "lock = list(input().split())\n",
    "mo = ['a', 'e', 'i', 'o', 'u']\n",
    "lock_mo = []\n",
    "lock_ja = []\n",
    "for i in lock:\n",
    "    if i in mo:\n",
    "        lock_mo.append(i)\n",
    "    else:\n",
    "        lock_ja.append(i)\n",
    "answer = []    \n",
    "start = 1\n",
    "for num_mo in range(start, min(len(lock_mo)+1, l-1)):\n",
    "    mo_coms = list(combinations(lock_mo, num_mo))\n",
    "    ja_coms = list(combinations(lock_ja, l-num_mo))\n",
    "    for i in mo_coms:\n",
    "        for j in ja_coms:\n",
    "            answer.append(''.join(sorted(i+j)))\n",
    "answer.sort()\n",
    "for i in answer:\n",
    "    print(i)\n",
    "    "
   ]
  },
  {
   "cell_type": "code",
   "execution_count": null,
   "id": "italian-tension",
   "metadata": {},
   "outputs": [],
   "source": []
  }
 ],
 "metadata": {
  "kernelspec": {
   "display_name": "Python 3",
   "language": "python",
   "name": "python3"
  },
  "language_info": {
   "codemirror_mode": {
    "name": "ipython",
    "version": 3
   },
   "file_extension": ".py",
   "mimetype": "text/x-python",
   "name": "python",
   "nbconvert_exporter": "python",
   "pygments_lexer": "ipython3",
   "version": "3.8.3"
  }
 },
 "nbformat": 4,
 "nbformat_minor": 5
}
