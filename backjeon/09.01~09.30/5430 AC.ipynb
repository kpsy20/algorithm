{
 "cells": [
  {
   "cell_type": "code",
   "execution_count": 8,
   "id": "reverse-irrigation",
   "metadata": {},
   "outputs": [
    {
     "name": "stdout",
     "output_type": "stream",
     "text": [
      "4\n",
      "RDD\n",
      "4\n",
      "[1,2,3,4]\n",
      "[2,1]\n",
      "DD\n",
      "1\n",
      "[42]\n",
      "error\n",
      "RRD\n",
      "6\n",
      "[1,1,2,3,5,8]\n",
      "[1,2,3,5,8]\n",
      "2\n",
      "2\n",
      "2\n"
     ]
    },
    {
     "ename": "TypeError",
     "evalue": "'int' object is not iterable",
     "output_type": "error",
     "traceback": [
      "\u001b[1;31m---------------------------------------------------------------------------\u001b[0m",
      "\u001b[1;31mTypeError\u001b[0m                                 Traceback (most recent call last)",
      "\u001b[1;32m<ipython-input-8-eb4f184bc30b>\u001b[0m in \u001b[0;36m<module>\u001b[1;34m\u001b[0m\n\u001b[0;32m      7\u001b[0m     \u001b[0mnum\u001b[0m \u001b[1;33m=\u001b[0m \u001b[0mint\u001b[0m\u001b[1;33m(\u001b[0m\u001b[0minput\u001b[0m\u001b[1;33m(\u001b[0m\u001b[1;33m)\u001b[0m\u001b[1;33m)\u001b[0m\u001b[1;33m\u001b[0m\u001b[1;33m\u001b[0m\u001b[0m\n\u001b[0;32m      8\u001b[0m     \u001b[0mnum\u001b[0m \u001b[1;33m=\u001b[0m \u001b[0minput\u001b[0m\u001b[1;33m(\u001b[0m\u001b[1;33m)\u001b[0m\u001b[1;33m\u001b[0m\u001b[1;33m\u001b[0m\u001b[0m\n\u001b[1;32m----> 9\u001b[1;33m     \u001b[0mnum\u001b[0m \u001b[1;33m=\u001b[0m \u001b[0mdeque\u001b[0m\u001b[1;33m(\u001b[0m\u001b[0mast\u001b[0m\u001b[1;33m.\u001b[0m\u001b[0mliteral_eval\u001b[0m\u001b[1;33m(\u001b[0m\u001b[0mnum\u001b[0m\u001b[1;33m)\u001b[0m\u001b[1;33m)\u001b[0m\u001b[1;33m\u001b[0m\u001b[1;33m\u001b[0m\u001b[0m\n\u001b[0m\u001b[0;32m     10\u001b[0m     \u001b[0mcheck\u001b[0m \u001b[1;33m=\u001b[0m \u001b[1;32mTrue\u001b[0m\u001b[1;33m\u001b[0m\u001b[1;33m\u001b[0m\u001b[0m\n\u001b[0;32m     11\u001b[0m     \u001b[0mans\u001b[0m \u001b[1;33m=\u001b[0m \u001b[1;32mTrue\u001b[0m\u001b[1;33m\u001b[0m\u001b[1;33m\u001b[0m\u001b[0m\n",
      "\u001b[1;31mTypeError\u001b[0m: 'int' object is not iterable"
     ]
    }
   ],
   "source": [
    "import ast \n",
    "from collections import deque\n",
    "\n",
    "test = int(input())\n",
    "for t in range(test):\n",
    "    op = input()\n",
    "    num = int(input())\n",
    "    num = input()\n",
    "    num = deque(ast.literal_eval(num))\n",
    "    check = True\n",
    "    ans = True\n",
    "    for i in range(len(op)):\n",
    "        #print(num)\n",
    "        if op[i] == 'R':\n",
    "            if check:\n",
    "                check = False\n",
    "            else:\n",
    "                check = True\n",
    "        else: #D\n",
    "            if check: \n",
    "                if num:\n",
    "                    num.popleft()\n",
    "                else:\n",
    "                    ans = False\n",
    "                    break\n",
    "            else: #역방향\n",
    "                if num:\n",
    "                    num.pop()\n",
    "                else:\n",
    "                    ans = False\n",
    "                    break\n",
    "                    \n",
    "    if not ans:\n",
    "        print('error')\n",
    "    else:\n",
    "        if check:\n",
    "            print('['+','.join([str(x) for x in num])+']')\n",
    "        else:\n",
    "            num.reverse()\n",
    "            print('['+','.join([str(x) for x in num])+']')"
   ]
  },
  {
   "cell_type": "code",
   "execution_count": null,
   "id": "elect-wiring",
   "metadata": {},
   "outputs": [],
   "source": [
    "4\n",
    "RDD\n",
    "4\n",
    "[1,2,3,4]\n",
    "DD\n",
    "1\n",
    "[42]\n",
    "RRD\n",
    "6\n",
    "[1,1,2,3,5,8]\n",
    "D\n",
    "0\n",
    "[]"
   ]
  },
  {
   "cell_type": "code",
   "execution_count": null,
   "id": "visible-discipline",
   "metadata": {},
   "outputs": [],
   "source": [
    "[2,1]\n",
    "error\n",
    "[1,2,3,5,8]\n",
    "error"
   ]
  }
 ],
 "metadata": {
  "kernelspec": {
   "display_name": "Python 3",
   "language": "python",
   "name": "python3"
  },
  "language_info": {
   "codemirror_mode": {
    "name": "ipython",
    "version": 3
   },
   "file_extension": ".py",
   "mimetype": "text/x-python",
   "name": "python",
   "nbconvert_exporter": "python",
   "pygments_lexer": "ipython3",
   "version": "3.8.3"
  }
 },
 "nbformat": 4,
 "nbformat_minor": 5
}
