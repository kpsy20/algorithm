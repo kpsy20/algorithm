{
 "cells": [
  {
   "cell_type": "code",
   "execution_count": 9,
   "id": "scheduled-portfolio",
   "metadata": {},
   "outputs": [
    {
     "name": "stdout",
     "output_type": "stream",
     "text": [
      "5\n",
      "1 3 2 -1\n",
      "[[], [], [], [], []]\n",
      "2 4 4 -1\n",
      "[[2], [], [], [], []]\n",
      "3 1 2 4 3 -1\n",
      "[[2], [3], [], [], []]\n",
      "[[2], [3], [0], [], []]\n",
      "4 2 4 3 3 5 6 -1\n",
      "[[2], [3], [0, 3], [], []]\n",
      "[[2], [3], [0, 3], [1], []]\n",
      "[[2], [3], [0, 3], [1, 2], []]\n",
      "5 4 6 -1\n",
      "[[2], [3], [0, 3], [1, 2, 4], []]\n"
     ]
    }
   ],
   "source": [
    "n = int(input())\n",
    "def visit(costs, total_cost, out_nodes, root, now, pa):\n",
    "    if out_nodes[now] == [pa]: #끝남\n",
    "        return\n",
    "    for i in range(len(out_nodes[now])):\n",
    "        if out_nodes[now][i] != pa:\n",
    "            total_cost[root][]\n",
    "            visit(costs, total_cost, out_nodes, out_nodes[now][i], now)\n",
    "    \n",
    "\n",
    "#ROOT -> 모든 leaf 노드까지\n",
    "in_degree = [-1 for _ in range(n)]\n",
    "out_nodes = [[] for _ in range(n)]\n",
    "costs = [[0 for x in range(n)] for y in range(n)]\n",
    "for i in range(n):\n",
    "    l = list(map(int, input().split()))\n",
    "    idx = l[0] - 1\n",
    "    for k in range(1, len(l)-1, 2): #노드 시작부터 끝점까지\n",
    "        node = l[k]-1\n",
    "        cost = l[k+1]\n",
    "        out_nodes[idx].append(node)\n",
    "        costs[idx][node] = cost\n",
    "        costs[node][idx] = cost\n",
    "total_cost = [[0 for x in range(n)] for x in range(n)]\n",
    "for i in range(n):\n",
    "    visit(costs, total_cost, out_nodes, i, i, -1)\n",
    "        \n",
    "        "
   ]
  },
  {
   "cell_type": "code",
   "execution_count": 10,
   "id": "thick-karaoke",
   "metadata": {},
   "outputs": [
    {
     "data": {
      "text/plain": [
       "[[2], [3], [0, 3], [1, 2, 4], [3]]"
      ]
     },
     "execution_count": 10,
     "metadata": {},
     "output_type": "execute_result"
    }
   ],
   "source": [
    "out_nodes"
   ]
  },
  {
   "cell_type": "code",
   "execution_count": 11,
   "id": "marine-graduate",
   "metadata": {},
   "outputs": [
    {
     "data": {
      "text/plain": [
       "[[0, 0, 2, 0, 0],\n",
       " [0, 0, 0, 4, 0],\n",
       " [2, 0, 0, 3, 0],\n",
       " [0, 4, 3, 0, 6],\n",
       " [0, 0, 0, 6, 0]]"
      ]
     },
     "execution_count": 11,
     "metadata": {},
     "output_type": "execute_result"
    }
   ],
   "source": [
    "costs"
   ]
  },
  {
   "cell_type": "code",
   "execution_count": null,
   "id": "communist-elite",
   "metadata": {},
   "outputs": [],
   "source": [
    "5\n",
    "1 3 2 -1\n",
    "2 4 4 -1\n",
    "3 1 2 4 3 -1\n",
    "4 2 4 3 3 5 6 -1\n",
    "5 4 6 -1"
   ]
  }
 ],
 "metadata": {
  "kernelspec": {
   "display_name": "Python 3",
   "language": "python",
   "name": "python3"
  },
  "language_info": {
   "codemirror_mode": {
    "name": "ipython",
    "version": 3
   },
   "file_extension": ".py",
   "mimetype": "text/x-python",
   "name": "python",
   "nbconvert_exporter": "python",
   "pygments_lexer": "ipython3",
   "version": "3.8.3"
  }
 },
 "nbformat": 4,
 "nbformat_minor": 5
}
