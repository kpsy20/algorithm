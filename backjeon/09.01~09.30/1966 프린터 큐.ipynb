{
 "cells": [
  {
   "cell_type": "code",
   "execution_count": null,
   "id": "healthy-warrior",
   "metadata": {},
   "outputs": [],
   "source": [
    "1234 -> 2341 -> 3412 -> 4321 -> 321 -> 21 -> 1 -> 0"
   ]
  },
  {
   "cell_type": "code",
   "execution_count": 25,
   "id": "frequent-argentina",
   "metadata": {},
   "outputs": [
    {
     "name": "stdout",
     "output_type": "stream",
     "text": [
      "3\n",
      "1 0\n",
      "5\n",
      "deque([(5, 0)])\n",
      "[(-5, 0)]\n",
      "1\n",
      "4 2\n",
      "1 2 3 4\n",
      "deque([(1, 0), (2, 1), (3, 2), (4, 3)])\n",
      "[(-4, 3), (-2, 1), (-3, 2), (-1, 0)]\n",
      "deque([(2, 1), (3, 2), (4, 3), (1, 0)])\n",
      "[(-4, 3), (-2, 1), (-3, 2), (-1, 0)]\n",
      "deque([(3, 2), (4, 3), (1, 0), (2, 1)])\n",
      "[(-4, 3), (-2, 1), (-3, 2), (-1, 0)]\n",
      "deque([(4, 3), (1, 0), (2, 1), (3, 2)])\n",
      "[(-4, 3), (-2, 1), (-3, 2), (-1, 0)]\n",
      "deque([(1, 0), (2, 1), (3, 2)])\n",
      "[(-3, 2), (-2, 1), (-1, 0)]\n",
      "deque([(2, 1), (3, 2), (1, 0)])\n",
      "[(-3, 2), (-2, 1), (-1, 0)]\n",
      "deque([(3, 2), (1, 0), (2, 1)])\n",
      "[(-3, 2), (-2, 1), (-1, 0)]\n",
      "2\n",
      "6 0\n",
      "1 1 9 1 1 1\n",
      "deque([(1, 0), (1, 1), (9, 2), (1, 3), (1, 4), (1, 5)])\n",
      "[(-9, 2), (-1, 1), (-1, 0), (-1, 3), (-1, 4), (-1, 5)]\n",
      "deque([(1, 1), (9, 2), (1, 3), (1, 4), (1, 5), (1, 0)])\n",
      "[(-9, 2), (-1, 1), (-1, 0), (-1, 3), (-1, 4), (-1, 5)]\n",
      "deque([(9, 2), (1, 3), (1, 4), (1, 5), (1, 0), (1, 1)])\n",
      "[(-9, 2), (-1, 1), (-1, 0), (-1, 3), (-1, 4), (-1, 5)]\n",
      "deque([(1, 3), (1, 4), (1, 5), (1, 0), (1, 1)])\n",
      "[(-1, 0), (-1, 1), (-1, 5), (-1, 3), (-1, 4)]\n",
      "deque([(1, 4), (1, 5), (1, 0), (1, 1)])\n",
      "[(-1, 1), (-1, 3), (-1, 5), (-1, 4)]\n",
      "deque([(1, 5), (1, 0), (1, 1)])\n",
      "[(-1, 3), (-1, 4), (-1, 5)]\n",
      "deque([(1, 0), (1, 1)])\n",
      "[(-1, 4), (-1, 5)]\n",
      "5\n"
     ]
    }
   ],
   "source": [
    "import heapq\n",
    "from collections import deque\n",
    "\n",
    "test = int(input())\n",
    "\n",
    "\n",
    "\n",
    "for t in range(test):\n",
    "    max_val = []\n",
    "    book_num, find_idx = map(int, input().split())\n",
    "    books = list(map(int, input().split()))\n",
    "    books_idx = []\n",
    "    for i in range(len(books)):\n",
    "        books_idx.append((books[i], i))\n",
    "    idx = 0\n",
    "    for book in books:\n",
    "        max_val.append((-book, idx))\n",
    "        idx += 1\n",
    "    heapq.heapify(max_val)\n",
    "    deq_books = deque(books_idx)\n",
    "    idx = 1\n",
    "    while deq_books:\n",
    "        #print(deq_books)\n",
    "        #print(max_val)\n",
    "        if deq_books[0][0] == -max_val[0][0]: #최대값과 같다면\n",
    "            if deq_books[0][1] == find_idx: #찾았다.\n",
    "                print(idx)\n",
    "                break\n",
    "            else:\n",
    "                idx += 1\n",
    "                deq_books.popleft()\n",
    "                heapq.heappop(max_val)\n",
    "        else:\n",
    "            temp = deq_books.popleft()\n",
    "            deq_books.append(temp)\n",
    "        \n",
    "    \n",
    "    \n",
    "    "
   ]
  },
  {
   "cell_type": "code",
   "execution_count": null,
   "id": "suited-colony",
   "metadata": {},
   "outputs": [],
   "source": [
    "3\n",
    "1 0 (문서의 갯수, 궁금한 인덱스)\n",
    "5(중요도)\n",
    "4 2\n",
    "1 2 3 4\n",
    "6 0\n",
    "1 1 9 1 1 1"
   ]
  }
 ],
 "metadata": {
  "kernelspec": {
   "display_name": "Python 3",
   "language": "python",
   "name": "python3"
  },
  "language_info": {
   "codemirror_mode": {
    "name": "ipython",
    "version": 3
   },
   "file_extension": ".py",
   "mimetype": "text/x-python",
   "name": "python",
   "nbconvert_exporter": "python",
   "pygments_lexer": "ipython3",
   "version": "3.8.3"
  }
 },
 "nbformat": 4,
 "nbformat_minor": 5
}
