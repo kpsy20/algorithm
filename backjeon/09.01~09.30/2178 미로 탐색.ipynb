{
 "cells": [
  {
   "cell_type": "code",
   "execution_count": 33,
   "id": "technical-election",
   "metadata": {
    "scrolled": false
   },
   "outputs": [
    {
     "name": "stdout",
     "output_type": "stream",
     "text": [
      "4 6\n",
      "110110\n",
      "110110\n",
      "111111\n",
      "111101\n",
      "9\n"
     ]
    }
   ],
   "source": [
    "import copy\n",
    "\n",
    "n, k = map(int, input().split())\n",
    "\n",
    "world = []\n",
    "for i in range(n):\n",
    "    world.append(list(map(int, input())))\n",
    "    \n",
    "visited = [[False for x in range(k)] for y in range(n)]\n",
    "q = [[0,0]]\n",
    "ans = 1\n",
    "res = False\n",
    "x = [0, 0, 1, -1]\n",
    "y = [1, -1, 0, 0]\n",
    "while q:\n",
    "    new_q = []\n",
    "    while q:    \n",
    "        now = q.pop()  \n",
    "        for i in range(4):\n",
    "            if now[0]+y[i] >= 0 and now[0]+y[i] < n and now[1]+x[i] >= 0 and now[1]+x[i] < k and world[now[0]+y[i]][now[1]+x[i]] == 1:\n",
    "                if visited[now[0]+y[i]][now[1]+x[i]] == False:\n",
    "                    if now[0]+y[i] == n-1 and now[1]+x[i] == k-1:\n",
    "                        res = True\n",
    "                    visited[now[0]+y[i]][now[1]+x[i]] = True\n",
    "                    new_q.append([now[0]+y[i], now[1]+x[i]])\n",
    "    q = copy.deepcopy(new_q)\n",
    "    ans += 1\n",
    "    if res:\n",
    "        break\n",
    "print(ans)\n",
    "        \n",
    "    "
   ]
  },
  {
   "cell_type": "code",
   "execution_count": 9,
   "id": "educational-identification",
   "metadata": {},
   "outputs": [
    {
     "data": {
      "text/plain": [
       "[1, 1, 2, 3]"
      ]
     },
     "execution_count": 9,
     "metadata": {},
     "output_type": "execute_result"
    }
   ],
   "source": [
    "a"
   ]
  },
  {
   "cell_type": "code",
   "execution_count": null,
   "id": "studied-output",
   "metadata": {},
   "outputs": [],
   "source": []
  }
 ],
 "metadata": {
  "kernelspec": {
   "display_name": "Python 3",
   "language": "python",
   "name": "python3"
  },
  "language_info": {
   "codemirror_mode": {
    "name": "ipython",
    "version": 3
   },
   "file_extension": ".py",
   "mimetype": "text/x-python",
   "name": "python",
   "nbconvert_exporter": "python",
   "pygments_lexer": "ipython3",
   "version": "3.8.3"
  }
 },
 "nbformat": 4,
 "nbformat_minor": 5
}
