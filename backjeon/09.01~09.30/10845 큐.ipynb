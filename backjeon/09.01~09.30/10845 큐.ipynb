{
 "cells": [
  {
   "cell_type": "code",
   "execution_count": null,
   "id": "opponent-programming",
   "metadata": {},
   "outputs": [],
   "source": [
    "push X: 정수 X를 큐에 넣는 연산이다.\n",
    "pop: 큐에서 가장 앞에 있는 정수를 빼고, 그 수를 출력한다. 만약 큐에 들어있는 정수가 없는 경우에는 -1을 출력한다.\n",
    "size: 큐에 들어있는 정수의 개수를 출력한다.\n",
    "empty: 큐가 비어있으면 1, 아니면 0을 출력한다.\n",
    "front: 큐의 가장 앞에 있는 정수를 출력한다. 만약 큐에 들어있는 정수가 없는 경우에는 -1을 출력한다.\n",
    "back: 큐의 가장 뒤에 있는 정수를 출력한다. 만약 큐에 들어있는 정수가 없는 경우에는 -1을 출력한다."
   ]
  },
  {
   "cell_type": "code",
   "execution_count": null,
   "id": "healthy-gross",
   "metadata": {},
   "outputs": [],
   "source": [
    "15\n",
    "push 1\n",
    "push 2\n",
    "front\n",
    "back\n",
    "size\n",
    "empty\n",
    "pop\n",
    "pop\n",
    "pop\n",
    "size\n",
    "empty\n",
    "pop\n",
    "push 3\n",
    "empty\n",
    "front"
   ]
  },
  {
   "cell_type": "code",
   "execution_count": null,
   "id": "cross-influence",
   "metadata": {},
   "outputs": [
    {
     "name": "stdout",
     "output_type": "stream",
     "text": [
      "15\n",
      "push 1\n",
      "push 2\n",
      "front\n",
      "1\n",
      "back\n",
      "2\n",
      "size\n",
      "2\n",
      "empty\n",
      "1\n"
     ]
    }
   ],
   "source": [
    "n = int(input())\n",
    "q = [0 for x in range(10010)]\n",
    "front = 0\n",
    "back = 0\n",
    "for i in range(n):\n",
    "    op = input()\n",
    "    if op[:2] == 'pu':\n",
    "        num = int(op.split()[1])\n",
    "        q[back] = num\n",
    "        back += 1\n",
    "    elif op[:2] == 'fr':\n",
    "        if back-front>0:\n",
    "            print(q[front])\n",
    "        else:\n",
    "            print(-1)\n",
    "    elif op[:2] == 'ba':\n",
    "        if back-front>0:\n",
    "            print(q[back-1])\n",
    "        else:\n",
    "            print(-1)\n",
    "    elif op[:2] == 'po':\n",
    "        if back-front>0:\n",
    "            print(q[front])\n",
    "            front += 1\n",
    "        else:\n",
    "            print(-1)\n",
    "    elif op[:2] == 'em':\n",
    "        if back-front>0:\n",
    "            print(0)\n",
    "        else:\n",
    "            print(1)\n",
    "    elif op[:2] == 'si':\n",
    "        print(back-front)"
   ]
  },
  {
   "cell_type": "code",
   "execution_count": 7,
   "id": "american-uncle",
   "metadata": {},
   "outputs": [
    {
     "data": {
      "text/plain": [
       "[0, 33]"
      ]
     },
     "execution_count": 7,
     "metadata": {},
     "output_type": "execute_result"
    }
   ],
   "source": [
    "15\n",
    "push 1\n",
    "push 2\n",
    "front\n",
    "back\n",
    "size\n",
    "empty\n",
    "pop\n",
    "pop\n",
    "pop\n",
    "size\n",
    "empty\n",
    "pop\n",
    "push 3\n",
    "empty\n",
    "front"
   ]
  },
  {
   "cell_type": "code",
   "execution_count": null,
   "id": "graphic-attribute",
   "metadata": {},
   "outputs": [],
   "source": []
  }
 ],
 "metadata": {
  "kernelspec": {
   "display_name": "Python 3",
   "language": "python",
   "name": "python3"
  },
  "language_info": {
   "codemirror_mode": {
    "name": "ipython",
    "version": 3
   },
   "file_extension": ".py",
   "mimetype": "text/x-python",
   "name": "python",
   "nbconvert_exporter": "python",
   "pygments_lexer": "ipython3",
   "version": "3.8.3"
  }
 },
 "nbformat": 4,
 "nbformat_minor": 5
}
