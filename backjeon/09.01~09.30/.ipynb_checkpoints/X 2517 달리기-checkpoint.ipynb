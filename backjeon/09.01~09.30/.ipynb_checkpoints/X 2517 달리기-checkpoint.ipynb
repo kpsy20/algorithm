{
 "cells": [
  {
   "cell_type": "code",
   "execution_count": null,
   "id": "acute-marketplace",
   "metadata": {},
   "outputs": [],
   "source": [
    "import copy\n",
    "n = int(input())\n",
    "run = []\n",
    "for i in range(n):\n",
    "    run.append(int(input()))\n",
    "\n",
    "run_sort = copy.deepcopy(run)\n",
    "run_sort.sort()\n"
   ]
  },
  {
   "cell_type": "code",
   "execution_count": 2,
   "id": "velvet-madagascar",
   "metadata": {},
   "outputs": [
    {
     "data": {
      "text/plain": [
       "64"
      ]
     },
     "execution_count": 2,
     "metadata": {},
     "output_type": "execute_result"
    }
   ],
   "source": []
  },
  {
   "cell_type": "code",
   "execution_count": null,
   "id": "widespread-founder",
   "metadata": {},
   "outputs": [],
   "source": []
  }
 ],
 "metadata": {
  "kernelspec": {
   "display_name": "Python 3",
   "language": "python",
   "name": "python3"
  },
  "language_info": {
   "codemirror_mode": {
    "name": "ipython",
    "version": 3
   },
   "file_extension": ".py",
   "mimetype": "text/x-python",
   "name": "python",
   "nbconvert_exporter": "python",
   "pygments_lexer": "ipython3",
   "version": "3.8.3"
  }
 },
 "nbformat": 4,
 "nbformat_minor": 5
}
