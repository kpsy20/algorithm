{
 "cells": [
  {
   "cell_type": "code",
   "execution_count": 7,
   "id": "received-oxide",
   "metadata": {
    "scrolled": true
   },
   "outputs": [
    {
     "name": "stdout",
     "output_type": "stream",
     "text": [
      "1\n",
      "7\n",
      "3 1 3 7 3 4 6\n",
      "3\n"
     ]
    }
   ],
   "source": [
    "test = int(input())\n",
    "\n",
    "for t in range(test):\n",
    "    num = int(input())\n",
    "    stu = [0] + list(map(int, input().split()))\n",
    "    team = [False for x in range(num+1)]\n",
    "    team[0] = True\n",
    "    never = {}\n",
    "    for i in range(1, len(stu)): #자기가 자기 찍는거 미리 없앰\n",
    "        if i == stu[i]:\n",
    "            team[i] = True\n",
    "    for i in range(1, num+1):\n",
    "        if team[i] == False:\n",
    "            dic = {}\n",
    "            start = i\n",
    "            temp = []\n",
    "            dic[start] = 1\n",
    "            temp.append(start)\n",
    "            check = True\n",
    "            while True: #원이 형성됨, True 로 가면 의미 없음\n",
    "                if stu[start] in dic and team[start] == False:\n",
    "                    #정상 원 형성\n",
    "                    break\n",
    "                if (stu[start] in dic and team[start] == True) or stu[start] in never:\n",
    "                    check = False\n",
    "                    break\n",
    "                dic[stu[start]] = 1\n",
    "                start = stu[start]\n",
    "                temp.append(start)\n",
    "            #print(\"AFTER WHILE\")\n",
    "            #print(team)\n",
    "            #print(dic)\n",
    "            \n",
    "            if check: #원 형성됨. stu[start]가 가리키는 곳이 원의 시작, 끝점\n",
    "                #print(\"TEMP\", temp)\n",
    "                idx = temp.index(stu[start])\n",
    "                for k in range(idx, len(temp)):\n",
    "                    team[temp[k]] = True\n",
    "                #print(team)\n",
    "            #print(\"ALL FINISH\")\n",
    "            #print(team)\n",
    "            else:#이제 여기있는 temp로 가면 무조건 안됨.\n",
    "                for k in range(len(temp)):\n",
    "                    never[temp[k]] = 1\n",
    "        else:\n",
    "            continue\n",
    "    ans = 0\n",
    "    \n",
    "    #print(team)\n",
    "    for i in range(len(team)):\n",
    "        if team[i] == False:\n",
    "            ans += 1\n",
    "    print(ans)"
   ]
  },
  {
   "cell_type": "code",
   "execution_count": 3,
   "id": "educated-respondent",
   "metadata": {},
   "outputs": [
    {
     "data": {
      "text/plain": [
       "[0, 3, 1, 3, 7, 3, 4, 6]"
      ]
     },
     "execution_count": 3,
     "metadata": {},
     "output_type": "execute_result"
    }
   ],
   "source": [
    "stu"
   ]
  },
  {
   "cell_type": "code",
   "execution_count": null,
   "id": "incident-fishing",
   "metadata": {},
   "outputs": [],
   "source": [
    "2\n",
    "7\n",
    "3 1 3 7 3 4 6\n",
    "8\n",
    "1 2 3 4 5 6 7 8"
   ]
  }
 ],
 "metadata": {
  "kernelspec": {
   "display_name": "Python 3",
   "language": "python",
   "name": "python3"
  },
  "language_info": {
   "codemirror_mode": {
    "name": "ipython",
    "version": 3
   },
   "file_extension": ".py",
   "mimetype": "text/x-python",
   "name": "python",
   "nbconvert_exporter": "python",
   "pygments_lexer": "ipython3",
   "version": "3.8.3"
  }
 },
 "nbformat": 4,
 "nbformat_minor": 5
}
