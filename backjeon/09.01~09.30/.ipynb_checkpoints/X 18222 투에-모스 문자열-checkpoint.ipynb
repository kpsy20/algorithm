{
 "cells": [
  {
   "cell_type": "code",
   "execution_count": 2,
   "id": "southwest-munich",
   "metadata": {},
   "outputs": [
    {
     "name": "stdout",
     "output_type": "stream",
     "text": [
      "10\n"
     ]
    }
   ],
   "source": [
    "def make(num, l):\n",
    "    if num == 1:\n",
    "        return [0]\n",
    "    else:\n",
    "        l = make(num-1, l)\n",
    "        \n",
    "n = int(input())\n",
    "t = 1\n",
    "count = 1\n",
    "while t<n:\n",
    "    t *= 2\n",
    "    count += 1\n",
    "# t번 할꺼임\n",
    "res = make(1, '')"
   ]
  },
  {
   "cell_type": "code",
   "execution_count": 3,
   "id": "handed-findings",
   "metadata": {},
   "outputs": [
    {
     "name": "stdout",
     "output_type": "stream",
     "text": [
      "16\n",
      "5\n"
     ]
    }
   ],
   "source": [
    "print(t)\n",
    "print(count)"
   ]
  },
  {
   "cell_type": "code",
   "execution_count": 12,
   "id": "medical-hamburg",
   "metadata": {},
   "outputs": [
    {
     "data": {
      "text/plain": [
       "'1000110'"
      ]
     },
     "execution_count": 12,
     "metadata": {},
     "output_type": "execute_result"
    }
   ],
   "source": []
  },
  {
   "cell_type": "code",
   "execution_count": null,
   "id": "trained-mailman",
   "metadata": {},
   "outputs": [],
   "source": []
  }
 ],
 "metadata": {
  "kernelspec": {
   "display_name": "Python 3",
   "language": "python",
   "name": "python3"
  },
  "language_info": {
   "codemirror_mode": {
    "name": "ipython",
    "version": 3
   },
   "file_extension": ".py",
   "mimetype": "text/x-python",
   "name": "python",
   "nbconvert_exporter": "python",
   "pygments_lexer": "ipython3",
   "version": "3.8.3"
  }
 },
 "nbformat": 4,
 "nbformat_minor": 5
}
