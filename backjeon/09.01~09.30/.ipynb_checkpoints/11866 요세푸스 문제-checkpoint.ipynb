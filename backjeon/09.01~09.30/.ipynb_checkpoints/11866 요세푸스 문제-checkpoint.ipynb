{
 "cells": [
  {
   "cell_type": "code",
   "execution_count": 11,
   "id": "decent-fortune",
   "metadata": {},
   "outputs": [
    {
     "name": "stdout",
     "output_type": "stream",
     "text": [
      "7 3\n",
      "[1, 2, 3, 4, 5, 6, 7]\n",
      "2\n",
      "[1, 2, 4, 5, 6, 7]\n",
      "4\n",
      "[1, 2, 4, 5, 7]\n",
      "1\n",
      "[1, 4, 5, 7]\n",
      "3\n",
      "[1, 4, 5]\n",
      "2\n",
      "[1, 4]\n",
      "0\n",
      "<3, 6, 2, 7, 5, 1, 4>\n"
     ]
    }
   ],
   "source": [
    "n, k = map(int, input().split())\n",
    "num = [x+1 for x in range(n)] #1~7\n",
    "start = k-1\n",
    "while start >= len(num):\n",
    "    start -= len(num)\n",
    "res = []\n",
    "while len(num) > 1:\n",
    "    print(num)\n",
    "    print(start)\n",
    "    res.append(num[start])\n",
    "    del num[start]\n",
    "\n",
    "    start += k-1\n",
    "    while start >= len(num):\n",
    "        start -= len(num)\n",
    "res.append(num[0])\n",
    "print('<'+', '.join([str(x) for x in res])+'>')"
   ]
  },
  {
   "cell_type": "code",
   "execution_count": 10,
   "id": "chinese-lexington",
   "metadata": {},
   "outputs": [
    {
     "data": {
      "text/plain": [
       "[1, 2, 3]"
      ]
     },
     "execution_count": 10,
     "metadata": {},
     "output_type": "execute_result"
    }
   ],
   "source": [
    "res"
   ]
  },
  {
   "cell_type": "code",
   "execution_count": null,
   "id": "congressional-communication",
   "metadata": {},
   "outputs": [],
   "source": []
  }
 ],
 "metadata": {
  "kernelspec": {
   "display_name": "Python 3",
   "language": "python",
   "name": "python3"
  },
  "language_info": {
   "codemirror_mode": {
    "name": "ipython",
    "version": 3
   },
   "file_extension": ".py",
   "mimetype": "text/x-python",
   "name": "python",
   "nbconvert_exporter": "python",
   "pygments_lexer": "ipython3",
   "version": "3.8.3"
  }
 },
 "nbformat": 4,
 "nbformat_minor": 5
}
