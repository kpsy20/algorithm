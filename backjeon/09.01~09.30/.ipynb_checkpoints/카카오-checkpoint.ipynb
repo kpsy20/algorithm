{
 "cells": [
  {
   "cell_type": "code",
   "execution_count": 18,
   "id": "imperial-holly",
   "metadata": {},
   "outputs": [],
   "source": [
    "def solution(id_list, report, k):\n",
    "    answer = []\n",
    "    ban_dict = {}\n",
    "    who_ban = {}\n",
    "    mail = {}\n",
    "    for i in range(len(id_list)):\n",
    "        ban_dict[id_list[i]] = 0\n",
    "        who_ban[id_list[i]] = []\n",
    "        mail[id_list[i]] = 0\n",
    "        #ban dict는 유저가 신고당한 횟수\n",
    "        #id_dict는 유저의 이름에 따른 번호 부여\n",
    "        #who_ban은 유저이름에 따른 신고한 id\n",
    "    for i in range(len(report)):\n",
    "        front, back = report[i].split()\n",
    "        if front in who_ban[back]:\n",
    "            continue\n",
    "        else:\n",
    "            who_ban[back].append(front) #who ban에 신고한 id 넣어줌\n",
    "            ban_dict[back] += 1\n",
    "    \n",
    "    for i in ban_dict:\n",
    "        if ban_dict[i] >= k:\n",
    "            #걔 밴됐어, 메일 날려\n",
    "            for j in who_ban[i]:\n",
    "                mail[j] += 1\n",
    "            \n",
    "    for i in mail:\n",
    "        answer.append(mail[i])\n",
    "    return answer"
   ]
  },
  {
   "cell_type": "code",
   "execution_count": 19,
   "id": "moderate-batch",
   "metadata": {},
   "outputs": [
    {
     "data": {
      "text/plain": [
       "[2, 1, 1, 0]"
      ]
     },
     "execution_count": 19,
     "metadata": {},
     "output_type": "execute_result"
    }
   ],
   "source": [
    "id_list =[\"muzi\", \"frodo\", \"apeach\", \"neo\"]\n",
    "report = [\"muzi frodo\",\"apeach frodo\",\"frodo neo\",\"muzi neo\",\"apeach muzi\"]\n",
    "k = 2\n",
    "solution(id_list, report, k)"
   ]
  },
  {
   "cell_type": "code",
   "execution_count": 44,
   "id": "institutional-cedar",
   "metadata": {},
   "outputs": [],
   "source": [
    "def isPrime(num):\n",
    "    if num==1:\n",
    "        return False\n",
    "    else:\n",
    "        for i in range(2, int(num**0.5)+1):\n",
    "            if num%i == 0:\n",
    "                return False\n",
    "        return True\n",
    "    \n",
    "def solution(n, k):\n",
    "    answer = -1\n",
    "    #n을 k진법으로 표현\n",
    "    change = []\n",
    "    while n > 0:\n",
    "        change.append(n%k)\n",
    "        n //= k\n",
    "    change.append(0)\n",
    "    nums = []\n",
    "    now = 0\n",
    "    count = 0\n",
    "    for i in range(len(change)):\n",
    "        if change[i] == 0 and now != 0:\n",
    "            nums.append(now)\n",
    "            count = 0\n",
    "            now = 0\n",
    "        elif change[i] == 0 and now == 0:\n",
    "            continue\n",
    "        else:\n",
    "            #0이 아닌건 넣어줘야해\n",
    "            now += change[i] * (10**count)\n",
    "            count += 1\n",
    "    print(nums)\n",
    "    for i in nums:\n",
    "        if isPrime(i):\n",
    "            answer += 1\n",
    "            \n",
    "    return answer"
   ]
  },
  {
   "cell_type": "code",
   "execution_count": 45,
   "id": "bulgarian-junior",
   "metadata": {},
   "outputs": [
    {
     "name": "stdout",
     "output_type": "stream",
     "text": [
      "[11, 11]\n"
     ]
    },
    {
     "data": {
      "text/plain": [
       "2"
      ]
     },
     "execution_count": 45,
     "metadata": {},
     "output_type": "execute_result"
    }
   ],
   "source": [
    "solution(110011, 10)"
   ]
  },
  {
   "cell_type": "code",
   "execution_count": 46,
   "id": "common-queue",
   "metadata": {},
   "outputs": [
    {
     "name": "stdout",
     "output_type": "stream",
     "text": [
      "[11, 1, 1, 2, 211]\n"
     ]
    },
    {
     "data": {
      "text/plain": [
       "3"
      ]
     },
     "execution_count": 46,
     "metadata": {},
     "output_type": "execute_result"
    }
   ],
   "source": [
    "solution(437674, 3)"
   ]
  },
  {
   "cell_type": "code",
   "execution_count": 39,
   "id": "hollow-playback",
   "metadata": {},
   "outputs": [
    {
     "data": {
      "text/plain": [
       "False"
      ]
     },
     "execution_count": 39,
     "metadata": {},
     "output_type": "execute_result"
    }
   ],
   "source": [
    "isPrime(1)"
   ]
  },
  {
   "cell_type": "code",
   "execution_count": 73,
   "id": "broadband-apparel",
   "metadata": {},
   "outputs": [
    {
     "data": {
      "text/plain": [
       "[14600, 34400, 5000]"
      ]
     },
     "execution_count": 73,
     "metadata": {},
     "output_type": "execute_result"
    }
   ],
   "source": [
    "def timeCal(time1, time2):# time 1 > time 2\n",
    "    front_hour, front_minute = map(int, time1.split(':'))\n",
    "    back_hour, back_minute = map(int, time2.split(':'))\n",
    "    front_all = front_hour * 60 + front_minute\n",
    "    back_all = back_hour * 60 + back_minute\n",
    "    all_minute = front_all - back_all\n",
    "    return all_minute\n",
    "    \n",
    "def feeCal(time, fee):\n",
    "    money = 0\n",
    "    if time <= fee[0]:\n",
    "        return fee[1]\n",
    "    else:\n",
    "        time -= fee[0]\n",
    "        money += fee[1]\n",
    "        temp = time // fee[2]\n",
    "        if time % fee[2] != 0:\n",
    "            temp += 1 #나머지 있다면 올림\n",
    "        money += fee[3] * temp\n",
    "        return money\n",
    "\n",
    "def solution(fees, records):\n",
    "    answer = []\n",
    "    cars = {}\n",
    "    charge = {}\n",
    "    for i in range(len(records)):\n",
    "        now = records[i]\n",
    "        time, number, io = now.split()\n",
    "       \n",
    "        if number in cars and cars[number] != '0':\n",
    "            #빼는 부분\n",
    "            all_time = timeCal(time, cars[number])\n",
    "            if number in charge:\n",
    "                charge[number] += all_time\n",
    "            else:\n",
    "                charge[number] = all_time\n",
    "            cars[number] = '0'\n",
    "        else:\n",
    "            cars[number] = time\n",
    "            \n",
    "    for i in cars:\n",
    "        if cars[i] != '0':\n",
    "            all_time = timeCal(\"23:59\", cars[i])\n",
    "            all_fee = feeCal(all_time, fees)\n",
    "            if i in charge:\n",
    "                charge[i] += all_time\n",
    "            else:\n",
    "                charge[i] = all_time\n",
    "    real = {}\n",
    "    for i in charge:\n",
    "        real[i] = feeCal(charge[i], fees)\n",
    "    real= sorted(real.items())\n",
    "    for i in real:\n",
    "        answer.append(i[1])\n",
    "\n",
    "    return answer\n",
    "fees = [180, 5000, 10, 600]\n",
    "records = [\"05:34 5961 IN\", \"06:00 0000 IN\", \"06:34 0000 OUT\", \"07:59 5961 OUT\", \"07:59 0148 IN\", \"18:59 0000 IN\", \"19:09 0148 OUT\", \"22:59 5961 IN\", \"23:00 5961 OUT\"]\n",
    "\n",
    "solution(fees, records)\n",
    "\n",
    "\n",
    "\n",
    "\n",
    "\n",
    "\n"
   ]
  },
  {
   "cell_type": "code",
   "execution_count": 142,
   "id": "criminal-insured",
   "metadata": {},
   "outputs": [],
   "source": [
    "maxGap = 0\n",
    "answer = []\n",
    "remainNumber = 0\n",
    "\n",
    "def solution(n, info):\n",
    "    scoreBoard = [x for x in range(10, -1, -1)]\n",
    "    def getScore(a):\n",
    "        score = 0\n",
    "        for i in a:\n",
    "            score += scoreBoard[i]\n",
    "        return score\n",
    "    def getScoreGap(peach, ryan):\n",
    "        peachIdxL = []\n",
    "        for i in range(len(peach)):\n",
    "            if peach[i] > 0:\n",
    "                peachIdxL.append(i)\n",
    "        for r in ryan:\n",
    "            if r in peachIdxL:\n",
    "                peachIdxL.remove(r)\n",
    "        return getScore(ryan) - getScore(peachIdxL)\n",
    "    ryan = [x + 1 for x in info]\n",
    "    def dp(idx, remainN, ryanScore, a):\n",
    "        global maxGap\n",
    "        global answer\n",
    "        global remainNumber\n",
    "        if remainN <= 0 or idx >= len(scoreBoard):\n",
    "            #print(a)\n",
    "            if maxGap <= getScoreGap(info, a):\n",
    "                maxGap = getScoreGap(info, a)\n",
    "                remainNumber = remainN\n",
    "                answer = a\n",
    "            return a.copy()\n",
    "        if remainN >= ryan[idx]:\n",
    "            tempA = a.copy()\n",
    "            tempA.append(idx)\n",
    "            dp(idx + 1, remainN - ryan[idx], ryanScore + scoreBoard[idx], tempA).copy()\n",
    "        dp(idx + 1, remainN, ryanScore, a.copy())\n",
    "        return answer.copy()\n",
    "    \n",
    "    a = dp(0, n, 0, [])\n",
    "    if maxGap <= 0:\n",
    "        return [-1]\n",
    "    else:\n",
    "        result = [0] * 11\n",
    "        for i in range(11):\n",
    "            if i in a:\n",
    "                result[i] = ryan[i]\n",
    "        result[-1] += remainNumber\n",
    "        return result"
   ]
  },
  {
   "cell_type": "code",
   "execution_count": 143,
   "id": "occupational-tribe",
   "metadata": {},
   "outputs": [
    {
     "data": {
      "text/plain": [
       "[-1]"
      ]
     },
     "execution_count": 143,
     "metadata": {},
     "output_type": "execute_result"
    }
   ],
   "source": [
    "n = 1\n",
    "info = [1, 0, 0, 0, 0, 0, 0, 0, 0, 0, 0]\n",
    "solution(n, info)"
   ]
  },
  {
   "cell_type": "code",
   "execution_count": 28,
   "id": "naked-metro",
   "metadata": {},
   "outputs": [],
   "source": [
    "import copy\n",
    "res = 0\n",
    "def solution(info, edges):\n",
    "    answer = 0\n",
    "    in_degree = [-1 for x in range(len(info))]\n",
    "    out_degree = [[] for x in range(len(info))]\n",
    "    \n",
    "    for i in range(len(edges)):\n",
    "        in_degree[edges[i][1]] = edges[i][0]\n",
    "        out_degree[edges[i][0]].append(edges[i][1])\n",
    "    print(in_degree)\n",
    "    print(out_degree)\n",
    "  \n",
    "    def tree(node, in_degree, out_degree, sheep, wolf):\n",
    "        global res\n",
    "        print(node, out_degree, sheep, wolf)\n",
    "        if sheep > res:\n",
    "             res = sheep\n",
    "        if out_degree[node] == []: #leaf노드\n",
    "            return\n",
    "        else:\n",
    "            for i in range(len(out_degree[node])):\n",
    "                if info[out_degree[node][i]] == 0: #양일때\n",
    "                    new_one = copy.deepcopy(out_degree)\n",
    "                    new_one[node] += new_one[new_one[node][i]] #그놈의 out_degree를 붙여줘\n",
    "                    \n",
    "                    new_one[node].remove(out_degree[node][i])\n",
    "                    tree(node, in_degree, new_one, sheep+1, wolf)\n",
    "                elif info[out_degree[node][i]] == 1 and sheep - wolf > 1: #늑대일때\n",
    "                    new_one = copy.deepcopy(out_degree)\n",
    "                    new_one[node] += new_one[new_one[node][i]] #그놈의 out_degree 붙이고\n",
    "                    \n",
    "                    new_one[node].remove(new_one[node][i])\n",
    "                    tree(node, in_degree, new_one, sheep, wolf+1)\n",
    "                    \n",
    "    tree(0, in_degree, out_degree, 1, 0)\n",
    "    \n",
    "    return res"
   ]
  },
  {
   "cell_type": "code",
   "execution_count": 29,
   "id": "legitimate-adjustment",
   "metadata": {},
   "outputs": [
    {
     "data": {
      "text/plain": [
       "0"
      ]
     },
     "execution_count": 29,
     "metadata": {},
     "output_type": "execute_result"
    }
   ],
   "source": [
    "res"
   ]
  },
  {
   "cell_type": "code",
   "execution_count": 30,
   "id": "preceding-commonwealth",
   "metadata": {
    "scrolled": true
   },
   "outputs": [
    {
     "name": "stdout",
     "output_type": "stream",
     "text": [
      "[-1, 0, 1, 4, 1, 6, 4, 8, 0, 8, 9, 9]\n",
      "[[1, 8], [2, 4], [], [], [3, 6], [], [5], [], [7, 9], [10, 11], [], []]\n",
      "0 [[1, 8], [2, 4], [], [], [3, 6], [], [5], [], [7, 9], [10, 11], [], []] 1 0\n",
      "0 [[8, 2, 4], [2, 4], [], [], [3, 6], [], [5], [], [7, 9], [10, 11], [], []] 2 0\n",
      "0 [[2, 4, 7, 9], [2, 4], [], [], [3, 6], [], [5], [], [7, 9], [10, 11], [], []] 2 1\n",
      "0 [[2, 4, 9], [2, 4], [], [], [3, 6], [], [5], [], [7, 9], [10, 11], [], []] 3 1\n",
      "0 [[4, 9], [2, 4], [], [], [3, 6], [], [5], [], [7, 9], [10, 11], [], []] 3 2\n",
      "0 [[4, 10, 11], [2, 4], [], [], [3, 6], [], [5], [], [7, 9], [10, 11], [], []] 4 2\n",
      "0 [[10, 11, 3, 6], [2, 4], [], [], [3, 6], [], [5], [], [7, 9], [10, 11], [], []] 4 3\n",
      "0 [[4, 11], [2, 4], [], [], [3, 6], [], [5], [], [7, 9], [10, 11], [], []] 4 3\n",
      "0 [[4, 10], [2, 4], [], [], [3, 6], [], [5], [], [7, 9], [10, 11], [], []] 4 3\n",
      "0 [[2, 9, 3, 6], [2, 4], [], [], [3, 6], [], [5], [], [7, 9], [10, 11], [], []] 3 2\n",
      "0 [[2, 3, 6, 10, 11], [2, 4], [], [], [3, 6], [], [5], [], [7, 9], [10, 11], [], []] 4 2\n",
      "0 [[3, 6, 10, 11], [2, 4], [], [], [3, 6], [], [5], [], [7, 9], [10, 11], [], []] 4 3\n",
      "0 [[2, 6, 10, 11], [2, 4], [], [], [3, 6], [], [5], [], [7, 9], [10, 11], [], []] 4 3\n",
      "0 [[2, 3, 10, 11, 5], [2, 4], [], [], [3, 6], [], [5], [], [7, 9], [10, 11], [], []] 4 3\n",
      "0 [[2, 3, 10, 11], [2, 4], [], [], [3, 6], [], [5], [], [7, 9], [10, 11], [], []] 5 3\n",
      "0 [[3, 10, 11], [2, 4], [], [], [3, 6], [], [5], [], [7, 9], [10, 11], [], []] 5 4\n",
      "0 [[2, 10, 11], [2, 4], [], [], [3, 6], [], [5], [], [7, 9], [10, 11], [], []] 5 4\n",
      "0 [[2, 3, 11], [2, 4], [], [], [3, 6], [], [5], [], [7, 9], [10, 11], [], []] 5 4\n",
      "0 [[2, 3, 10], [2, 4], [], [], [3, 6], [], [5], [], [7, 9], [10, 11], [], []] 5 4\n",
      "0 [[2, 3, 6, 11], [2, 4], [], [], [3, 6], [], [5], [], [7, 9], [10, 11], [], []] 4 3\n",
      "0 [[2, 3, 6, 10], [2, 4], [], [], [3, 6], [], [5], [], [7, 9], [10, 11], [], []] 4 3\n",
      "0 [[2, 4, 10, 11], [2, 4], [], [], [3, 6], [], [5], [], [7, 9], [10, 11], [], []] 4 1\n",
      "0 [[4, 10, 11], [2, 4], [], [], [3, 6], [], [5], [], [7, 9], [10, 11], [], []] 4 2\n",
      "0 [[10, 11, 3, 6], [2, 4], [], [], [3, 6], [], [5], [], [7, 9], [10, 11], [], []] 4 3\n",
      "0 [[4, 11], [2, 4], [], [], [3, 6], [], [5], [], [7, 9], [10, 11], [], []] 4 3\n",
      "0 [[4, 10], [2, 4], [], [], [3, 6], [], [5], [], [7, 9], [10, 11], [], []] 4 3\n",
      "0 [[2, 10, 11, 3, 6], [2, 4], [], [], [3, 6], [], [5], [], [7, 9], [10, 11], [], []] 4 2\n",
      "0 [[10, 11, 3, 6], [2, 4], [], [], [3, 6], [], [5], [], [7, 9], [10, 11], [], []] 4 3\n",
      "0 [[2, 11, 3, 6], [2, 4], [], [], [3, 6], [], [5], [], [7, 9], [10, 11], [], []] 4 3\n",
      "0 [[2, 10, 3, 6], [2, 4], [], [], [3, 6], [], [5], [], [7, 9], [10, 11], [], []] 4 3\n",
      "0 [[2, 10, 11, 6], [2, 4], [], [], [3, 6], [], [5], [], [7, 9], [10, 11], [], []] 4 3\n",
      "0 [[2, 10, 11, 3, 5], [2, 4], [], [], [3, 6], [], [5], [], [7, 9], [10, 11], [], []] 4 3\n",
      "0 [[2, 10, 11, 3], [2, 4], [], [], [3, 6], [], [5], [], [7, 9], [10, 11], [], []] 5 3\n",
      "0 [[10, 11, 3], [2, 4], [], [], [3, 6], [], [5], [], [7, 9], [10, 11], [], []] 5 4\n",
      "0 [[2, 11, 3], [2, 4], [], [], [3, 6], [], [5], [], [7, 9], [10, 11], [], []] 5 4\n",
      "0 [[2, 10, 3], [2, 4], [], [], [3, 6], [], [5], [], [7, 9], [10, 11], [], []] 5 4\n",
      "0 [[2, 10, 11], [2, 4], [], [], [3, 6], [], [5], [], [7, 9], [10, 11], [], []] 5 4\n",
      "0 [[2, 4, 11], [2, 4], [], [], [3, 6], [], [5], [], [7, 9], [10, 11], [], []] 4 2\n",
      "0 [[4, 11], [2, 4], [], [], [3, 6], [], [5], [], [7, 9], [10, 11], [], []] 4 3\n",
      "0 [[2, 11, 3, 6], [2, 4], [], [], [3, 6], [], [5], [], [7, 9], [10, 11], [], []] 4 3\n",
      "0 [[2, 4], [2, 4], [], [], [3, 6], [], [5], [], [7, 9], [10, 11], [], []] 4 3\n",
      "0 [[2, 4, 10], [2, 4], [], [], [3, 6], [], [5], [], [7, 9], [10, 11], [], []] 4 2\n",
      "0 [[4, 10], [2, 4], [], [], [3, 6], [], [5], [], [7, 9], [10, 11], [], []] 4 3\n",
      "0 [[2, 10, 3, 6], [2, 4], [], [], [3, 6], [], [5], [], [7, 9], [10, 11], [], []] 4 3\n",
      "0 [[2, 4], [2, 4], [], [], [3, 6], [], [5], [], [7, 9], [10, 11], [], []] 4 3\n",
      "0 [[2, 4, 7, 10, 11], [2, 4], [], [], [3, 6], [], [5], [], [7, 9], [10, 11], [], []] 3 1\n",
      "0 [[4, 7, 10, 11], [2, 4], [], [], [3, 6], [], [5], [], [7, 9], [10, 11], [], []] 3 2\n",
      "0 [[4, 10, 11], [2, 4], [], [], [3, 6], [], [5], [], [7, 9], [10, 11], [], []] 4 2\n",
      "0 [[10, 11, 3, 6], [2, 4], [], [], [3, 6], [], [5], [], [7, 9], [10, 11], [], []] 4 3\n",
      "0 [[4, 11], [2, 4], [], [], [3, 6], [], [5], [], [7, 9], [10, 11], [], []] 4 3\n",
      "0 [[4, 10], [2, 4], [], [], [3, 6], [], [5], [], [7, 9], [10, 11], [], []] 4 3\n",
      "0 [[2, 7, 10, 11, 3, 6], [2, 4], [], [], [3, 6], [], [5], [], [7, 9], [10, 11], [], []] 3 2\n",
      "0 [[2, 10, 11, 3, 6], [2, 4], [], [], [3, 6], [], [5], [], [7, 9], [10, 11], [], []] 4 2\n",
      "0 [[10, 11, 3, 6], [2, 4], [], [], [3, 6], [], [5], [], [7, 9], [10, 11], [], []] 4 3\n",
      "0 [[2, 11, 3, 6], [2, 4], [], [], [3, 6], [], [5], [], [7, 9], [10, 11], [], []] 4 3\n",
      "0 [[2, 10, 3, 6], [2, 4], [], [], [3, 6], [], [5], [], [7, 9], [10, 11], [], []] 4 3\n",
      "0 [[2, 10, 11, 6], [2, 4], [], [], [3, 6], [], [5], [], [7, 9], [10, 11], [], []] 4 3\n",
      "0 [[2, 10, 11, 3, 5], [2, 4], [], [], [3, 6], [], [5], [], [7, 9], [10, 11], [], []] 4 3\n",
      "0 [[2, 10, 11, 3], [2, 4], [], [], [3, 6], [], [5], [], [7, 9], [10, 11], [], []] 5 3\n",
      "0 [[10, 11, 3], [2, 4], [], [], [3, 6], [], [5], [], [7, 9], [10, 11], [], []] 5 4\n",
      "0 [[2, 11, 3], [2, 4], [], [], [3, 6], [], [5], [], [7, 9], [10, 11], [], []] 5 4\n",
      "0 [[2, 10, 3], [2, 4], [], [], [3, 6], [], [5], [], [7, 9], [10, 11], [], []] 5 4\n",
      "0 [[2, 10, 11], [2, 4], [], [], [3, 6], [], [5], [], [7, 9], [10, 11], [], []] 5 4\n",
      "0 [[2, 4, 10, 11], [2, 4], [], [], [3, 6], [], [5], [], [7, 9], [10, 11], [], []] 4 1\n",
      "0 [[4, 10, 11], [2, 4], [], [], [3, 6], [], [5], [], [7, 9], [10, 11], [], []] 4 2\n",
      "0 [[10, 11, 3, 6], [2, 4], [], [], [3, 6], [], [5], [], [7, 9], [10, 11], [], []] 4 3\n",
      "0 [[4, 11], [2, 4], [], [], [3, 6], [], [5], [], [7, 9], [10, 11], [], []] 4 3\n",
      "0 [[4, 10], [2, 4], [], [], [3, 6], [], [5], [], [7, 9], [10, 11], [], []] 4 3\n",
      "0 [[2, 10, 11, 3, 6], [2, 4], [], [], [3, 6], [], [5], [], [7, 9], [10, 11], [], []] 4 2\n",
      "0 [[10, 11, 3, 6], [2, 4], [], [], [3, 6], [], [5], [], [7, 9], [10, 11], [], []] 4 3\n",
      "0 [[2, 11, 3, 6], [2, 4], [], [], [3, 6], [], [5], [], [7, 9], [10, 11], [], []] 4 3\n",
      "0 [[2, 10, 3, 6], [2, 4], [], [], [3, 6], [], [5], [], [7, 9], [10, 11], [], []] 4 3\n",
      "0 [[2, 10, 11, 6], [2, 4], [], [], [3, 6], [], [5], [], [7, 9], [10, 11], [], []] 4 3\n",
      "0 [[2, 10, 11, 3, 5], [2, 4], [], [], [3, 6], [], [5], [], [7, 9], [10, 11], [], []] 4 3\n",
      "0 [[2, 10, 11, 3], [2, 4], [], [], [3, 6], [], [5], [], [7, 9], [10, 11], [], []] 5 3\n",
      "0 [[10, 11, 3], [2, 4], [], [], [3, 6], [], [5], [], [7, 9], [10, 11], [], []] 5 4\n",
      "0 [[2, 11, 3], [2, 4], [], [], [3, 6], [], [5], [], [7, 9], [10, 11], [], []] 5 4\n",
      "0 [[2, 10, 3], [2, 4], [], [], [3, 6], [], [5], [], [7, 9], [10, 11], [], []] 5 4\n",
      "0 [[2, 10, 11], [2, 4], [], [], [3, 6], [], [5], [], [7, 9], [10, 11], [], []] 5 4\n",
      "0 [[2, 4, 11], [2, 4], [], [], [3, 6], [], [5], [], [7, 9], [10, 11], [], []] 4 2\n",
      "0 [[4, 11], [2, 4], [], [], [3, 6], [], [5], [], [7, 9], [10, 11], [], []] 4 3\n",
      "0 [[2, 11, 3, 6], [2, 4], [], [], [3, 6], [], [5], [], [7, 9], [10, 11], [], []] 4 3\n",
      "0 [[2, 4], [2, 4], [], [], [3, 6], [], [5], [], [7, 9], [10, 11], [], []] 4 3\n",
      "0 [[2, 4, 10], [2, 4], [], [], [3, 6], [], [5], [], [7, 9], [10, 11], [], []] 4 2\n",
      "0 [[4, 10], [2, 4], [], [], [3, 6], [], [5], [], [7, 9], [10, 11], [], []] 4 3\n",
      "0 [[2, 10, 3, 6], [2, 4], [], [], [3, 6], [], [5], [], [7, 9], [10, 11], [], []] 4 3\n",
      "0 [[2, 4], [2, 4], [], [], [3, 6], [], [5], [], [7, 9], [10, 11], [], []] 4 3\n",
      "0 [[2, 4, 7, 11], [2, 4], [], [], [3, 6], [], [5], [], [7, 9], [10, 11], [], []] 3 2\n",
      "0 [[2, 4, 11], [2, 4], [], [], [3, 6], [], [5], [], [7, 9], [10, 11], [], []] 4 2\n",
      "0 [[4, 11], [2, 4], [], [], [3, 6], [], [5], [], [7, 9], [10, 11], [], []] 4 3\n",
      "0 [[2, 11, 3, 6], [2, 4], [], [], [3, 6], [], [5], [], [7, 9], [10, 11], [], []] 4 3\n",
      "0 [[2, 4], [2, 4], [], [], [3, 6], [], [5], [], [7, 9], [10, 11], [], []] 4 3\n",
      "0 [[2, 4, 7, 10], [2, 4], [], [], [3, 6], [], [5], [], [7, 9], [10, 11], [], []] 3 2\n",
      "0 [[2, 4, 10], [2, 4], [], [], [3, 6], [], [5], [], [7, 9], [10, 11], [], []] 4 2\n",
      "0 [[4, 10], [2, 4], [], [], [3, 6], [], [5], [], [7, 9], [10, 11], [], []] 4 3\n",
      "0 [[2, 10, 3, 6], [2, 4], [], [], [3, 6], [], [5], [], [7, 9], [10, 11], [], []] 4 3\n",
      "0 [[2, 4], [2, 4], [], [], [3, 6], [], [5], [], [7, 9], [10, 11], [], []] 4 3\n",
      "0 [[8, 4], [2, 4], [], [], [3, 6], [], [5], [], [7, 9], [10, 11], [], []] 2 1\n",
      "0 [[8, 2, 3, 6], [2, 4], [], [], [3, 6], [], [5], [], [7, 9], [10, 11], [], []] 2 1\n"
     ]
    },
    {
     "data": {
      "text/plain": [
       "5"
      ]
     },
     "execution_count": 30,
     "metadata": {},
     "output_type": "execute_result"
    }
   ],
   "source": [
    "info = [0,0,1,1,1,0,1,0,1,0,1,1]\n",
    "edges = [[0,1],[1,2],[1,4],[0,8],[8,7],[9,10],[9,11],[4,3],[6,5],[4,6],[8,9]]\n",
    "solution(info, edges)"
   ]
  },
  {
   "cell_type": "code",
   "execution_count": 6,
   "id": "subject-webcam",
   "metadata": {},
   "outputs": [
    {
     "name": "stdout",
     "output_type": "stream",
     "text": [
      "[2, 3]\n"
     ]
    }
   ],
   "source": [
    "a = [1,2,3]\n",
    "a.remove(1)\n",
    "print(a)"
   ]
  },
  {
   "cell_type": "code",
   "execution_count": null,
   "id": "emerging-simple",
   "metadata": {},
   "outputs": [],
   "source": [
    "def solution(board, skill):\n",
    "    skill = sorted(skill, key = lambda x : (x[1],x[2],x[3],x[4]))\n",
    "    \n",
    "        \n",
    "    \n",
    "\n",
    "    return answer"
   ]
  },
  {
   "cell_type": "code",
   "execution_count": 39,
   "id": "expensive-louisiana",
   "metadata": {},
   "outputs": [
    {
     "name": "stdout",
     "output_type": "stream",
     "text": [
      "0\n",
      "2\n",
      "4\n"
     ]
    }
   ],
   "source": [
    "skill = [[1,0,0,3,4,4],[1,2,0,2,3,2],[2,1,0,3,1,2],[1,0,1,3,3,1]]\n",
    "a = len(skill)\n",
    "l=[]\n",
    "su=0\n",
    "for i in range(a):\n",
    "    t=skill[i]\n",
    "    l.append([t[1],t[2],t[4], 1, t[0], t[5]])\n",
    "    l.append([t[3],t[2],t[4],-1, t[0], t[5]])\n",
    "\n",
    "    \n",
    "l.sort()\n",
    "s=0\n",
    "t=[0]*1001\n",
    "\n",
    "for i in range(a*2):\n",
    "    v=0\n",
    "    for g in range(1001):\n",
    "        if t[g]>0:\n",
    "            v+=1\n",
    "    s+=(l[i][0]-l[i-1][0])*v\n",
    "    for g in range(l[i][1],l[i][2]):\n",
    "        t[g]+=l[i][3]\n",
    "print(s)"
   ]
  },
  {
   "cell_type": "code",
   "execution_count": null,
   "id": "blank-header",
   "metadata": {},
   "outputs": [],
   "source": [
    "2\n",
    "10 10 20 20\n",
    "15 15 25 30"
   ]
  }
 ],
 "metadata": {
  "kernelspec": {
   "display_name": "Python 3",
   "language": "python",
   "name": "python3"
  },
  "language_info": {
   "codemirror_mode": {
    "name": "ipython",
    "version": 3
   },
   "file_extension": ".py",
   "mimetype": "text/x-python",
   "name": "python",
   "nbconvert_exporter": "python",
   "pygments_lexer": "ipython3",
   "version": "3.8.3"
  }
 },
 "nbformat": 4,
 "nbformat_minor": 5
}
