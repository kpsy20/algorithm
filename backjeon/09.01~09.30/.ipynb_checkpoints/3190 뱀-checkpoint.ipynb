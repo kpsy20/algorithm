{
 "cells": [
  {
   "cell_type": "code",
   "execution_count": 56,
   "id": "expensive-sequence",
   "metadata": {
    "scrolled": false
   },
   "outputs": [
    {
     "name": "stdout",
     "output_type": "stream",
     "text": [
      "10\n",
      "5\n",
      "1 2\n",
      "1 3\n",
      "1 5\n",
      "1 6\n",
      "1 7\n",
      "4\n",
      "8 D\n",
      "10 D\n",
      "11 D\n",
      "13 L\n",
      "deque([[0, 0]])\n",
      "{1: 1, 2: 1, 4: 1, 5: 1, 6: 1}\n",
      "deque([[0, 0], [0, 1]])\n",
      "{2: 1, 4: 1, 5: 1, 6: 1}\n",
      "deque([[0, 0], [0, 1], [0, 2]])\n",
      "{4: 1, 5: 1, 6: 1}\n",
      "deque([[0, 1], [0, 2], [0, 3]])\n",
      "{4: 1, 5: 1, 6: 1}\n",
      "deque([[0, 1], [0, 2], [0, 3], [0, 4]])\n",
      "{5: 1, 6: 1}\n",
      "deque([[0, 1], [0, 2], [0, 3], [0, 4], [0, 5]])\n",
      "{6: 1}\n",
      "deque([[0, 1], [0, 2], [0, 3], [0, 4], [0, 5], [0, 6]])\n",
      "{}\n",
      "deque([[0, 2], [0, 3], [0, 4], [0, 5], [0, 6], [0, 7]])\n",
      "{}\n",
      "deque([[0, 3], [0, 4], [0, 5], [0, 6], [0, 7], [0, 8]])\n",
      "{}\n",
      "deque([[0, 4], [0, 5], [0, 6], [0, 7], [0, 8], [1, 8]])\n",
      "{}\n",
      "deque([[0, 5], [0, 6], [0, 7], [0, 8], [1, 8], [2, 8]])\n",
      "{}\n",
      "deque([[0, 6], [0, 7], [0, 8], [1, 8], [2, 8], [2, 7]])\n",
      "{}\n",
      "13\n"
     ]
    }
   ],
   "source": [
    "from collections import deque\n",
    "import itertools\n",
    "n = int(input())\n",
    "num_apple = int(input())\n",
    "apples = {}\n",
    "for i in range(num_apple):\n",
    "    l = list(map(int, input().split()))\n",
    "    apples[(l[0]-1)*100+l[1]-1] = 1\n",
    "num_move = int(input())\n",
    "moves = []\n",
    "for i in range(num_move):\n",
    "    moves.append(list(map(str, input().split())))\n",
    "snake = deque([[0,0]])\n",
    "direction = [[0, 1], [1, 0], [0, -1], [-1, 0]]\n",
    "di = 0\n",
    "ans = 0\n",
    "idx = 0\n",
    "while snake[-1][0] + direction[di][0] >= 0 and snake[-1][0] + direction[di][0] < n and snake[-1][1] + direction[di][1] >= 0 and snake[-1][1] + direction[di][1] < n and [snake[-1][0]+direction[di][0], snake[-1][1]+direction[di][1]] not in list(itertools.islice(snake, 0, len(snake)-1)): \n",
    "    print(snake)\n",
    "    print(apples)\n",
    "    if (snake[-1][0] + direction[di][0]) * 100 + snake[-1][1] + direction[di][1] in apples:\n",
    "        del apples[(snake[-1][0] + direction[di][0]) * 100 + snake[-1][1] + direction[di][1]]\n",
    "        snake.append([snake[-1][0] + direction[di][0], snake[-1][1] + direction[di][1]])\n",
    "    else:\n",
    "        snake.append([snake[-1][0] + direction[di][0], snake[-1][1] + direction[di][1]])\n",
    "        snake.popleft()\n",
    "    ans += 1\n",
    "    if idx<len(moves) and int(moves[idx][0]) == ans:\n",
    "        if moves[idx][1] == 'D': #오른쪽\n",
    "            di += 1\n",
    "            if di == 4:\n",
    "                di = 0\n",
    "        else:# 왼쪽\n",
    "            di -= 1\n",
    "            if di == -1:\n",
    "                di = 3\n",
    "        idx += 1\n",
    "print(ans+1)\n",
    "     \n",
    "        "
   ]
  },
  {
   "cell_type": "code",
   "execution_count": null,
   "id": "equipped-learning",
   "metadata": {},
   "outputs": [],
   "source": []
  }
 ],
 "metadata": {
  "kernelspec": {
   "display_name": "Python 3",
   "language": "python",
   "name": "python3"
  },
  "language_info": {
   "codemirror_mode": {
    "name": "ipython",
    "version": 3
   },
   "file_extension": ".py",
   "mimetype": "text/x-python",
   "name": "python",
   "nbconvert_exporter": "python",
   "pygments_lexer": "ipython3",
   "version": "3.8.3"
  }
 },
 "nbformat": 4,
 "nbformat_minor": 5
}
