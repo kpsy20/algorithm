{
 "cells": [
  {
   "cell_type": "code",
   "execution_count": 4,
   "id": "decimal-kansas",
   "metadata": {},
   "outputs": [
    {
     "name": "stdout",
     "output_type": "stream",
     "text": [
      "15\n",
      "1 2\n",
      "1 3\n",
      "2 4\n",
      "3 7\n",
      "6 2\n",
      "3 8\n",
      "4 9\n",
      "2 5\n",
      "5 11\n",
      "7 13\n",
      "10 4\n",
      "11 15\n",
      "12 5\n",
      "14 7\n",
      "6\n",
      "6 11\n",
      "6\n",
      "10 9\n",
      "10\n",
      "wde\n"
     ]
    },
    {
     "ename": "ValueError",
     "evalue": "invalid literal for int() with base 10: 'wde'",
     "output_type": "error",
     "traceback": [
      "\u001b[1;31m---------------------------------------------------------------------------\u001b[0m",
      "\u001b[1;31mValueError\u001b[0m                                Traceback (most recent call last)",
      "\u001b[1;32m<ipython-input-4-ddf01d636182>\u001b[0m in \u001b[0;36m<module>\u001b[1;34m\u001b[0m\n\u001b[0;32m     11\u001b[0m \u001b[0mtest\u001b[0m \u001b[1;33m=\u001b[0m \u001b[0mint\u001b[0m\u001b[1;33m(\u001b[0m\u001b[0minput\u001b[0m\u001b[1;33m(\u001b[0m\u001b[1;33m)\u001b[0m\u001b[1;33m)\u001b[0m\u001b[1;33m\u001b[0m\u001b[1;33m\u001b[0m\u001b[0m\n\u001b[0;32m     12\u001b[0m \u001b[1;32mfor\u001b[0m \u001b[0mi\u001b[0m \u001b[1;32min\u001b[0m \u001b[0mrange\u001b[0m\u001b[1;33m(\u001b[0m\u001b[0mtest\u001b[0m\u001b[1;33m)\u001b[0m\u001b[1;33m:\u001b[0m\u001b[1;33m\u001b[0m\u001b[1;33m\u001b[0m\u001b[0m\n\u001b[1;32m---> 13\u001b[1;33m     \u001b[0ma\u001b[0m\u001b[1;33m,\u001b[0m \u001b[0mb\u001b[0m \u001b[1;33m=\u001b[0m \u001b[0mmap\u001b[0m\u001b[1;33m(\u001b[0m\u001b[0mint\u001b[0m\u001b[1;33m,\u001b[0m \u001b[0minput\u001b[0m\u001b[1;33m(\u001b[0m\u001b[1;33m)\u001b[0m\u001b[1;33m.\u001b[0m\u001b[0msplit\u001b[0m\u001b[1;33m(\u001b[0m\u001b[1;33m)\u001b[0m\u001b[1;33m)\u001b[0m\u001b[1;33m\u001b[0m\u001b[1;33m\u001b[0m\u001b[0m\n\u001b[0m\u001b[0;32m     14\u001b[0m     \u001b[1;31m#a, b = map(int, sys.stdin.readline().split())\u001b[0m\u001b[1;33m\u001b[0m\u001b[1;33m\u001b[0m\u001b[1;33m\u001b[0m\u001b[0m\n\u001b[0;32m     15\u001b[0m     \u001b[0ma\u001b[0m\u001b[1;33m-=\u001b[0m\u001b[1;36m1\u001b[0m\u001b[1;33m\u001b[0m\u001b[1;33m\u001b[0m\u001b[0m\n",
      "\u001b[1;31mValueError\u001b[0m: invalid literal for int() with base 10: 'wde'"
     ]
    }
   ],
   "source": [
    "import sys\n",
    "num_nodes = int(input())\n",
    "out_nodes = [-1 for x in range(num_nodes)]\n",
    "for j in range(num_nodes-1): #간선의 갯수\n",
    "    #a, b --> a가 b의 조상\n",
    "    a, b = map(int, input().split())\n",
    "    #a, b = map(int, sys.stdin.readline().split())\n",
    "    a-=1\n",
    "    b-=1\n",
    "    out_nodes[b] = a\n",
    "test = int(input())\n",
    "for i in range(test):\n",
    "    a, b = map(int, input().split())\n",
    "    #a, b = map(int, sys.stdin.readline().split())\n",
    "    a-=1\n",
    "    b-=1\n",
    "    a_root = [a]\n",
    "    b_root = [b]\n",
    "    while out_nodes[a] != -1:\n",
    "        a = out_nodes[a]\n",
    "        a_root.append(a)\n",
    "    while out_nodes[b] != -1:\n",
    "        b = out_nodes[b]\n",
    "        b_root.append(b)\n",
    "    idx = 1\n",
    "    while idx <= min(len(a_root), len(b_root)) and a_root[-idx] == b_root[-idx]:\n",
    "        idx += 1\n",
    "    print(a_root[-idx+1]+1)"
   ]
  },
  {
   "cell_type": "code",
   "execution_count": null,
   "id": "convertible-billion",
   "metadata": {},
   "outputs": [],
   "source": []
  }
 ],
 "metadata": {
  "kernelspec": {
   "display_name": "Python 3",
   "language": "python",
   "name": "python3"
  },
  "language_info": {
   "codemirror_mode": {
    "name": "ipython",
    "version": 3
   },
   "file_extension": ".py",
   "mimetype": "text/x-python",
   "name": "python",
   "nbconvert_exporter": "python",
   "pygments_lexer": "ipython3",
   "version": "3.8.3"
  }
 },
 "nbformat": 4,
 "nbformat_minor": 5
}
