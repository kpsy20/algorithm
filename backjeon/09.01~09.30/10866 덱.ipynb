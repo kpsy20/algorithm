{
 "cells": [
  {
   "cell_type": "code",
   "execution_count": null,
   "id": "greatest-welcome",
   "metadata": {},
   "outputs": [],
   "source": [
    "push_front X: 정수 X를 덱의 앞에 넣는다.\n",
    "push_back X: 정수 X를 덱의 뒤에 넣는다.\n",
    "pop_front: 덱의 가장 앞에 있는 수를 빼고, 그 수를 출력한다. 만약, 덱에 들어있는 정수가 없는 경우에는 -1을 출력한다.\n",
    "pop_back: 덱의 가장 뒤에 있는 수를 빼고, 그 수를 출력한다. 만약, 덱에 들어있는 정수가 없는 경우에는 -1을 출력한다.\n",
    "size: 덱에 들어있는 정수의 개수를 출력한다.\n",
    "empty: 덱이 비어있으면 1을, 아니면 0을 출력한다.\n",
    "front: 덱의 가장 앞에 있는 정수를 출력한다. 만약 덱에 들어있는 정수가 없는 경우에는 -1을 출력한다.\n",
    "back: 덱의 가장 뒤에 있는 정수를 출력한다. 만약 덱에 들어있는 정수가 없는 경우에는 -1을 출력한다."
   ]
  },
  {
   "cell_type": "code",
   "execution_count": 1,
   "id": "circular-relations",
   "metadata": {},
   "outputs": [
    {
     "name": "stdout",
     "output_type": "stream",
     "text": [
      "15\n",
      "push_back 1\n",
      "push_front 2\n",
      "front\n",
      "back\n",
      "size\n",
      "empty\n",
      "pop_front\n",
      "pop_back\n",
      "pop_front\n",
      "size\n",
      "empty\n",
      "pop_back\n",
      "push_front 3\n",
      "empty\n",
      "front\n",
      "2\n",
      "1\n",
      "2\n",
      "0\n",
      "2\n",
      "1\n",
      "-1\n",
      "0\n",
      "1\n",
      "-1\n",
      "0\n",
      "3\n"
     ]
    }
   ],
   "source": [
    "from collections import deque\n",
    "q = deque([])\n",
    "n = int(input())\n",
    "res = []\n",
    "for i in range(n):\n",
    "    op = input().split()\n",
    "    if op[0][1] == 'u':\n",
    "        if op[0][5] == 'f':\n",
    "            q.appendleft(int(op[1]))\n",
    "        else:\n",
    "            q.append(int(op[1]))\n",
    "    elif op[0][1] == 'o':\n",
    "        if op[0][4] == 'f':\n",
    "            if q:\n",
    "                res.append(str(q.popleft()))\n",
    "            else:\n",
    "                res.append('-1')\n",
    "        else:\n",
    "            if q:\n",
    "                res.append(str(q.pop()))\n",
    "            else:\n",
    "                res.append('-1')\n",
    "    elif op[0][1] == 'i':\n",
    "        res.append(str(len(q)))\n",
    "    elif op[0][1] == 'm':\n",
    "        if q:\n",
    "            res.append('0')\n",
    "        else:\n",
    "            res.append('1')\n",
    "    elif op[0][1] == 'r':\n",
    "        if q:\n",
    "            res.append(str(q[0]))\n",
    "        else:\n",
    "            res.append('-1')\n",
    "    elif op[0][1] == 'a':\n",
    "        if q:\n",
    "            res.append(str(q[-1]))\n",
    "        else:\n",
    "            res.append('-1')\n",
    "print('\\n'.join(res))"
   ]
  },
  {
   "cell_type": "code",
   "execution_count": null,
   "id": "streaming-anniversary",
   "metadata": {},
   "outputs": [],
   "source": [
    "15\n",
    "push_back 1\n",
    "push_front 2\n",
    "front\n",
    "back\n",
    "size\n",
    "empty\n",
    "pop_front\n",
    "pop_back\n",
    "pop_front\n",
    "size\n",
    "empty\n",
    "pop_back\n",
    "push_front 3\n",
    "empty\n",
    "front"
   ]
  }
 ],
 "metadata": {
  "kernelspec": {
   "display_name": "Python 3",
   "language": "python",
   "name": "python3"
  },
  "language_info": {
   "codemirror_mode": {
    "name": "ipython",
    "version": 3
   },
   "file_extension": ".py",
   "mimetype": "text/x-python",
   "name": "python",
   "nbconvert_exporter": "python",
   "pygments_lexer": "ipython3",
   "version": "3.8.3"
  }
 },
 "nbformat": 4,
 "nbformat_minor": 5
}
