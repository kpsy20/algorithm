{
 "cells": [
  {
   "cell_type": "code",
   "execution_count": 44,
   "id": "narrow-chart",
   "metadata": {
    "scrolled": true
   },
   "outputs": [
    {
     "name": "stdout",
     "output_type": "stream",
     "text": [
      "3 3\n",
      "9919\n",
      "991\n",
      "91\n",
      "991999191\n"
     ]
    }
   ],
   "source": [
    "k, n = map(int, input().split())\n",
    "nums = []\n",
    "for i in range(k):\n",
    "    num = int(input())\n",
    "    nums.append([num, num])\n",
    "\n",
    "#일단 모두 1번 이상씩 써야됨. 그럼 9, 98, 987 있을 때 9 98 987 으로 놔야함.\n",
    "nums.sort()\n",
    "max_val = nums[-1][0]\n",
    "\n",
    "max_len = len(str(nums[-1][0]))\n",
    "for i in range(k):\n",
    "    nums[i][0] = int(str(nums[i][0]) + str(nums[i][0]%10)*(max_len - len(str(nums[i][0]))))\n",
    "nums.sort(key=lambda x:(x[0], x[1]), reverse = True)\n",
    "ans = ''\n",
    "for i in range(k):\n",
    "    ans += str(nums[i][1])\n",
    "    if nums[i][1] == max_val:\n",
    "        for i2 in range(n-k):\n",
    "            ans += str(nums[i][1])\n",
    "print(ans)\n",
    "        \n",
    "    "
   ]
  },
  {
   "cell_type": "code",
   "execution_count": 67,
   "id": "useful-radical",
   "metadata": {},
   "outputs": [
    {
     "name": "stdout",
     "output_type": "stream",
     "text": [
      "3 3\n",
      "991\n",
      "90\n",
      "901\n",
      "[[991, 991], [901, 901], [900, 90]]\n",
      "99190190\n"
     ]
    }
   ],
   "source": [
    "def sorting(key, l):\n",
    "    max_len = len(str(l[-1]))\n",
    "    nums = [[x, x] for x in l]\n",
    "    for i in range(len(l)):\n",
    "        nums[i][0] = int(str(nums[i][0]) + str(nums[i][0])[-1]*(max_len - len(str(nums[i][0]))))\n",
    "    nums.sort(key=lambda x:(x[0], x[1]), reverse = True)\n",
    "    print(nums)\n",
    "    return nums\n",
    "\n",
    "k, n = map(int, input().split())\n",
    "nums = []\n",
    "for i in range(k):\n",
    "    nums.append(int(input()))\n",
    "    \n",
    "max_val = max(nums)\n",
    "\n",
    "nums_dict = {}\n",
    "for i in range(10):\n",
    "    nums_dict[i] = []\n",
    "for i in range(k):\n",
    "    nums_dict[int(str(nums[i])[0])].append(nums[i])\n",
    "for i in nums_dict:\n",
    "    nums_dict[i] = sorted(nums_dict[i])\n",
    "ans = ''\n",
    "for i in range(9, -1, -1):\n",
    "    res = []\n",
    "    if nums_dict[i]:\n",
    "        res = sorting(i, nums_dict[i])\n",
    "    for j in range(len(res)):\n",
    "        ans += str(res[j][1])\n",
    "        if res[j][1] == max_val:\n",
    "            for jj in range(k-n):\n",
    "                ans += str(res[j][1])\n",
    "print(ans)"
   ]
  },
  {
   "cell_type": "code",
   "execution_count": 82,
   "id": "forty-yesterday",
   "metadata": {},
   "outputs": [
    {
     "name": "stdout",
     "output_type": "stream",
     "text": [
      "3 5\n",
      "90\n",
      "9\n",
      "909\n",
      "990990990990\n"
     ]
    }
   ],
   "source": [
    "k, n = map(int, input().split())\n",
    "nums = []\n",
    "for i in range(k):\n",
    "    nums.append(int(input()))\n",
    "max_val = max(nums)\n",
    "for i in range(n-k):\n",
    "    nums.append(max_val)\n",
    "for i in range(n-1):\n",
    "    for j in range(i+1, n):\n",
    "        if int(str(nums[i])+str(nums[j])) > int(str(nums[j])+str(nums[i])):\n",
    "            temp = nums[i]\n",
    "            nums[i] = nums[j]\n",
    "            nums[j] = temp\n",
    "ans = ''\n",
    "for i in range(n-1, -1, -1):\n",
    "    ans += str(nums[i])\n",
    "print(ans)"
   ]
  },
  {
   "cell_type": "code",
   "execution_count": 83,
   "id": "liberal-brush",
   "metadata": {},
   "outputs": [
    {
     "data": {
      "text/plain": [
       "[90, 909, 909, 909, 9]"
      ]
     },
     "execution_count": 83,
     "metadata": {},
     "output_type": "execute_result"
    }
   ],
   "source": [
    "nums"
   ]
  },
  {
   "cell_type": "code",
   "execution_count": null,
   "id": "surprised-sandwich",
   "metadata": {},
   "outputs": [],
   "source": []
  }
 ],
 "metadata": {
  "kernelspec": {
   "display_name": "Python 3",
   "language": "python",
   "name": "python3"
  },
  "language_info": {
   "codemirror_mode": {
    "name": "ipython",
    "version": 3
   },
   "file_extension": ".py",
   "mimetype": "text/x-python",
   "name": "python",
   "nbconvert_exporter": "python",
   "pygments_lexer": "ipython3",
   "version": "3.8.3"
  }
 },
 "nbformat": 4,
 "nbformat_minor": 5
}
