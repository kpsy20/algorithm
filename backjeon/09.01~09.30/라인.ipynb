{
 "cells": [
  {
   "cell_type": "code",
   "execution_count": 2,
   "id": "renewable-perfume",
   "metadata": {},
   "outputs": [
    {
     "data": {
      "text/plain": [
       "0"
      ]
     },
     "execution_count": 2,
     "metadata": {},
     "output_type": "execute_result"
    }
   ],
   "source": [
    "[0,2,3].count(1)"
   ]
  },
  {
   "cell_type": "code",
   "execution_count": 79,
   "id": "minimal-manchester",
   "metadata": {},
   "outputs": [],
   "source": [
    "def solution(research, n, k):\n",
    "    answer = ''\n",
    "    search = [{} for x in range(len(research))]\n",
    "    #담을곳\n",
    "    min_search = 2*n*k\n",
    "    all_alpha = list(set(''.join(research)))\n",
    "    check = {}\n",
    "    for i in all_alpha:\n",
    "        check[i] = True\n",
    "        \n",
    "    for i in range(len(research)):\n",
    "        for j in range(len(research[i])):\n",
    "            now = research[i][j]\n",
    "            if now in search[i]:#검색어\n",
    "                search[i][now] += 1\n",
    "            else:\n",
    "                search[i][now] = 1\n",
    "        for j in all_alpha:\n",
    "            if j not in search[i]:\n",
    "                \n",
    "                check[j] = False\n",
    "    #check에 모든날 나온 얘 써있음\n",
    "    max_val = 0\n",
    "    max_news = ''\n",
    "    check = sorted(check.items(), reverse=True)\n",
    "   # print(check)\n",
    "   # print(search)\n",
    "   # print(min_search)\n",
    "   # print(check)\n",
    "    for i1 in check:\n",
    "        if i1[1] == True:\n",
    "            now = i1[0]\n",
    "            #now == 매일 나온 알파벳, k번 이상씩\n",
    "            for i2 in range(len(search)-n+1):\n",
    "                count = 0\n",
    "                res = 0\n",
    "                for i3 in range(n):\n",
    "                    count += search[i2+i3][now]\n",
    "                if count >= min_search:\n",
    "                    res += 1\n",
    "                    if res >= max_val:\n",
    "                        max_val = res\n",
    "                        max_news = now\n",
    "    if max_news == '':\n",
    "        return \"None\"\n",
    "    else:\n",
    "        return max_news\n",
    "    \n"
   ]
  },
  {
   "cell_type": "code",
   "execution_count": 80,
   "id": "functional-mortgage",
   "metadata": {},
   "outputs": [
    {
     "data": {
      "text/plain": [
       "'a'"
      ]
     },
     "execution_count": 80,
     "metadata": {},
     "output_type": "execute_result"
    }
   ],
   "source": [
    "research = [\"abaaaa\",\"aaa\",\"abaaaaaa\",\"fzfffffffa\"]\n",
    "n = 2\n",
    "k = 2\n",
    "solution(research, n, k)"
   ]
  },
  {
   "cell_type": "code",
   "execution_count": 32,
   "id": "african-cooling",
   "metadata": {},
   "outputs": [],
   "source": [
    "sdict= sorted(a.items(), reverse=True)\n",
    "\n"
   ]
  },
  {
   "cell_type": "code",
   "execution_count": 143,
   "id": "first-coral",
   "metadata": {},
   "outputs": [],
   "source": [
    "def solution(jobs):\n",
    "    answer = []\n",
    "    important = {}\n",
    "    important_job = {}\n",
    "    idx = 0\n",
    "    now_number = jobs[idx][2]\n",
    "    now_time = jobs[idx][0]\n",
    "    now_spend = jobs[idx][1]\n",
    "    important[now_number] = 0\n",
    "    important_job[now_number] = []\n",
    "    idx += 1\n",
    "    job_number = 1\n",
    "    complete = 0\n",
    "    answer.append(now_number)\n",
    "    while True:\n",
    "        print(important)\n",
    "        print(important_job)\n",
    "        job_number = 0 #하나 일 처리\n",
    "        complete += 1\n",
    "        now_time += now_spend\n",
    "        print(\"IDX\", idx)\n",
    "        for i in range(idx, len(jobs)):\n",
    "            print(\"ADD HERE\")\n",
    "            if jobs[i][0] <= now_time:\n",
    "                job_number += 1\n",
    "                if jobs[i][2] not in important:\n",
    "                    important[jobs[i][2]] = jobs[i][3]\n",
    "                    important_job[jobs[i][2]] = [jobs[i]]\n",
    "                else:\n",
    "                    important[jobs[i][2]] += jobs[i][3]\n",
    "                    important_job[jobs[i][2]].append(jobs[i])\n",
    "            else:\n",
    "                idx = i\n",
    "                break\n",
    "            if i == len(jobs)-1:\n",
    "                idx = len(jobs)\n",
    "                \n",
    "        if job_number == 0: #들어온 일거리가 없다?\n",
    "            if idx == len(jobs) and complete == len(jobs): #끝\n",
    "                break\n",
    "            else:\n",
    "                print(\"ADD HERE@\")\n",
    "                if idx != len(jobs):\n",
    "                    now_time = jobs[idx][0]\n",
    "                    if jobs[idx][2] not in important:\n",
    "                        important[jobs[idx][2]] = jobs[idx][3]\n",
    "                        important_job[jobs[idx][2]] = [jobs[idx]]\n",
    "                    else:\n",
    "                        important[jobs[idx][2]] += jobs[idx][3]\n",
    "                        important_job[jobs[idx][2]].append(jobs[idx])\n",
    "                    idx += 1\n",
    "        print(\"______________\")     \n",
    "        print(\"ADD\")\n",
    "        print(important)\n",
    "        print(important_job)\n",
    "        if important[now_number] != 0: #작업중이던 분류번호가 들어왔을 때\n",
    "            now_spend = important_job[now_number][0][1] #소요시간 넣어주고\n",
    "            important[now_number] -= important_job[now_number][0][3] #important 값 빼주고\n",
    "            if answer[-1] != now_number:\n",
    "                answer.append(now_number)\n",
    "            del important_job[now_number][0]\n",
    "        else: #없을때! 가장 큰 중요도 뽑아야 함\n",
    "            max_val = 0\n",
    "            max_job = 0\n",
    "            for i in important:\n",
    "                if important[i] > max_val:\n",
    "                    max_val = important[i]\n",
    "                    max_job = i\n",
    "                elif important[i] == max_val:\n",
    "                    if max_job > i: #분류 번호 더 작은걸로.\n",
    "                        max_job = i\n",
    "            print(\"MAX_VAL\", max_val)\n",
    "            print(\"MAV_JOB\", max_job)\n",
    "            now_spend = important_job[max_job][0][1]\n",
    "            now_number = max_job\n",
    "            important[now_number] -= important_job[max_job][0][3]\n",
    "            if answer[-1] != now_number:\n",
    "                answer.append(now_number)\n",
    "            del important_job[now_number][0]\n",
    "        print(important)\n",
    "        print(important_job)\n",
    "        print(\"END\")\n",
    "    return answer"
   ]
  },
  {
   "cell_type": "code",
   "execution_count": 144,
   "id": "ignored-plastic",
   "metadata": {},
   "outputs": [
    {
     "name": "stdout",
     "output_type": "stream",
     "text": [
      "{1: 0}\n",
      "{1: []}\n",
      "IDX 1\n",
      "ADD HERE\n",
      "ADD HERE\n",
      "ADD HERE\n",
      "______________\n",
      "ADD\n",
      "{1: 0, 3: 5, 4: 5}\n",
      "{1: [], 3: [[2, 4, 3, 3], [5, 2, 3, 2]], 4: [[3, 4, 4, 5]]}\n",
      "MAX_VAL 5\n",
      "MAV_JOB 3\n",
      "{1: 0, 3: 2, 4: 5}\n",
      "{1: [], 3: [[5, 2, 3, 2]], 4: [[3, 4, 4, 5]]}\n",
      "END\n",
      "{1: 0, 3: 2, 4: 5}\n",
      "{1: [], 3: [[5, 2, 3, 2]], 4: [[3, 4, 4, 5]]}\n",
      "IDX 4\n",
      "ADD HERE@\n",
      "______________\n",
      "ADD\n",
      "{1: 0, 3: 2, 4: 5}\n",
      "{1: [], 3: [[5, 2, 3, 2]], 4: [[3, 4, 4, 5]]}\n",
      "{1: 0, 3: 0, 4: 5}\n",
      "{1: [], 3: [], 4: [[3, 4, 4, 5]]}\n",
      "END\n",
      "{1: 0, 3: 0, 4: 5}\n",
      "{1: [], 3: [], 4: [[3, 4, 4, 5]]}\n",
      "IDX 4\n",
      "ADD HERE@\n",
      "______________\n",
      "ADD\n",
      "{1: 0, 3: 0, 4: 5}\n",
      "{1: [], 3: [], 4: [[3, 4, 4, 5]]}\n",
      "MAX_VAL 5\n",
      "MAV_JOB 4\n",
      "{1: 0, 3: 0, 4: 0}\n",
      "{1: [], 3: [], 4: []}\n",
      "END\n",
      "{1: 0, 3: 0, 4: 0}\n",
      "{1: [], 3: [], 4: []}\n",
      "IDX 4\n"
     ]
    },
    {
     "data": {
      "text/plain": [
       "[1, 3, 4]"
      ]
     },
     "execution_count": 144,
     "metadata": {},
     "output_type": "execute_result"
    }
   ],
   "source": [
    "solution([[0, 5, 1, 1], [2, 4, 3, 3], [3, 4, 4, 5], [5, 2, 3, 2]])"
   ]
  },
  {
   "cell_type": "code",
   "execution_count": 116,
   "id": "fallen-reviewer",
   "metadata": {},
   "outputs": [],
   "source": [
    "for i in range(6, 6):\n",
    "    print(2)"
   ]
  },
  {
   "cell_type": "code",
   "execution_count": 119,
   "id": "conservative-textbook",
   "metadata": {},
   "outputs": [],
   "source": [
    "r = []"
   ]
  },
  {
   "cell_type": "code",
   "execution_count": 172,
   "id": "chubby-creator",
   "metadata": {},
   "outputs": [],
   "source": [
    "def solution(nicks, emails):\n",
    "    answer = [-1 for x in range(len(nicks))]\n",
    "    \n",
    "    for i in range(len(nicks)-1):\n",
    "        for j in range(i, len(nicks)):\n",
    "            check = True\n",
    "            name_a = nicks[i]\n",
    "            name_b = nicks[j]\n",
    "            if abs(len(name_a) - len(name_b)) > 2:\n",
    "                continue\n",
    "            else:\n",
    "                idx_a = 0\n",
    "                idx_b = 0\n",
    "                count = 0\n",
    "\n",
    "                while idx_a < len(name_a)-1 or idx_b < len(name_b)-1:\n",
    "                   # print(idx_a, idx_b)\n",
    "                    if name_a[idx_a] == name_b[idx_b]:\n",
    "                        pass\n",
    "                    else:\n",
    "                        if idx_b+1 < len(name_b) and name_a[idx_a] == name_b[idx_b+1]:\n",
    "                            idx_b += 1\n",
    "                            count += 1\n",
    "                        elif idx_a+1 < len(name_a) and name_a[idx_a+1] == name_b[idx_b]:\n",
    "                            idx_a += 1\n",
    "                            count += 1\n",
    "                        elif idx_b+2 < len(name_b) and name_a[idx_a] == name_b[idx_b+2]:\n",
    "                            idx_b += 2\n",
    "                            count += 2\n",
    "                        elif idx_a+2 < len(name_a) and name_a[idx_a+2] == name_b[idx_b]:\n",
    "                            idx_a += 2\n",
    "                            count += 2\n",
    "                        elif idx_a+1 < len(name_a) and idx_b+1 < len(name_b) and name_a[idx_a+1] == name_b[idx_b+1]:\n",
    "                            idx_a += 1\n",
    "                            idx_b += 1\n",
    "                            count += 2\n",
    "                        elif idx_a == len(name_a)-1 and idx_b + (2-count) >= len(name_b)-1:\n",
    "                            break\n",
    "                        elif idx_b == len(name_b)-1 and idx_a + (2-count) >= len(name_a)-1:\n",
    "                            break\n",
    "                        else:\n",
    "                            check = False\n",
    "                            break\n",
    "                    if count > 2:\n",
    "                        check = False\n",
    "                        break\n",
    "                    idx_a = min(len(name_a)-1, idx_a+1)\n",
    "                    idx_b = min(len(name_b)-1, idx_b+1)\n",
    "            if check: #동일한 닉네임에 따라\n",
    "                email_a = emails[i]\n",
    "                email_b = emails[j]\n",
    "                front_a, back_a = email_a.split(\"@\")\n",
    "                front_b, back_b = email_b.split('@')\n",
    "                if front_a == front_b:\n",
    "                    #서버 달라도 동일 인\n",
    "                    if answer[i] == -1 and answer[j] == -1:\n",
    "                        answer[j] = i\n",
    "                    elif answer[i] == -1:\n",
    "                        answer[i] = answer[j]\n",
    "                    elif answer[j] == -1:\n",
    "                        answer[j] = i\n",
    "                    else: #둘다 있었다.\n",
    "                        temp = min(answer[i], answer[j])\n",
    "                        answer[i] = temp\n",
    "                        answer[j] = temp\n",
    "                elif back_a == back_b:\n",
    "                    #1칸으로 진행\n",
    "                    idx_a = 0\n",
    "                    idx_b = 0\n",
    "                    count = 0\n",
    "                    name_a = front_a\n",
    "                    name_b = front_b\n",
    "                    while idx_a < len(name_a)-1 or idx_b < len(name_b)-1:\n",
    "                        if name_a[idx_a] == name_b[idx_b]:\n",
    "                            pass\n",
    "                        else:\n",
    "                            if idx_b+1 < len(name_b) and name_a[idx_a] == name_b[idx_b+1]:\n",
    "                                idx_b += 1\n",
    "                                count += 1\n",
    "                            elif idx_a+1 < len(name_a) and name_a[idx_a+1] == name_b[idx_b]:\n",
    "                                idx_a += 1\n",
    "                                count += 1\n",
    "                            elif idx_a == len(name_a)-1 and idx_b + (1-count) >= len(name_b)-1:\n",
    "                                break\n",
    "                            elif idx_b == len(name_b)-1 and idx_a + (1-count) >= len(name_a)-1:\n",
    "                                break\n",
    "                            else:\n",
    "                                check = False\n",
    "                                break\n",
    "                        if count > 1:\n",
    "                            check = False\n",
    "                            break\n",
    "                        idx_a = min(len(name_a)-1, idx_a+1)\n",
    "                        idx_b = min(len(name_b)-1, idx_b+1)\n",
    "    \n",
    "            if check: #이메일 까지 동일 양식\n",
    "                if answer[i] == -1 and answer[j] == -1:\n",
    "                    answer[j] = i\n",
    "                elif answer[i] == -1:\n",
    "                    answer[i] = answer[j]\n",
    "                elif answer[j] == -1:\n",
    "                    answer[j] = i\n",
    "                else: #둘다 있었다.\n",
    "                    temp = min(answer[i], answer[j])\n",
    "                    answer[i] = temp\n",
    "                    answer[j] = temp\n",
    "    res = 0\n",
    "    print(answer)\n",
    "    for i in range(len(answer)):\n",
    "        if answer[i] == -1:\n",
    "            res += 1\n",
    "    answer = set(answer)\n",
    "    if -1 in answer:\n",
    "        res += len(answer) -1\n",
    "    else:\n",
    "        res += len(answer)\n",
    "    return res"
   ]
  },
  {
   "cell_type": "code",
   "execution_count": 173,
   "id": "capital-import",
   "metadata": {},
   "outputs": [
    {
     "name": "stdout",
     "output_type": "stream",
     "text": [
      "[0, 1, 0, 0, 0, 1, 5]\n"
     ]
    },
    {
     "data": {
      "text/plain": [
       "3"
      ]
     },
     "execution_count": 173,
     "metadata": {},
     "output_type": "execute_result"
    }
   ],
   "source": [
    "nicks = [\"imhero111\", \"moneyman\", \"hero111\", \"imher1111\", \"hro111\", \"mmoneyman\", \"moneymannnn\"]\n",
    "emails = [\"superman5@abcd.com\", \"batman432@korea.co.kr\", \"superman@abcd.com\", \"supertman5@abcd.com\", \"superman@erty.net\", \"batman42@korea.co.kr\", \"batman432@usa.com\"]\n",
    "solution(nicks, emails)"
   ]
  },
  {
   "cell_type": "code",
   "execution_count": 160,
   "id": "sitting-equity",
   "metadata": {},
   "outputs": [
    {
     "data": {
      "text/plain": [
       "['sd', 'sd']"
      ]
     },
     "execution_count": 160,
     "metadata": {},
     "output_type": "execute_result"
    }
   ],
   "source": [
    "'sd@sd'.split('@')"
   ]
  },
  {
   "cell_type": "code",
   "execution_count": 165,
   "id": "martial-south",
   "metadata": {},
   "outputs": [
    {
     "data": {
      "text/plain": [
       "3"
      ]
     },
     "execution_count": 165,
     "metadata": {},
     "output_type": "execute_result"
    }
   ],
   "source": [
    "len(set([1,2,3,1]))"
   ]
  },
  {
   "cell_type": "code",
   "execution_count": null,
   "id": "desirable-lloyd",
   "metadata": {},
   "outputs": [],
   "source": [
    "[\"2020-01-30 uid1 pid1\", \"2020-01-30 uid1 pid1\", \"2020-02-01 uid2 pid 1\", \"2020-02-02 uid1 pid1\"]\n",
    "\n",
    "\n",
    "\n",
    "\n",
    "\n",
    "\n"
   ]
  }
 ],
 "metadata": {
  "kernelspec": {
   "display_name": "Python 3",
   "language": "python",
   "name": "python3"
  },
  "language_info": {
   "codemirror_mode": {
    "name": "ipython",
    "version": 3
   },
   "file_extension": ".py",
   "mimetype": "text/x-python",
   "name": "python",
   "nbconvert_exporter": "python",
   "pygments_lexer": "ipython3",
   "version": "3.8.3"
  }
 },
 "nbformat": 4,
 "nbformat_minor": 5
}
