{
 "cells": [
  {
   "cell_type": "code",
   "execution_count": 8,
   "id": "determined-remove",
   "metadata": {},
   "outputs": [
    {
     "name": "stdout",
     "output_type": "stream",
     "text": [
      "10 3\n",
      "2 9 5\n",
      "deque([0, 1, 2, 3, 4, 5, 6, 7, 8, 9])\n",
      "9 1\n",
      "_______________\n",
      "deque([2, 3, 4, 5, 6, 7, 8, 9, 0])\n",
      "END\n",
      "deque([2, 3, 4, 5, 6, 7, 8, 9, 0])\n",
      "3 6\n",
      "_______________\n",
      "deque([9, 0, 2, 3, 4, 5, 6, 7])\n",
      "END\n",
      "deque([9, 0, 2, 3, 4, 5, 6, 7])\n",
      "4 4\n",
      "_______________\n",
      "deque([5, 6, 7, 9, 0, 2, 3])\n",
      "END\n",
      "8\n"
     ]
    }
   ],
   "source": [
    "from collections import deque\n",
    "n, k = map(int, input().split())\n",
    "find = [x-1 for x in list(map(int, input().split()))]\n",
    "\n",
    "num = deque([x for x in range(n)])\n",
    "\n",
    "front = 0\n",
    "ans = 0\n",
    "for i in range(len(find)):\n",
    "    print(num)\n",
    "    find[i] = num.index(find[i])\n",
    "    left = 0\n",
    "    right = 0\n",
    "    if front >= find[i]:\n",
    "        left = front - find[i]\n",
    "        right = find[i] + len(num) - front\n",
    "    else:\n",
    "        left = front + len(num) - find[i]\n",
    "        right = find[i] - front\n",
    "        \n",
    "    #print(left, right)\n",
    "\n",
    "    if left >= right:\n",
    "        for t in range(right):\n",
    "            temp = num.popleft()\n",
    "            num.append(temp)\n",
    "        ans += right\n",
    "        if front >= len(num):\n",
    "            front -= len(num)\n",
    "    else:\n",
    "        for t in range(left):\n",
    "            temp = num.pop()\n",
    "            num.appendleft(temp)\n",
    "        ans += left\n",
    "        if front < 0:\n",
    "            front += len(num)\n",
    "    num.popleft()\n",
    "    #print('_______________')\n",
    "    #print(num)\n",
    "    #print(\"END\")\n",
    "print(ans)\n",
    "    "
   ]
  },
  {
   "cell_type": "code",
   "execution_count": null,
   "id": "earlier-environment",
   "metadata": {},
   "outputs": [],
   "source": [
    "10 3\n",
    "2 9 5\n",
    "\n",
    "\n",
    "8"
   ]
  }
 ],
 "metadata": {
  "kernelspec": {
   "display_name": "Python 3",
   "language": "python",
   "name": "python3"
  },
  "language_info": {
   "codemirror_mode": {
    "name": "ipython",
    "version": 3
   },
   "file_extension": ".py",
   "mimetype": "text/x-python",
   "name": "python",
   "nbconvert_exporter": "python",
   "pygments_lexer": "ipython3",
   "version": "3.8.3"
  }
 },
 "nbformat": 4,
 "nbformat_minor": 5
}
