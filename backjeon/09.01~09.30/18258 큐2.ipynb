{
 "cells": [
  {
   "cell_type": "code",
   "execution_count": 16,
   "id": "rotary-longitude",
   "metadata": {},
   "outputs": [
    {
     "name": "stdout",
     "output_type": "stream",
     "text": [
      "15\n",
      "push 1\n",
      "push 2\n",
      "front\n",
      "back\n",
      "size\n",
      "empty\n",
      "pop\n",
      "pop\n",
      "pop\n",
      "size\n",
      "empty\n",
      "pop\n",
      "push 3\n",
      "empty\n",
      "front\n"
     ]
    },
    {
     "ename": "TypeError",
     "evalue": "sequence item 2: expected str instance, int found",
     "output_type": "error",
     "traceback": [
      "\u001b[1;31m---------------------------------------------------------------------------\u001b[0m",
      "\u001b[1;31mTypeError\u001b[0m                                 Traceback (most recent call last)",
      "\u001b[1;32m<ipython-input-16-9a58c75750cb>\u001b[0m in \u001b[0;36m<module>\u001b[1;34m\u001b[0m\n\u001b[0;32m     31\u001b[0m         \u001b[1;32melse\u001b[0m\u001b[1;33m:\u001b[0m\u001b[1;33m\u001b[0m\u001b[1;33m\u001b[0m\u001b[0m\n\u001b[0;32m     32\u001b[0m             \u001b[0mres\u001b[0m\u001b[1;33m.\u001b[0m\u001b[0mappend\u001b[0m\u001b[1;33m(\u001b[0m\u001b[1;34m'-1'\u001b[0m\u001b[1;33m)\u001b[0m\u001b[1;33m\u001b[0m\u001b[1;33m\u001b[0m\u001b[0m\n\u001b[1;32m---> 33\u001b[1;33m \u001b[0mprint\u001b[0m\u001b[1;33m(\u001b[0m\u001b[1;34m'\\n'\u001b[0m\u001b[1;33m.\u001b[0m\u001b[0mjoin\u001b[0m\u001b[1;33m(\u001b[0m\u001b[0mres\u001b[0m\u001b[1;33m)\u001b[0m\u001b[1;33m)\u001b[0m\u001b[1;33m\u001b[0m\u001b[1;33m\u001b[0m\u001b[0m\n\u001b[0m",
      "\u001b[1;31mTypeError\u001b[0m: sequence item 2: expected str instance, int found"
     ]
    }
   ],
   "source": [
    "from collections import deque\n",
    "import sys\n",
    "q = deque([])\n",
    "n = int(input())\n",
    "res = []\n",
    "for i in range(n):\n",
    "    op = input().split(\" \")\n",
    "    #op = sys.stdin.readline().split(\" \")\n",
    "    if op[0][1] == 'u':\n",
    "        q.append(int(op[1]))\n",
    "    elif op[0][1] == 'o':\n",
    "        if q:\n",
    "            res.append(str(q.popleft()))\n",
    "        else:\n",
    "            res.append('-1')\n",
    "    elif op[0][1] == 'i':\n",
    "        res.append(str(len(q)))\n",
    "    elif op[0][1] == 'm':\n",
    "        if q:\n",
    "            res.append('0')\n",
    "        else:\n",
    "            res.append('1')\n",
    "    elif op[0][1] == 'r':\n",
    "        if q:\n",
    "            res.append(str(q[0]))\n",
    "        else:\n",
    "            res.append('-1')\n",
    "    else:\n",
    "        if q:\n",
    "            res.append(str(q[-1]))\n",
    "        else:\n",
    "            res.append('-1')\n",
    "print('\\n'.join(res))"
   ]
  }
 ],
 "metadata": {
  "kernelspec": {
   "display_name": "Python 3",
   "language": "python",
   "name": "python3"
  },
  "language_info": {
   "codemirror_mode": {
    "name": "ipython",
    "version": 3
   },
   "file_extension": ".py",
   "mimetype": "text/x-python",
   "name": "python",
   "nbconvert_exporter": "python",
   "pygments_lexer": "ipython3",
   "version": "3.8.3"
  }
 },
 "nbformat": 4,
 "nbformat_minor": 5
}
