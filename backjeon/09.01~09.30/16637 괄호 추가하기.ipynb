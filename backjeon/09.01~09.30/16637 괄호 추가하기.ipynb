{
 "cells": [
  {
   "cell_type": "code",
   "execution_count": null,
   "id": "willing-command",
   "metadata": {},
   "outputs": [],
   "source": [
    "9\n",
    "3+8*7-9*2"
   ]
  },
  {
   "cell_type": "code",
   "execution_count": null,
   "id": "compact-catalyst",
   "metadata": {},
   "outputs": [],
   "source": [
    "19\n",
    "1*2+3*4*5-6*7*8*9*0"
   ]
  },
  {
   "cell_type": "code",
   "execution_count": 19,
   "id": "ruled-spyware",
   "metadata": {},
   "outputs": [
    {
     "name": "stdout",
     "output_type": "stream",
     "text": [
      "19\n",
      "1-9-1-9-1-9-1-9-1-9\n",
      "24\n"
     ]
    }
   ],
   "source": [
    "def cal(num1, op, num2):\n",
    "    if op == '+':\n",
    "        return num1+num2\n",
    "    if op == '-':\n",
    "        return num1-num2\n",
    "    if op == '*':\n",
    "        return num1*num2\n",
    "res = int(-2**31)\n",
    "def cal_all(nums, ops, idx, now):\n",
    "    global res\n",
    "   # print(idx, now)\n",
    "    if idx == len(ops):\n",
    "        if now > res:\n",
    "            res = now\n",
    "        return\n",
    "    else:\n",
    "        cal_all(nums, ops, idx+1, cal(now, ops[idx], nums[idx+1]))\n",
    "        if idx < len(ops)-1:\n",
    "            temp = cal(nums[idx+1], ops[idx+1], nums[idx+2])\n",
    "            temp = cal(now, ops[idx], temp)\n",
    "            cal_all(nums, ops, idx+2, temp)\n",
    "    return\n",
    "\n",
    "n = int(input())\n",
    "op = ['*', '-', '+']\n",
    "l = list(input())\n",
    "ops = []\n",
    "nums = []\n",
    "for i in range(len(l)):\n",
    "    if l[i] in op:\n",
    "        ops.append(l[i])\n",
    "    else:\n",
    "        nums.append(int(l[i]))\n",
    "\n",
    "cal_all(nums, ops, 0, nums[0])\n",
    "print(res)"
   ]
  },
  {
   "cell_type": "code",
   "execution_count": 5,
   "id": "needed-tongue",
   "metadata": {},
   "outputs": [
    {
     "data": {
      "text/plain": [
       "['+', '*', '-', '*']"
      ]
     },
     "execution_count": 5,
     "metadata": {},
     "output_type": "execute_result"
    }
   ],
   "source": [
    "ops"
   ]
  },
  {
   "cell_type": "code",
   "execution_count": 18,
   "id": "automated-covering",
   "metadata": {},
   "outputs": [
    {
     "data": {
      "text/plain": [
       "-2147483648"
      ]
     },
     "execution_count": 18,
     "metadata": {},
     "output_type": "execute_result"
    }
   ],
   "source": [
    "int(-2**31)"
   ]
  },
  {
   "cell_type": "code",
   "execution_count": null,
   "id": "printable-interstate",
   "metadata": {},
   "outputs": [],
   "source": [
    "19\n",
    "1*2+3*4*5-6*7*8*9*0\n",
    "19\n",
    "1-9-1-9-1-9-1-9-1-9\n",
    "7\n",
    "8*3+5+2"
   ]
  }
 ],
 "metadata": {
  "kernelspec": {
   "display_name": "Python 3",
   "language": "python",
   "name": "python3"
  },
  "language_info": {
   "codemirror_mode": {
    "name": "ipython",
    "version": 3
   },
   "file_extension": ".py",
   "mimetype": "text/x-python",
   "name": "python",
   "nbconvert_exporter": "python",
   "pygments_lexer": "ipython3",
   "version": "3.8.3"
  }
 },
 "nbformat": 4,
 "nbformat_minor": 5
}
