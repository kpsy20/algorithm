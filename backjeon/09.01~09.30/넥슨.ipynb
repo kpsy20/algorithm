{
 "cells": [
  {
   "cell_type": "code",
   "execution_count": 55,
   "id": "applied-philippines",
   "metadata": {},
   "outputs": [],
   "source": [
    "import copy\n",
    "def getTheGroups(n, queryType, students1, students2):\n",
    "    # Write your code here\n",
    "    report = []\n",
    "    friend = [[] for x in range(n+1)] #1부터 시작\n",
    "    for i in range(len(students1)):\n",
    "        if queryType[i] == 'Friend':\n",
    "            front = min(students1[i], students2[i])\n",
    "            back = max(students1[i], students2[i])\n",
    "            print(i, front, back)\n",
    "            \n",
    "            if friend[front] == [] and friend[back] == []:\n",
    "                friend[back] = [front]\n",
    "                friend[front] = [back]\n",
    "            elif friend[front] == []: #앞 얘만 처음\n",
    "                now = back\n",
    "                while len(friend[now]) == 1 and friend[now][0] < now: #꼭대기에 도달할 때 까지 간다\n",
    "                    now = friend[now][0]\n",
    "                #now 꼭대기.\n",
    "                if now < front: # front 만 흡수\n",
    "                    friend[now].append(front)\n",
    "                    friend[front] = [now]\n",
    "                else: #아니면 다 옮겨줌\n",
    "                    for i in friend[now]:\n",
    "                        friend[i] = [front]\n",
    "                    temp = copy.deepcopy(friend[now])\n",
    "                    friend[front] = temp\n",
    "                    friend[front].append(now)\n",
    "                    friend[now] = [front]\n",
    "                    \n",
    "            elif friend[back] == []: #뒤만 처음\n",
    "                if friend[front][0] > front: #front가 꼭대기\n",
    "                    friend[front].append(back)\n",
    "                    friend[back] = [front]\n",
    "                else:\n",
    "                    now = front\n",
    "                    while len(friend[now]) == 1 and friend[now][0] < now: #꼭대끼까지 가자\n",
    "                        now = friend[now][0]\n",
    "                    friend[now].append(back)\n",
    "                    friend[back] = [now]\n",
    "            else: #둘다 처음이 아닐때..\n",
    "                front_root = front\n",
    "                back_root = back\n",
    "                while len(friend[front_root]) == 1 and friend[front_root][0] < front_root:\n",
    "                    front_root = friend[front_root][0]\n",
    "                while len(friend[back_root]) == 1 and friend[back_root][0] < back_root:\n",
    "                    back_root = friend[back_root][0]\n",
    "                if front_root > back_root:\n",
    "                    for i in friend[front_root]:\n",
    "                        friend[i] = [back_root]\n",
    "                    temp = copy.deepcopy(friend[front_root])\n",
    "                    friend[back_root] += temp\n",
    "                    friend[back_root].append(front_root)\n",
    "                    friend[front_root] = [back_root]\n",
    "                    \n",
    "                elif front_root < back_root:\n",
    "                    for i in friend[back_root]:\n",
    "                        friend[i] = [front_root]\n",
    "                    temp = copy.deepcopy(friend[back_root])\n",
    "                    friend[front_root] += temp\n",
    "                    friend[front_root].append(back_root)\n",
    "                    friend[back_root] = [front_root]\n",
    "                else:\n",
    "                    pass\n",
    "            print(friend)\n",
    "        else: #쿼리 Total\n",
    "            front = students1[i]\n",
    "            back = students2[i]\n",
    "            while len(friend[front]) == 1 and friend[front][0] < front:\n",
    "                front = friend[front][0]\n",
    "            while len(friend[back]) == 1 and friend[back][0] < back:\n",
    "                back = friend[back][0]\n",
    "            res = len(friend[front]) + len(friend[back]) + 2\n",
    "            report.append(res)\n",
    "            print(friend)\n",
    "    return report"
   ]
  },
  {
   "cell_type": "code",
   "execution_count": 61,
   "id": "neither-dakota",
   "metadata": {},
   "outputs": [
    {
     "name": "stdout",
     "output_type": "stream",
     "text": [
      "0 1 6\n",
      "[[], [6], [], [], [], [], [1], [], [], [], []]\n",
      "[[], [6], [], [], [], [], [1], [], [], [], []]\n",
      "2 3 8\n",
      "[[], [6], [], [8], [], [], [1], [], [3], [], []]\n",
      "[[], [6], [], [8], [], [], [1], [], [3], [], []]\n",
      "4 5 10\n",
      "[[], [6], [], [8], [], [10], [1], [], [3], [], [5]]\n",
      "[[], [6], [], [8], [], [10], [1], [], [3], [], [5]]\n",
      "6 8 10\n",
      "[[], [6], [], [8, 10, 5], [], [3], [1], [], [3], [], [3]]\n",
      "7 3 4\n",
      "[[], [6], [], [8, 10, 5, 4], [3], [3], [1], [], [3], [], [3]]\n",
      "[[], [6], [], [8, 10, 5, 4], [3], [3], [1], [], [3], [], [3]]\n"
     ]
    },
    {
     "data": {
      "text/plain": [
       "[2, 2, 3, 7]"
      ]
     },
     "execution_count": 61,
     "metadata": {},
     "output_type": "execute_result"
    }
   ],
   "source": [
    "n= 10\n",
    "q = ['Friend', 'Total', 'Friend', 'Total', 'Friend', 'Total', 'Friend', 'Friend', 'Total']\n",
    "stu1 = [1,2,3,4,5,1, 8,3, 1]\n",
    "stu2 = [6,7,8,9,10,7, 10,4, 10]\n",
    "getTheGroups(n, q, stu1, stu2)"
   ]
  },
  {
   "cell_type": "code",
   "execution_count": null,
   "id": "atomic-medication",
   "metadata": {},
   "outputs": [],
   "source": [
    "5\n",
    "3\n",
    "Friend\n",
    "Friend\n",
    "Total\n",
    "3\n",
    "4\n",
    "2\n",
    "2\n",
    "3\n",
    "1\n",
    "4\n",
    "3"
   ]
  }
 ],
 "metadata": {
  "kernelspec": {
   "display_name": "Python 3",
   "language": "python",
   "name": "python3"
  },
  "language_info": {
   "codemirror_mode": {
    "name": "ipython",
    "version": 3
   },
   "file_extension": ".py",
   "mimetype": "text/x-python",
   "name": "python",
   "nbconvert_exporter": "python",
   "pygments_lexer": "ipython3",
   "version": "3.8.3"
  }
 },
 "nbformat": 4,
 "nbformat_minor": 5
}
