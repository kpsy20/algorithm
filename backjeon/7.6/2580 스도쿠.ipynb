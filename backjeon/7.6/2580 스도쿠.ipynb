{
 "cells": [
  {
   "cell_type": "code",
   "execution_count": 5,
   "id": "conditional-brunswick",
   "metadata": {},
   "outputs": [
    {
     "name": "stdout",
     "output_type": "stream",
     "text": [
      "1 1\n",
      "1 1\n",
      "1 1\n",
      "1 1\n",
      "1 1\n",
      "1 1\n",
      "1 1\n",
      "1 1\n",
      "1 1\n"
     ]
    }
   ],
   "source": [
    "def able(home, idx):\n",
    "    y = idx[0] // 3\n",
    "    x = idx[1] // 3\n",
    "    \n",
    "    init = []\n",
    "    for i in range(y*3, (y+1)*3):\n",
    "        for j in range(x*3, (x+1)*3):\n",
    "            init.append(home[i][j])\n",
    "    for i in range(9):\n",
    "        init.append(home[idx[0]][i])\n",
    "    for i in range(9):\n",
    "        init.append(home[i][idx[1]])\n",
    "    init = list(set(init))\n",
    "    can = [x for x in range(10) if x not in init]\n",
    "    return can\n",
    "    \n",
    "home = []\n",
    "zero = []\n",
    "for i in range(9):\n",
    "    l = [int(x) for x in list(input().split())]\n",
    "    home.append(l)\n",
    "    if 0 in l:\n",
    "        for j in range(9):\n",
    "            if l[j] == 0:\n",
    "                zero.append([i, j])\n",
    "\n",
    "for i in range(len(zero)):\n",
    "    \n"
   ]
  },
  {
   "cell_type": "code",
   "execution_count": 6,
   "id": "funded-berkeley",
   "metadata": {},
   "outputs": [
    {
     "data": {
      "text/plain": [
       "[[1, 1], [1, 1], [1, 1], [1, 1], [1, 1], [1, 1], [1, 1], [1, 1], [1, 1]]"
      ]
     },
     "execution_count": 6,
     "metadata": {},
     "output_type": "execute_result"
    }
   ],
   "source": [
    "home"
   ]
  },
  {
   "cell_type": "code",
   "execution_count": 3,
   "id": "decreased-crisis",
   "metadata": {},
   "outputs": [],
   "source": [
    "init = [1]\n",
    "can = [x for x in range(9) if x not in init]\n",
    "\n"
   ]
  },
  {
   "cell_type": "code",
   "execution_count": 4,
   "id": "renewable-blame",
   "metadata": {},
   "outputs": [
    {
     "data": {
      "text/plain": [
       "[0, 2, 3, 4, 5, 6, 7, 8]"
      ]
     },
     "execution_count": 4,
     "metadata": {},
     "output_type": "execute_result"
    }
   ],
   "source": [
    "can"
   ]
  },
  {
   "cell_type": "code",
   "execution_count": null,
   "id": "sporting-newfoundland",
   "metadata": {},
   "outputs": [],
   "source": []
  }
 ],
 "metadata": {
  "kernelspec": {
   "display_name": "Python 3",
   "language": "python",
   "name": "python3"
  },
  "language_info": {
   "codemirror_mode": {
    "name": "ipython",
    "version": 3
   },
   "file_extension": ".py",
   "mimetype": "text/x-python",
   "name": "python",
   "nbconvert_exporter": "python",
   "pygments_lexer": "ipython3",
   "version": "3.8.3"
  }
 },
 "nbformat": 4,
 "nbformat_minor": 5
}
