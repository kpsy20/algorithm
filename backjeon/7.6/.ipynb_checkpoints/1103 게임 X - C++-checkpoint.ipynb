{
 "cells": [
  {
   "cell_type": "code",
   "execution_count": 33,
   "id": "valid-career",
   "metadata": {},
   "outputs": [
    {
     "name": "stdout",
     "output_type": "stream",
     "text": [
      "3 3\n",
      "123\n",
      "234\n",
      "345\n",
      "3\n"
     ]
    }
   ],
   "source": [
    "import copy\n",
    "def move(idx, world):\n",
    "    step = int(world[idx[0]][idx[1]])\n",
    "    x_go = [step, -step, 0, 0]\n",
    "    y_go = [0, 0, step, -step]\n",
    "    can_go = []\n",
    "    for i in range(4):\n",
    "        if idx[0] + y_go[i] >= 0 and idx[0] + y_go[i] < len(world) and idx[1] + x_go[i] >= 0 and idx[1] + x_go[i] < len(world[0]):\n",
    "            can_go.append([idx[0]+y_go[i], idx[1]+x_go[i]]) # 갈 수 있는곳\n",
    "    return can_go\n",
    "            \n",
    "y, x = map(int, input().split())\n",
    "world = []\n",
    "for i in range(y):\n",
    "    world.append(list(input()))\n",
    "q = [[0,0]]\n",
    "count = 0 \n",
    "infi = False\n",
    "visit[0][0]=True\n",
    "while(q and not infi):\n",
    "    if count >= x*y:\n",
    "        infi=True\n",
    "        break\n",
    "    new_q=[]\n",
    "    for i in range(len(q)):\n",
    "        result = move(q[i], world)\n",
    "        for j in range(len(result)):\n",
    "            if(world[result[j][0]][result[j][1]] != 'H'):\n",
    "                new_q.append([result[j][0], result[j][1]])      \n",
    "    q = copy.deepcopy(new_q)\n",
    "    count += 1  \n",
    "\n",
    "if infi:\n",
    "    print(-1)\n",
    "else:\n",
    "    print(count)"
   ]
  },
  {
   "cell_type": "code",
   "execution_count": 25,
   "id": "arabic-functionality",
   "metadata": {},
   "outputs": [
    {
     "data": {
      "text/plain": [
       "<function __main__.move(idx, world)>"
      ]
     },
     "execution_count": 25,
     "metadata": {},
     "output_type": "execute_result"
    }
   ],
   "source": [
    "move"
   ]
  },
  {
   "cell_type": "code",
   "execution_count": null,
   "id": "earlier-timothy",
   "metadata": {},
   "outputs": [],
   "source": []
  }
 ],
 "metadata": {
  "kernelspec": {
   "display_name": "Python 3",
   "language": "python",
   "name": "python3"
  },
  "language_info": {
   "codemirror_mode": {
    "name": "ipython",
    "version": 3
   },
   "file_extension": ".py",
   "mimetype": "text/x-python",
   "name": "python",
   "nbconvert_exporter": "python",
   "pygments_lexer": "ipython3",
   "version": "3.8.3"
  }
 },
 "nbformat": 4,
 "nbformat_minor": 5
}
