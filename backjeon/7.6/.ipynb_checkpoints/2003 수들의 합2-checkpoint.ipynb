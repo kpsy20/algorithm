{
 "cells": [
  {
   "cell_type": "code",
   "execution_count": 24,
   "id": "abroad-casting",
   "metadata": {},
   "outputs": [
    {
     "name": "stdout",
     "output_type": "stream",
     "text": [
      "1 1\n",
      "1\n",
      "1\n"
     ]
    }
   ],
   "source": [
    "n, m = map(int, input().split())\n",
    "nums = list(map(int, input().split()))\n",
    "s = nums[0]\n",
    "start = 0\n",
    "idx = 1\n",
    "ans = 0\n",
    "if len(nums) == 1:\n",
    "    if s == m:\n",
    "        print(1)\n",
    "    else:\n",
    "        print(0)\n",
    "else:\n",
    "    while idx < len(nums):\n",
    "        while idx < len(nums) and s < m:\n",
    "            s += nums[idx]\n",
    "            idx += 1\n",
    "        #위 와일문 나가는건 끝까지 다 봤을 때나 s가 m 크거나 같을 때\n",
    "        if s == m: #같을 때\n",
    "            s -= nums[start] #제일 앞에꺼 빼주고, 정답 1 늘려주고, start 1늘려주고\n",
    "            ans += 1\n",
    "            start += 1\n",
    "        elif s > m:\n",
    "            while s > m:\n",
    "                s -= nums[start] #더 클 땐 작거나 같아질 때 까지 빼줌\n",
    "                start += 1\n",
    "        if s == m: #같을 때\n",
    "            s -= nums[start] #제일 앞에꺼 빼주고, 정답 1 늘려주고, start 1늘려주고\n",
    "            ans += 1\n",
    "            start += 1\n",
    "\n",
    "    print(ans)\n",
    "    "
   ]
  },
  {
   "cell_type": "markdown",
   "id": "prescribed-identity",
   "metadata": {},
   "source": [
    "# "
   ]
  }
 ],
 "metadata": {
  "kernelspec": {
   "display_name": "Python 3",
   "language": "python",
   "name": "python3"
  },
  "language_info": {
   "codemirror_mode": {
    "name": "ipython",
    "version": 3
   },
   "file_extension": ".py",
   "mimetype": "text/x-python",
   "name": "python",
   "nbconvert_exporter": "python",
   "pygments_lexer": "ipython3",
   "version": "3.8.3"
  }
 },
 "nbformat": 4,
 "nbformat_minor": 5
}
