{
 "cells": [
  {
   "cell_type": "code",
   "execution_count": 5,
   "id": "direct-kansas",
   "metadata": {},
   "outputs": [
    {
     "name": "stdout",
     "output_type": "stream",
     "text": [
      "5 2\n",
      "0 2 0 1 0\n",
      "1 0 1 0 0\n",
      "0 0 0 0 0\n",
      "2 0 0 1 1\n",
      "2 2 0 1 2\n",
      "10\n"
     ]
    }
   ],
   "source": [
    "from itertools import combinations\n",
    "\n",
    "xy, store = map(int, input().split())\n",
    "chicken = []\n",
    "house = []\n",
    "for i in range(xy):\n",
    "    l = list(map(int, input().split()))\n",
    "    if 1 in l:\n",
    "        for j in range(len(l)):\n",
    "            if l[j] == 1:\n",
    "                house.append([i, j])\n",
    "    if 2 in l:\n",
    "        for j in range(len(l)):\n",
    "            if l[j] == 2:\n",
    "                chicken.append([i, j])\n",
    "distance = [[0 for x in range(len(house))] for y in range(len(chicken))]\n",
    "for i in range(len(chicken)): #모든 치킨집에 대해 거리 구함\n",
    "    for j in range(len(house)):\n",
    "        distance[i][j] = abs(chicken[i][0] - house[j][0]) + abs(chicken[i][1] - house[j][1])\n",
    "        \n",
    "index = []\n",
    "for i in range(len(chicken)):\n",
    "    index.append(i)\n",
    "chicken_com = list(combinations(index, store))\n",
    "\n",
    "min_distance = -1\n",
    "\n",
    "for i in chicken_com: #모든 조합. 남아있는 치킨집에 대한.\n",
    "    temp = 0\n",
    "    for k in range(len(house)): #모든 집들에 대해\n",
    "        tempMin = []\n",
    "        for j in i: #조합에 들어간 치킨집에서 가장 가까운 값만 쓰니까 그것만 더해줌\n",
    "            tempMin.append(distance[j][k])\n",
    "        temp += min(tempMin)\n",
    "    if min_distance == -1 or min_distance > temp:\n",
    "        min_distance = temp\n",
    "print(min_distance)"
   ]
  },
  {
   "cell_type": "code",
   "execution_count": null,
   "id": "black-constraint",
   "metadata": {},
   "outputs": [],
   "source": [
    "5 3\n",
    "0 0 1 0 0\n",
    "0 0 2 0 1\n",
    "0 1 2 0 0\n",
    "0 0 1 0 0\n",
    "0 0 0 0 2"
   ]
  }
 ],
 "metadata": {
  "kernelspec": {
   "display_name": "Python 3",
   "language": "python",
   "name": "python3"
  },
  "language_info": {
   "codemirror_mode": {
    "name": "ipython",
    "version": 3
   },
   "file_extension": ".py",
   "mimetype": "text/x-python",
   "name": "python",
   "nbconvert_exporter": "python",
   "pygments_lexer": "ipython3",
   "version": "3.8.3"
  }
 },
 "nbformat": 4,
 "nbformat_minor": 5
}
