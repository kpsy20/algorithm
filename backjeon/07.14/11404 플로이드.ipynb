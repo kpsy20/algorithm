{
 "cells": [
  {
   "cell_type": "markdown",
   "id": "abandoned-local",
   "metadata": {},
   "source": [
    "5\n",
    "14\n",
    "1 2 2\n",
    "1 3 3\n",
    "1 4 1\n",
    "1 5 10\n",
    "2 4 2\n",
    "3 4 1\n",
    "3 5 1\n",
    "4 5 3\n",
    "3 5 10\n",
    "3 1 8\n",
    "1 4 2\n",
    "5 1 7\n",
    "3 4 2\n",
    "5 2 4"
   ]
  },
  {
   "cell_type": "code",
   "execution_count": 4,
   "id": "about-program",
   "metadata": {},
   "outputs": [
    {
     "name": "stdout",
     "output_type": "stream",
     "text": [
      "2\n",
      "1\n",
      "1 2 3\n"
     ]
    }
   ],
   "source": [
    "city = int(input())\n",
    "bus = int(input())\n",
    "\n",
    "cost = [[-1 for x in range(city+1)] for y in range(city+1)]\n",
    "load = [[-1 for x in range(city+1)] for y in range(city+1)]\n",
    "\n",
    "for i in range(bus):\n",
    "    x, y, c = list(map(int, input().split()))\n",
    "    load[x][y] = c\n",
    "\n",
    "    "
   ]
  },
  {
   "cell_type": "code",
   "execution_count": 5,
   "id": "confidential-python",
   "metadata": {},
   "outputs": [
    {
     "data": {
      "text/plain": [
       "1"
      ]
     },
     "execution_count": 5,
     "metadata": {},
     "output_type": "execute_result"
    }
   ],
   "source": []
  },
  {
   "cell_type": "code",
   "execution_count": null,
   "id": "injured-glance",
   "metadata": {},
   "outputs": [],
   "source": []
  }
 ],
 "metadata": {
  "kernelspec": {
   "display_name": "Python 3",
   "language": "python",
   "name": "python3"
  },
  "language_info": {
   "codemirror_mode": {
    "name": "ipython",
    "version": 3
   },
   "file_extension": ".py",
   "mimetype": "text/x-python",
   "name": "python",
   "nbconvert_exporter": "python",
   "pygments_lexer": "ipython3",
   "version": "3.8.3"
  }
 },
 "nbformat": 4,
 "nbformat_minor": 5
}
