{
 "cells": [
  {
   "cell_type": "code",
   "execution_count": null,
   "id": "serious-fourth",
   "metadata": {},
   "outputs": [],
   "source": [
    "3\n",
    "9\n",
    "2 1 4 3 5 6 2 7 2"
   ]
  },
  {
   "cell_type": "code",
   "execution_count": 24,
   "id": "consolidated-client",
   "metadata": {},
   "outputs": [
    {
     "name": "stdout",
     "output_type": "stream",
     "text": [
      "3\n",
      "9\n",
      "2 1 4 3 5 6 2 7 2\n",
      "2 6 7\n"
     ]
    }
   ],
   "source": [
    "test = int(input())\n",
    "student = int(input())\n",
    "choose = list(map(int, input().split()))\n",
    "match = {}\n",
    "for i in range(len(choose)):\n",
    "    #print(match)\n",
    "    if choose[i] not in match:\n",
    "        if len(match) == test:\n",
    "            minV = -1\n",
    "            minIndex = -1\n",
    "            delIndex = -1\n",
    "            for j in match:\n",
    "                if minV == -1 or minV >= match[j][0]:\n",
    "                    if minV == match[j][0]: #같은 값들 처리\n",
    "                        if minIndex > match[j][1]:\n",
    "                            delIndex = j\n",
    "                            minIndex = match[j][1]\n",
    "                            minV = match[j][0]\n",
    "                    else:\n",
    "                        delIndex = j\n",
    "                        minV =match[j][0]\n",
    "                        minIndex = match[j][1]\n",
    "            #print(minIndex, minV)\n",
    "            del match[delIndex] #삭제하고\n",
    "            match[choose[i]] = [1, i]  #추가\n",
    "        else:\n",
    "            match[choose[i]] = [1, i] #추천 받은 횟수, 추천 받은 시기\n",
    "    else:\n",
    "        match[choose[i]][0] += 1\n",
    "sdict = sorted(match.items())\n",
    "answer = ''\n",
    "for i in sdict:\n",
    "    answer += str(i[0]) + ' '\n",
    "print(answer[:-1])"
   ]
  }
 ],
 "metadata": {
  "kernelspec": {
   "display_name": "Python 3",
   "language": "python",
   "name": "python3"
  },
  "language_info": {
   "codemirror_mode": {
    "name": "ipython",
    "version": 3
   },
   "file_extension": ".py",
   "mimetype": "text/x-python",
   "name": "python",
   "nbconvert_exporter": "python",
   "pygments_lexer": "ipython3",
   "version": "3.8.3"
  }
 },
 "nbformat": 4,
 "nbformat_minor": 5
}
