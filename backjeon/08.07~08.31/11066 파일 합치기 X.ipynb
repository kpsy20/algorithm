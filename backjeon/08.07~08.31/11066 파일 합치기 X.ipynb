{
 "cells": [
  {
   "cell_type": "code",
   "execution_count": null,
   "id": "classified-control",
   "metadata": {},
   "outputs": [],
   "source": [
    "2\n",
    "4\n",
    "40 30 30 50\n",
    "15\n",
    "1 21 3 4 5 35 5 4 3 5 98 21 14 17 32"
   ]
  },
  {
   "cell_type": "code",
   "execution_count": 22,
   "id": "private-providence",
   "metadata": {},
   "outputs": [
    {
     "name": "stdout",
     "output_type": "stream",
     "text": [
      "1\n",
      "15\n",
      "1 21 3 4 5 35 5 4 3 5 98 21 14 17 32\n",
      "[1, 3, 3, 4, 5, 14, 5, 4, 21, 5, 98, 21, 35, 17, 32]\n",
      "0\n",
      "[3, 4, 4, 4, 5, 14, 5, 32, 21, 5, 98, 21, 35, 17]\n",
      "4\n",
      "[4, 4, 5, 21, 5, 7, 17, 32, 35, 5, 98, 21, 14]\n",
      "11\n",
      "[5, 5, 7, 21, 5, 8, 17, 32, 35, 14, 98, 21]\n",
      "19\n",
      "[5, 10, 7, 21, 14, 8, 17, 32, 35, 98, 21]\n",
      "29\n",
      "[8, 10, 17, 21, 12, 21, 98, 32, 35, 14]\n",
      "41\n",
      "[12, 14, 17, 18, 35, 21, 98, 32, 21]\n",
      "59\n",
      "[17, 18, 21, 21, 35, 32, 98, 26]\n",
      "85\n",
      "[21, 21, 32, 26, 35, 98, 35]\n",
      "120\n",
      "[26, 35, 32, 35, 98, 42]\n",
      "162\n",
      "[35, 35, 42, 98, 58]\n",
      "220\n",
      "[42, 58, 98, 70]\n",
      "290\n",
      "[70, 98, 100]\n",
      "390\n",
      "[100, 168]\n",
      "558\n",
      "826\n"
     ]
    }
   ],
   "source": [
    "import heapq\n",
    "import sys\n",
    "test = int(input())\n",
    "for i in range(test):\n",
    "    num = int(input())\n",
    "    cost = list(map(int, input().split()))\n",
    "    \n",
    "        \n",
    "        "
   ]
  },
  {
   "cell_type": "code",
   "execution_count": 8,
   "id": "figured-objective",
   "metadata": {},
   "outputs": [
    {
     "data": {
      "text/plain": [
       "[1, 3, 3, 4, 4, 5, 5, 5, 14, 17, 21, 21, 32, 35, 98]"
      ]
     },
     "execution_count": 8,
     "metadata": {},
     "output_type": "execute_result"
    }
   ],
   "source": [
    "cost"
   ]
  },
  {
   "cell_type": "code",
   "execution_count": 13,
   "id": "occasional-motor",
   "metadata": {},
   "outputs": [
    {
     "ename": "TypeError",
     "evalue": "heapify() takes exactly one argument (2 given)",
     "output_type": "error",
     "traceback": [
      "\u001b[1;31m---------------------------------------------------------------------------\u001b[0m",
      "\u001b[1;31mTypeError\u001b[0m                                 Traceback (most recent call last)",
      "\u001b[1;32m<ipython-input-13-6d417f23d865>\u001b[0m in \u001b[0;36m<module>\u001b[1;34m\u001b[0m\n\u001b[0;32m      1\u001b[0m \u001b[0ma\u001b[0m \u001b[1;33m=\u001b[0m \u001b[1;33m[\u001b[0m\u001b[1;36m1\u001b[0m\u001b[1;33m,\u001b[0m\u001b[1;36m2\u001b[0m\u001b[1;33m,\u001b[0m\u001b[1;36m3\u001b[0m\u001b[1;33m,\u001b[0m\u001b[1;36m4\u001b[0m\u001b[1;33m,\u001b[0m\u001b[1;36m5\u001b[0m\u001b[1;33m]\u001b[0m\u001b[1;33m\u001b[0m\u001b[1;33m\u001b[0m\u001b[0m\n\u001b[1;32m----> 2\u001b[1;33m \u001b[0mheapq\u001b[0m\u001b[1;33m.\u001b[0m\u001b[0mheapify\u001b[0m\u001b[1;33m(\u001b[0m\u001b[0mb\u001b[0m\u001b[1;33m,\u001b[0m \u001b[0ma\u001b[0m\u001b[1;33m)\u001b[0m\u001b[1;33m\u001b[0m\u001b[1;33m\u001b[0m\u001b[0m\n\u001b[0m\u001b[0;32m      3\u001b[0m \u001b[0mprint\u001b[0m\u001b[1;33m(\u001b[0m\u001b[0mb\u001b[0m\u001b[1;33m)\u001b[0m\u001b[1;33m\u001b[0m\u001b[1;33m\u001b[0m\u001b[0m\n",
      "\u001b[1;31mTypeError\u001b[0m: heapify() takes exactly one argument (2 given)"
     ]
    }
   ],
   "source": []
  },
  {
   "cell_type": "code",
   "execution_count": null,
   "id": "ethical-sending",
   "metadata": {},
   "outputs": [],
   "source": []
  }
 ],
 "metadata": {
  "kernelspec": {
   "display_name": "Python 3",
   "language": "python",
   "name": "python3"
  },
  "language_info": {
   "codemirror_mode": {
    "name": "ipython",
    "version": 3
   },
   "file_extension": ".py",
   "mimetype": "text/x-python",
   "name": "python",
   "nbconvert_exporter": "python",
   "pygments_lexer": "ipython3",
   "version": "3.8.3"
  }
 },
 "nbformat": 4,
 "nbformat_minor": 5
}
