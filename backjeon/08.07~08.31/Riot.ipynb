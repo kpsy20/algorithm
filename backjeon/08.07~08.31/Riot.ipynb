{
 "cells": [
  {
   "cell_type": "code",
   "execution_count": 77,
   "id": "least-puzzle",
   "metadata": {},
   "outputs": [],
   "source": [
    "def makeWordSetSortDict(wordSet):\n",
    "    wordSetSortDict = {}\n",
    "    for word in wordSet:\n",
    "        sortedWord = ''.join(sorted(list(word)))\n",
    "        if sortedWord in wordSetSortDict:\n",
    "            wordSetSortDict[sortedWord] += 1\n",
    "        else:\n",
    "            wordSetSortDict[sortedWord] = 1\n",
    "    return wordSetSortDict\n",
    "\n",
    "def makeSentencesSortList(sentence):\n",
    "    sentencesSortList = []\n",
    "    for word in sentence.split():\n",
    "        sortedWord = ''.join(sorted(list(word)))\n",
    "        sentencesSortList.append(sortedWord)\n",
    "    return sentencesSortList\n",
    "\n",
    "def countSentences(wordSet, sentences):\n",
    "    # Write your code here\n",
    "    #1 pick same words in wordSet\n",
    "    wordSetSortDict = makeWordSetSortDict(wordSet)\n",
    "    #2 pick same words in sentences & count able sentences\n",
    "    for sentence in sentences:\n",
    "        sentencesSortList = makeSentencesSortList(sentence)\n",
    "        answer = 1\n",
    "        for word in sentencesSortList:\n",
    "            if word in wordSetSortDict:\n",
    "                answer *= wordSetSortDict[word]\n",
    "            else:\n",
    "                answer = 0\n",
    "                break\n",
    "        print(answer)\n",
    "    "
   ]
  },
  {
   "cell_type": "code",
   "execution_count": 78,
   "id": "decent-league",
   "metadata": {},
   "outputs": [],
   "source": [
    "wordSet = ['the', 'bats', 'tabs', 'in', 'cat', 'act']\n",
    "sentences = ['cat the bats', 'in the act', 'act tabs in']"
   ]
  },
  {
   "cell_type": "code",
   "execution_count": 79,
   "id": "widespread-being",
   "metadata": {
    "scrolled": false
   },
   "outputs": [
    {
     "name": "stdout",
     "output_type": "stream",
     "text": [
      "4\n",
      "2\n",
      "4\n"
     ]
    }
   ],
   "source": [
    "countSentences(wordSet, sentences)"
   ]
  },
  {
   "cell_type": "code",
   "execution_count": 132,
   "id": "parallel-prize",
   "metadata": {},
   "outputs": [],
   "source": [
    "import heapq\n",
    "def lastStoneWeight(weights):\n",
    "    max_heapq = []\n",
    "    for weight in weights:\n",
    "        heapq.heappush(max_heapq, (-weight, weight))\n",
    "        \n",
    "    while len(max_heapq) > 1:\n",
    "        print(max_heapq)\n",
    "        moreHeavy = heapq.heappop(max_heapq)[1]\n",
    "        heavy = heapq.heappop(max_heapq)[1]\n",
    "        if moreHeavy == heavy:\n",
    "            continue\n",
    "        else:\n",
    "            gap = moreHeavy - heavy\n",
    "            heapq.heappush(max_heapq, (-gap, gap))\n",
    "    if len(max_heapq) == 1:\n",
    "        return max_heapq[0][1]\n",
    "    else:\n",
    "        return 0"
   ]
  },
  {
   "cell_type": "code",
   "execution_count": 133,
   "id": "guided-series",
   "metadata": {},
   "outputs": [],
   "source": [
    "weights = [2, 2, 5,  5, 5, 5]"
   ]
  },
  {
   "cell_type": "code",
   "execution_count": 134,
   "id": "orange-heart",
   "metadata": {},
   "outputs": [
    {
     "name": "stdout",
     "output_type": "stream",
     "text": [
      "[(-5, 5), (-5, 5), (-5, 5), (-2, 2), (-5, 5), (-2, 2)]\n",
      "[(-5, 5), (-5, 5), (-2, 2), (-2, 2)]\n",
      "[(-2, 2), (-2, 2)]\n"
     ]
    },
    {
     "data": {
      "text/plain": [
       "0"
      ]
     },
     "execution_count": 134,
     "metadata": {},
     "output_type": "execute_result"
    }
   ],
   "source": [
    "lastStoneWeight(weights)"
   ]
  },
  {
   "cell_type": "code",
   "execution_count": null,
   "id": "collaborative-forge",
   "metadata": {},
   "outputs": [],
   "source": []
  },
  {
   "cell_type": "code",
   "execution_count": null,
   "id": "differential-education",
   "metadata": {},
   "outputs": [],
   "source": []
  }
 ],
 "metadata": {
  "kernelspec": {
   "display_name": "Python 3",
   "language": "python",
   "name": "python3"
  },
  "language_info": {
   "codemirror_mode": {
    "name": "ipython",
    "version": 3
   },
   "file_extension": ".py",
   "mimetype": "text/x-python",
   "name": "python",
   "nbconvert_exporter": "python",
   "pygments_lexer": "ipython3",
   "version": "3.8.3"
  }
 },
 "nbformat": 4,
 "nbformat_minor": 5
}
