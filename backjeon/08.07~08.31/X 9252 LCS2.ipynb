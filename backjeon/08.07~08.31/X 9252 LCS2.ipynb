{
 "cells": [
  {
   "cell_type": "code",
   "execution_count": null,
   "id": "excess-spyware",
   "metadata": {},
   "outputs": [],
   "source": [
    "ACAYKP\n",
    "CAPCAK"
   ]
  },
  {
   "cell_type": "code",
   "execution_count": 11,
   "id": "shaped-murray",
   "metadata": {},
   "outputs": [
    {
     "name": "stdout",
     "output_type": "stream",
     "text": [
      "aabbccaa\n",
      "bbcaccaa\n",
      "6\n",
      "aaccaa\n"
     ]
    }
   ],
   "source": [
    "a = input()\n",
    "b = input()\n",
    "\n",
    "dp = [[0 for x in range(len(a)+1)] for y in range(len(b)+1)]\n",
    "dic = {}\n",
    "for i in range(len(b)):\n",
    "    for j in range(len(a)):\n",
    "        if a[j] == b[i]:\n",
    "            dp[i+1][j+1] = dp[i][j] + 1\n",
    "            if dp[i+1][j+1] in dic:\n",
    "                if dic[dp[i+1][j+1]][0] > j:\n",
    "                    dic[dp[i+1][j+1]] = [j, i, a[j]]\n",
    "                elif dic[dp[i+1][j+1]][0] == j:\n",
    "                    if dic[dp[i+1][j+1]][1] > i:\n",
    "                        dic[dp[i+1][j+1]] = [j, i, a[j]]\n",
    "            else:\n",
    "                dic[dp[i+1][j+1]] = [j, i, a[j]]\n",
    "        else:\n",
    "            dp[i+1][j+1] = max(dp[i][j+1], dp[i+1][j])\n",
    "print(max(dp[-1]))\n",
    "ans = ''\n",
    "for i in dic:\n",
    "    ans += dic[i][2]\n",
    "print(ans)"
   ]
  },
  {
   "cell_type": "code",
   "execution_count": 12,
   "id": "protecting-measure",
   "metadata": {},
   "outputs": [
    {
     "data": {
      "text/plain": [
       "{1: [0, 3, 'a'],\n",
       " 2: [1, 6, 'a'],\n",
       " 3: [4, 2, 'c'],\n",
       " 4: [5, 4, 'c'],\n",
       " 5: [6, 6, 'a'],\n",
       " 6: [7, 7, 'a']}"
      ]
     },
     "execution_count": 12,
     "metadata": {},
     "output_type": "execute_result"
    }
   ],
   "source": [
    "dic"
   ]
  },
  {
   "cell_type": "code",
   "execution_count": 13,
   "id": "obvious-missile",
   "metadata": {},
   "outputs": [
    {
     "data": {
      "text/plain": [
       "[[0, 0, 0, 0, 0, 0, 0, 0, 0],\n",
       " [0, 0, 0, 1, 1, 1, 1, 1, 1],\n",
       " [0, 0, 0, 1, 2, 2, 2, 2, 2],\n",
       " [0, 0, 0, 1, 2, 3, 3, 3, 3],\n",
       " [0, 1, 1, 1, 2, 3, 3, 4, 4],\n",
       " [0, 1, 1, 1, 2, 3, 4, 4, 4],\n",
       " [0, 1, 1, 1, 2, 3, 4, 4, 4],\n",
       " [0, 1, 2, 2, 2, 3, 4, 5, 5],\n",
       " [0, 1, 2, 2, 2, 3, 4, 5, 6]]"
      ]
     },
     "execution_count": 13,
     "metadata": {},
     "output_type": "execute_result"
    }
   ],
   "source": [
    "dp"
   ]
  },
  {
   "cell_type": "code",
   "execution_count": null,
   "id": "composite-shoulder",
   "metadata": {},
   "outputs": [],
   "source": []
  }
 ],
 "metadata": {
  "kernelspec": {
   "display_name": "Python 3",
   "language": "python",
   "name": "python3"
  },
  "language_info": {
   "codemirror_mode": {
    "name": "ipython",
    "version": 3
   },
   "file_extension": ".py",
   "mimetype": "text/x-python",
   "name": "python",
   "nbconvert_exporter": "python",
   "pygments_lexer": "ipython3",
   "version": "3.8.3"
  }
 },
 "nbformat": 4,
 "nbformat_minor": 5
}
