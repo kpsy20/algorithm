{
 "cells": [
  {
   "cell_type": "code",
   "execution_count": null,
   "id": "sensitive-barrier",
   "metadata": {},
   "outputs": [],
   "source": [
    "6\n",
    "6\n",
    "10\n",
    "13\n",
    "9\n",
    "8\n",
    "1"
   ]
  },
  {
   "cell_type": "code",
   "execution_count": 25,
   "id": "convinced-devil",
   "metadata": {},
   "outputs": [
    {
     "name": "stdout",
     "output_type": "stream",
     "text": [
      "6\n",
      "6\n",
      "10\n",
      "13\n",
      "9\n",
      "8\n",
      "1\n",
      "33\n"
     ]
    }
   ],
   "source": [
    "n = int(input())\n",
    "dp = [[0 for x in range(2)] for y in range(n)]\n",
    "\n",
    "wine = []\n",
    "for i in range(n):\n",
    "    wine.append(int(input()))\n",
    "\n",
    "dp[0][0] = wine[0]\n",
    "dp[0][1] = 0\n",
    "res_list = [wine[0]]\n",
    "if len(wine) >= 2:\n",
    "    dp[1][0] = wine[0] + wine[1]\n",
    "    dp[1][1] = wine[1]\n",
    "    res_list = [wine[0], wine[0]+wine[1]]\n",
    "if len(wine) >= 3:\n",
    "    dp[2][0] = wine[1]+wine[2]\n",
    "    dp[2][1] = wine[0]+wine[2]\n",
    "    res_list = [wine[0], wine[0]+wine[1], max(wine[1]+wine[2], wine[0]+wine[2])]\n",
    "for i in range(3, n):\n",
    "    res = 0\n",
    "    dp[i][0] = max(res_list[:i-2]) + wine[i-1] + wine[i]\n",
    "    dp[i][1] = max(res_list[:i-1]) + wine[i]\n",
    "    if res < max(dp[i][0], dp[i][1]):\n",
    "        res = max(dp[i][0], dp[i][1])\n",
    "    res_list.append(res)\n",
    "print(max(res_list))"
   ]
  },
  {
   "cell_type": "code",
   "execution_count": 26,
   "id": "liable-attention",
   "metadata": {},
   "outputs": [
    {
     "data": {
      "text/plain": [
       "[[6, 0], [16, 10], [23, 19], [28, 25], [33, 31], [32, 29]]"
      ]
     },
     "execution_count": 26,
     "metadata": {},
     "output_type": "execute_result"
    }
   ],
   "source": [
    "dp"
   ]
  },
  {
   "cell_type": "code",
   "execution_count": 27,
   "id": "expensive-excerpt",
   "metadata": {},
   "outputs": [
    {
     "data": {
      "text/plain": [
       "[6, 16, 23, 28, 33, 32]"
      ]
     },
     "execution_count": 27,
     "metadata": {},
     "output_type": "execute_result"
    }
   ],
   "source": [
    "res_list"
   ]
  },
  {
   "cell_type": "code",
   "execution_count": null,
   "id": "precious-tokyo",
   "metadata": {},
   "outputs": [],
   "source": []
  }
 ],
 "metadata": {
  "kernelspec": {
   "display_name": "Python 3",
   "language": "python",
   "name": "python3"
  },
  "language_info": {
   "codemirror_mode": {
    "name": "ipython",
    "version": 3
   },
   "file_extension": ".py",
   "mimetype": "text/x-python",
   "name": "python",
   "nbconvert_exporter": "python",
   "pygments_lexer": "ipython3",
   "version": "3.8.3"
  }
 },
 "nbformat": 4,
 "nbformat_minor": 5
}
