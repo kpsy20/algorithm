{
 "cells": [
  {
   "cell_type": "code",
   "execution_count": 4,
   "id": "architectural-romance",
   "metadata": {},
   "outputs": [
    {
     "name": "stdout",
     "output_type": "stream",
     "text": [
      "3\n",
      "3\n",
      "0 1 0\n",
      "1 0 1\n",
      "0 1 0\n",
      "1 2 3\n",
      "YES\n"
     ]
    }
   ],
   "source": [
    "city = int(input())\n",
    "want = int(input())\n",
    "edge = []\n",
    "for i in range(city):\n",
    "    edge.append(list(map(int, input().split())))\n",
    "\n",
    "go = [x-1 for x in list(map(int, input().split()))]\n",
    "\n",
    "q = [go[0]]\n",
    "visited = [False for x in range(city)]\n",
    "visited[go[0]] = True\n",
    "while q:\n",
    "    now = q.pop()\n",
    "    for i in range(city):\n",
    "        if edge[now][i] == 1 and visited[i] == False:\n",
    "            q.append(i)\n",
    "            visited[i] = True\n",
    "check = True\n",
    "for i in range(len(go)):\n",
    "    if visited[go[i]] == False:\n",
    "        check = False\n",
    "        break\n",
    "if check:\n",
    "    print(\"YES\")\n",
    "else:\n",
    "    print(\"NO\")"
   ]
  },
  {
   "cell_type": "code",
   "execution_count": 2,
   "id": "taken-brand",
   "metadata": {},
   "outputs": [
    {
     "data": {
      "text/plain": [
       "[0, 1, 2]"
      ]
     },
     "execution_count": 2,
     "metadata": {},
     "output_type": "execute_result"
    }
   ],
   "source": [
    "3\n",
    "3\n",
    "0 1 0\n",
    "1 0 1\n",
    "0 1 0\n",
    "1 2 3"
   ]
  },
  {
   "cell_type": "code",
   "execution_count": null,
   "id": "perfect-shanghai",
   "metadata": {},
   "outputs": [],
   "source": []
  }
 ],
 "metadata": {
  "kernelspec": {
   "display_name": "Python 3",
   "language": "python",
   "name": "python3"
  },
  "language_info": {
   "codemirror_mode": {
    "name": "ipython",
    "version": 3
   },
   "file_extension": ".py",
   "mimetype": "text/x-python",
   "name": "python",
   "nbconvert_exporter": "python",
   "pygments_lexer": "ipython3",
   "version": "3.8.3"
  }
 },
 "nbformat": 4,
 "nbformat_minor": 5
}
