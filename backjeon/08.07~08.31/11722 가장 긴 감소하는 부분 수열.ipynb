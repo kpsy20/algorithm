{
 "cells": [
  {
   "cell_type": "code",
   "execution_count": 2,
   "id": "pressing-humidity",
   "metadata": {},
   "outputs": [
    {
     "name": "stdout",
     "output_type": "stream",
     "text": [
      "6\n",
      "10 30 10 20 20 10\n",
      "3\n"
     ]
    }
   ],
   "source": [
    "import bisect\n",
    "\n",
    "n = int(input())\n",
    "arr = [-x for x in list(map(int, input().split()))]\n",
    "dp = [arr[0]]\n",
    "for i in range(n):\n",
    "    if dp[-1] < arr[i]:\n",
    "        dp.append(arr[i])\n",
    "    else:\n",
    "        idx = bisect.bisect_left(dp, arr[i])\n",
    "        dp[idx] = arr[i]\n",
    "print(len(dp))"
   ]
  },
  {
   "cell_type": "code",
   "execution_count": null,
   "id": "novel-master",
   "metadata": {},
   "outputs": [],
   "source": [
    "6\n",
    "10 30 10 20 20 10"
   ]
  }
 ],
 "metadata": {
  "kernelspec": {
   "display_name": "Python 3",
   "language": "python",
   "name": "python3"
  },
  "language_info": {
   "codemirror_mode": {
    "name": "ipython",
    "version": 3
   },
   "file_extension": ".py",
   "mimetype": "text/x-python",
   "name": "python",
   "nbconvert_exporter": "python",
   "pygments_lexer": "ipython3",
   "version": "3.8.3"
  }
 },
 "nbformat": 4,
 "nbformat_minor": 5
}
