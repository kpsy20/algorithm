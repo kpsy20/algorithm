{
 "cells": [
  {
   "cell_type": "code",
   "execution_count": 4,
   "id": "connected-monaco",
   "metadata": {},
   "outputs": [
    {
     "name": "stdout",
     "output_type": "stream",
     "text": [
      "7\n",
      "1 7 3 2 5 10 3\n",
      "4\n"
     ]
    }
   ],
   "source": [
    "import bisect\n",
    "\n",
    "x = int(input())\n",
    "arr = list(map(int, input().split()))\n",
    "\n",
    "dp = [arr[0]] #첫 원소 담아줌\n",
    "for i in range(1, x):\n",
    "    if arr[i] > dp[-1]: #현재 요소가 dp 마지막 보다 크다면\n",
    "        dp.append(arr[i])\n",
    "    else:\n",
    "        idx = bisect.bisect_left(dp, arr[i])\n",
    "        dp[idx] = arr[i]\n",
    "print(len(dp))"
   ]
  },
  {
   "cell_type": "code",
   "execution_count": null,
   "id": "asian-tractor",
   "metadata": {},
   "outputs": [],
   "source": [
    "6\n",
    "10 20 10 30 20 50"
   ]
  }
 ],
 "metadata": {
  "kernelspec": {
   "display_name": "Python 3",
   "language": "python",
   "name": "python3"
  },
  "language_info": {
   "codemirror_mode": {
    "name": "ipython",
    "version": 3
   },
   "file_extension": ".py",
   "mimetype": "text/x-python",
   "name": "python",
   "nbconvert_exporter": "python",
   "pygments_lexer": "ipython3",
   "version": "3.8.3"
  }
 },
 "nbformat": 4,
 "nbformat_minor": 5
}
