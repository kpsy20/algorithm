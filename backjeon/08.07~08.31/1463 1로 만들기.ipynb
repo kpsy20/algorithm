{
 "cells": [
  {
   "cell_type": "code",
   "execution_count": 12,
   "id": "satisfied-result",
   "metadata": {},
   "outputs": [
    {
     "name": "stdout",
     "output_type": "stream",
     "text": [
      "6\n",
      "1\n"
     ]
    }
   ],
   "source": [
    "n = int(input())\n",
    "dp = [0, 0, 1, 1] #0, 1, 2, 3의 결과 값\n",
    "\n",
    "for i in range(4, n+1): #N까지\n",
    "    \n",
    "    #print(dp)\n",
    "    if i%6==0:\n",
    "        dp.append(min(dp[i//3]+1, dp[i//2]+1, dp[i-1]+1))\n",
    "    elif i%3==0:\n",
    "        dp.append(min(dp[i//3]+1, dp[i-1]+1))\n",
    "    elif i%2==0:\n",
    "        dp.append(min(dp[i//2]+1, dp[i-1]+1))\n",
    "    else:\n",
    "        dp.append(dp[i-1]+1)\n",
    "print(dp[n])"
   ]
  },
  {
   "cell_type": "markdown",
   "id": "polyphonic-satisfaction",
   "metadata": {},
   "source": [
    "# "
   ]
  }
 ],
 "metadata": {
  "kernelspec": {
   "display_name": "Python 3",
   "language": "python",
   "name": "python3"
  },
  "language_info": {
   "codemirror_mode": {
    "name": "ipython",
    "version": 3
   },
   "file_extension": ".py",
   "mimetype": "text/x-python",
   "name": "python",
   "nbconvert_exporter": "python",
   "pygments_lexer": "ipython3",
   "version": "3.8.3"
  }
 },
 "nbformat": 4,
 "nbformat_minor": 5
}
