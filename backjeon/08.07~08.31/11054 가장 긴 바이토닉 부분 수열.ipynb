{
 "cells": [
  {
   "cell_type": "code",
   "execution_count": 22,
   "id": "pleased-cooper",
   "metadata": {
    "scrolled": true
   },
   "outputs": [
    {
     "name": "stdout",
     "output_type": "stream",
     "text": [
      "10\n",
      "1 5 2 1 4 3 4 5 2 1\n",
      "7\n"
     ]
    }
   ],
   "source": [
    "n = int(input())\n",
    "arr = list(map(int, input().split()))\n",
    "\n",
    "import bisect\n",
    "res=0\n",
    "for i in range(n):\n",
    "    arr1 = [x for x in arr[:i+1] if x<=arr[i]] #arr[i]가 무조건 포함. 제일 커야 마지막 포함.\n",
    "    arr2 = [-x for x in arr[i:] if x<=arr[i]] #arr[i]가 무조건 포함. 제일 작아야 처음 포함.\n",
    "    dp1 = [arr1[0]]\n",
    "    dp2 = [arr2[0]]\n",
    "    for i1 in range(len(arr1)):\n",
    "        if dp1[-1] < arr1[i1]:\n",
    "            dp1.append(arr1[i1])\n",
    "        else:\n",
    "            idx = bisect.bisect_left(dp1, arr1[i1])\n",
    "            dp1[idx] = arr1[i1]\n",
    "    for i2 in range(len(arr2)):\n",
    "        if dp2[-1] < arr2[i2]:\n",
    "            dp2.append(arr2[i2])\n",
    "        else:\n",
    "            idx = bisect.bisect_left(dp2, arr2[i2])\n",
    "            dp2[idx] = arr2[i2]\n",
    "    #print(i)\n",
    "    #print(\"arr1\", arr1)\n",
    "    #print(\"arr2\", arr2)\n",
    "    #print(\"dp1\", dp1)\n",
    "    #print(\"dp2\", dp2)\n",
    "    if len(dp2) + len(dp1) > res:\n",
    "        res = len(dp2) + len(dp1)\n",
    "print(res-1)"
   ]
  }
 ],
 "metadata": {
  "kernelspec": {
   "display_name": "Python 3",
   "language": "python",
   "name": "python3"
  },
  "language_info": {
   "codemirror_mode": {
    "name": "ipython",
    "version": 3
   },
   "file_extension": ".py",
   "mimetype": "text/x-python",
   "name": "python",
   "nbconvert_exporter": "python",
   "pygments_lexer": "ipython3",
   "version": "3.8.3"
  }
 },
 "nbformat": 4,
 "nbformat_minor": 5
}
