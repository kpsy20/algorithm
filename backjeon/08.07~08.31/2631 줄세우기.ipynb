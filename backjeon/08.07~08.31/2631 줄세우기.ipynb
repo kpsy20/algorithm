{
 "cells": [
  {
   "cell_type": "code",
   "execution_count": 3,
   "id": "norwegian-certification",
   "metadata": {},
   "outputs": [
    {
     "name": "stdout",
     "output_type": "stream",
     "text": [
      "7\n",
      "3\n",
      "7\n",
      "5\n",
      "2\n",
      "6\n",
      "1\n",
      "4\n",
      "4\n"
     ]
    }
   ],
   "source": [
    "n = int(input())\n",
    "stu = {}\n",
    "for i in range(n):\n",
    "    stu[int(input())] = i+1\n",
    "ans = 0\n",
    "\n"
   ]
  },
  {
   "cell_type": "code",
   "execution_count": null,
   "id": "governmental-little",
   "metadata": {},
   "outputs": [],
   "source": []
  }
 ],
 "metadata": {
  "kernelspec": {
   "display_name": "Python 3",
   "language": "python",
   "name": "python3"
  },
  "language_info": {
   "codemirror_mode": {
    "name": "ipython",
    "version": 3
   },
   "file_extension": ".py",
   "mimetype": "text/x-python",
   "name": "python",
   "nbconvert_exporter": "python",
   "pygments_lexer": "ipython3",
   "version": "3.8.3"
  }
 },
 "nbformat": 4,
 "nbformat_minor": 5
}
