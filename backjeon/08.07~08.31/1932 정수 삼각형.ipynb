{
 "cells": [
  {
   "cell_type": "code",
   "execution_count": null,
   "id": "seasonal-percentage",
   "metadata": {},
   "outputs": [],
   "source": [
    "5\n",
    "7\n",
    "3 8\n",
    "8 1 0\n",
    "2 7 4 4\n",
    "4 5 2 6 5"
   ]
  },
  {
   "cell_type": "code",
   "execution_count": 3,
   "id": "vital-building",
   "metadata": {},
   "outputs": [
    {
     "name": "stdout",
     "output_type": "stream",
     "text": [
      "5\n",
      "7\n",
      "3 8\n",
      "8 1 0\n",
      "2 7 4 4\n",
      "4 5 2 6 5\n",
      "30\n"
     ]
    }
   ],
   "source": [
    "dp = [[0 for x in range(500)] for y in range(500)]\n",
    "\n",
    "n = int(input())\n",
    "tri = []\n",
    "for i in range(n):\n",
    "    tri.append(list(map(int, input().split())))\n",
    "dp[0][0] = tri[0][0]\n",
    "\n",
    "for i in range(1, n):\n",
    "    for j in range(len(tri[i])):\n",
    "        if j>0 and j<len(tri[i])-1:\n",
    "            dp[i][j] = max(dp[i-1][j-1], dp[i-1][j]) + tri[i][j]\n",
    "        elif j==len(tri[i])-1:\n",
    "            dp[i][j] = dp[i-1][j-1] + tri[i][j]\n",
    "        else:\n",
    "            dp[i][j] = tri[i][j] + dp[i-1][j]\n",
    "print(max(dp[n-1]))"
   ]
  },
  {
   "cell_type": "code",
   "execution_count": 2,
   "id": "dressed-awareness",
   "metadata": {},
   "outputs": [
    {
     "name": "stdout",
     "output_type": "stream",
     "text": [
      "[7, 0, 0, 0, 0]\n",
      "[10, 15, 0, 0, 0]\n",
      "[11, 9, 8, 0, 0]\n",
      "[10, 15, 5, 4, 0]\n",
      "[6, 12, 9, 10, 9]\n"
     ]
    }
   ],
   "source": [
    "for i in range(5):\n",
    "    print(dp[i][:5])"
   ]
  },
  {
   "cell_type": "code",
   "execution_count": null,
   "id": "rough-pilot",
   "metadata": {},
   "outputs": [],
   "source": []
  }
 ],
 "metadata": {
  "kernelspec": {
   "display_name": "Python 3",
   "language": "python",
   "name": "python3"
  },
  "language_info": {
   "codemirror_mode": {
    "name": "ipython",
    "version": 3
   },
   "file_extension": ".py",
   "mimetype": "text/x-python",
   "name": "python",
   "nbconvert_exporter": "python",
   "pygments_lexer": "ipython3",
   "version": "3.8.3"
  }
 },
 "nbformat": 4,
 "nbformat_minor": 5
}
