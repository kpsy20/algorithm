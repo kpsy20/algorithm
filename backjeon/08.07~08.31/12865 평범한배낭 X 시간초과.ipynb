{
 "cells": [
  {
   "cell_type": "code",
   "execution_count": null,
   "id": "aquatic-optics",
   "metadata": {},
   "outputs": [],
   "source": [
    "4 7\n",
    "6 13\n",
    "4 8\n",
    "3 6\n",
    "5 12"
   ]
  },
  {
   "cell_type": "code",
   "execution_count": 15,
   "id": "current-maria",
   "metadata": {},
   "outputs": [
    {
     "name": "stdout",
     "output_type": "stream",
     "text": [
      "4 7\n",
      "6 13\n",
      "4 8\n",
      "3 6\n",
      "5 12\n",
      "14\n"
     ]
    }
   ],
   "source": [
    "def get(item, bag, k):#가방 : 무게, 가치\n",
    "    global res\n",
    "    if len(item) == 0 or bag[0] + item[0][0] > k:\n",
    "        res.append(bag[1])\n",
    "        return\n",
    "    if bag[0] + item[0][0] <= k:\n",
    "        get(item[1:], [bag[0] + item[0][0], bag[1] + item[0][1]], k)\n",
    "    get(item[1:], bag, k)\n",
    "    \n",
    "res = []\n",
    "n, k = map(int, input().split())\n",
    "item = []\n",
    "for i in range(n):\n",
    "    item.append(list(map(int, input().split()))) # 무게, 가치\n",
    "item.sort()\n",
    "get(item, [0, 0], k)\n",
    "print(max(res))\n",
    "        "
   ]
  },
  {
   "cell_type": "code",
   "execution_count": 14,
   "id": "atmospheric-citizenship",
   "metadata": {},
   "outputs": [
    {
     "data": {
      "text/plain": [
       "[1, 2, 3]"
      ]
     },
     "execution_count": 14,
     "metadata": {},
     "output_type": "execute_result"
    }
   ],
   "source": [
    "a = [3,2,1]\n",
    "a.sort()\n",
    "a"
   ]
  },
  {
   "cell_type": "code",
   "execution_count": 16,
   "id": "speaking-briefs",
   "metadata": {},
   "outputs": [
    {
     "data": {
      "text/plain": [
       "[14, 6, 8, 12, 13, 0]"
      ]
     },
     "execution_count": 16,
     "metadata": {},
     "output_type": "execute_result"
    }
   ],
   "source": [
    "res"
   ]
  },
  {
   "cell_type": "code",
   "execution_count": null,
   "id": "fuzzy-presentation",
   "metadata": {},
   "outputs": [],
   "source": []
  }
 ],
 "metadata": {
  "kernelspec": {
   "display_name": "Python 3",
   "language": "python",
   "name": "python3"
  },
  "language_info": {
   "codemirror_mode": {
    "name": "ipython",
    "version": 3
   },
   "file_extension": ".py",
   "mimetype": "text/x-python",
   "name": "python",
   "nbconvert_exporter": "python",
   "pygments_lexer": "ipython3",
   "version": "3.8.3"
  }
 },
 "nbformat": 4,
 "nbformat_minor": 5
}
