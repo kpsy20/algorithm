{
 "cells": [
  {
   "cell_type": "code",
   "execution_count": 6,
   "id": "furnished-remedy",
   "metadata": {},
   "outputs": [
    {
     "name": "stdout",
     "output_type": "stream",
     "text": [
      "10\n",
      "10 -4 3 1 5 6 -35 12 21 -1\n",
      "33\n"
     ]
    }
   ],
   "source": [
    "n = int(input())\n",
    "arr = list(map(int, input().split()))\n",
    "\n",
    "dp = [0 for x in range(n)]\n",
    "dp[0] = arr[0]\n",
    "for i in range(1, n):\n",
    "    if dp[i-1]+arr[i] < arr[i]:\n",
    "        dp[i] = arr[i]#앞이 작으면 그냥 나 씀\n",
    "    else:\n",
    "        dp[i] = arr[i]+dp[i-1]\n",
    "print(max(dp))\n"
   ]
  },
  {
   "cell_type": "code",
   "execution_count": 5,
   "id": "sudden-notice",
   "metadata": {},
   "outputs": [
    {
     "data": {
      "text/plain": [
       "[10, -4, 3, 1, 5, 6, -35, 12, 21, -1]"
      ]
     },
     "execution_count": 5,
     "metadata": {},
     "output_type": "execute_result"
    }
   ],
   "source": [
    "dp"
   ]
  },
  {
   "cell_type": "code",
   "execution_count": null,
   "id": "virtual-turtle",
   "metadata": {},
   "outputs": [],
   "source": []
  }
 ],
 "metadata": {
  "kernelspec": {
   "display_name": "Python 3",
   "language": "python",
   "name": "python3"
  },
  "language_info": {
   "codemirror_mode": {
    "name": "ipython",
    "version": 3
   },
   "file_extension": ".py",
   "mimetype": "text/x-python",
   "name": "python",
   "nbconvert_exporter": "python",
   "pygments_lexer": "ipython3",
   "version": "3.8.3"
  }
 },
 "nbformat": 4,
 "nbformat_minor": 5
}
