{
 "cells": [
  {
   "cell_type": "code",
   "execution_count": null,
   "id": "thousand-conjunction",
   "metadata": {},
   "outputs": [],
   "source": [
    "dp = [0, 0, 0, 1, 0, 1]\n",
    "n = int(input())\n",
    "for i in range(6, n+1):\n",
    "    if dp[i-3] != 0 and dp[i-5] != 0:\n",
    "        dp.append(min(dp[i-3]+1, dp[i-5]+1))\n",
    "    elif dp[i-3] != 0:\n",
    "        dp.append(dp[i-3]+1)\n",
    "    elif dp[i-5] != 0:\n",
    "        dp.append(dp[i-5]+1)\n",
    "    else:\n",
    "        dp.append(0)\n",
    "if dp[n] == 0:\n",
    "    print(-1)\n",
    "else:\n",
    "    print(dp[n])"
   ]
  }
 ],
 "metadata": {
  "kernelspec": {
   "display_name": "Python 3",
   "language": "python",
   "name": "python3"
  },
  "language_info": {
   "codemirror_mode": {
    "name": "ipython",
    "version": 3
   },
   "file_extension": ".py",
   "mimetype": "text/x-python",
   "name": "python",
   "nbconvert_exporter": "python",
   "pygments_lexer": "ipython3",
   "version": "3.8.3"
  }
 },
 "nbformat": 4,
 "nbformat_minor": 5
}
