{
 "cells": [
  {
   "cell_type": "code",
   "execution_count": null,
   "id": "compact-paint",
   "metadata": {},
   "outputs": [],
   "source": [
    "2 5\n",
    "1 2\n",
    "3 4"
   ]
  },
  {
   "cell_type": "code",
   "execution_count": 22,
   "id": "variable-change",
   "metadata": {},
   "outputs": [
    {
     "name": "stdout",
     "output_type": "stream",
     "text": [
      "2 1\n",
      "1000 1000\n",
      "1000 1000\n",
      "0 0\n",
      "0 0\n"
     ]
    }
   ],
   "source": [
    "import copy\n",
    "import sys\n",
    "\n",
    "def matrix_mul(m1, m2):\n",
    "    global n\n",
    "    res = [[0 for x in range(n)] for y in range(n)]\n",
    "    for i in range(n):\n",
    "        for j in range(n):\n",
    "            for k in range(n):\n",
    "                res[i][j] += m1[i][k] * m2[k][j] % 1000\n",
    "            res[i][j] %= 1000\n",
    "    return res\n",
    "                \n",
    "def solve(matrix, size):\n",
    "    if size == 1:\n",
    "        return matrix\n",
    "    elif size % 2 == 1:\n",
    "        return matrix_mul(matrix, solve(matrix, size-1))\n",
    "    else:\n",
    "        res = solve(matrix, size//2)\n",
    "        return matrix_mul(res, res)\n",
    "    \n",
    "    \n",
    "n, k = map(int, input().split())\n",
    "matrix = []\n",
    "for i in range(n):\n",
    "    matrix.append(list(map(int, input().split())))\n",
    "ans = solve(matrix, k)\n",
    "\n",
    "for i in range(n):\n",
    "    print(' '.join([str(x%1000) for x in ans[i]]))"
   ]
  }
 ],
 "metadata": {
  "kernelspec": {
   "display_name": "Python 3",
   "language": "python",
   "name": "python3"
  },
  "language_info": {
   "codemirror_mode": {
    "name": "ipython",
    "version": 3
   },
   "file_extension": ".py",
   "mimetype": "text/x-python",
   "name": "python",
   "nbconvert_exporter": "python",
   "pygments_lexer": "ipython3",
   "version": "3.8.3"
  }
 },
 "nbformat": 4,
 "nbformat_minor": 5
}
