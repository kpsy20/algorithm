{
 "cells": [
  {
   "cell_type": "code",
   "execution_count": 11,
   "id": "dying-boundary",
   "metadata": {},
   "outputs": [
    {
     "name": "stdout",
     "output_type": "stream",
     "text": [
      "1\n",
      "5\n",
      "2 3\n",
      "3 4\n",
      "3 1\n",
      "1 5\n",
      "3 5\n",
      "3\n"
     ]
    }
   ],
   "source": [
    "import sys\n",
    "test = int(input())\n",
    "for i in range(test):\n",
    "    num_nodes = int(input())\n",
    "    out_nodes = [-1 for x in range(num_nodes)]\n",
    "    for j in range(num_nodes-1): #간선의 갯수\n",
    "        #a, b --> a가 b의 조상\n",
    "        #a, b = map(int, input().split())\n",
    "        a, b = map(int, sys.stdin.readline().split())\n",
    "        a-=1\n",
    "        b-=1\n",
    "        out_nodes[b] = a\n",
    "    #a, b = map(int, input().split())\n",
    "    a, b = map(int, sys.stdin.readline().split())\n",
    "    a-=1\n",
    "    b-=1\n",
    "    a_root = [a]\n",
    "    b_root = [b]\n",
    "    while out_nodes[a] != -1:\n",
    "        a = out_nodes[a]\n",
    "        a_root.append(a)\n",
    "    while out_nodes[b] != -1:\n",
    "        b = out_nodes[b]\n",
    "        b_root.append(b)\n",
    "    idx = 1\n",
    "    while idx <= min(len(a_root), len(b_root)) and a_root[-idx] == b_root[-idx]:\n",
    "        idx += 1\n",
    "    print(a_root[-idx+1]+1)"
   ]
  },
  {
   "cell_type": "code",
   "execution_count": null,
   "id": "fabulous-relative",
   "metadata": {},
   "outputs": [],
   "source": [
    "2\n",
    "16\n",
    "1 14\n",
    "8 5\n",
    "10 16\n",
    "5 9\n",
    "4 6\n",
    "8 4\n",
    "4 10\n",
    "1 13\n",
    "6 15\n",
    "10 11\n",
    "6 7\n",
    "10 2\n",
    "16 3\n",
    "8 1\n",
    "16 12\n",
    "16 7\n",
    "5\n",
    "2 3\n",
    "3 4\n",
    "3 1\n",
    "1 5\n",
    "3 5"
   ]
  }
 ],
 "metadata": {
  "kernelspec": {
   "display_name": "Python 3",
   "language": "python",
   "name": "python3"
  },
  "language_info": {
   "codemirror_mode": {
    "name": "ipython",
    "version": 3
   },
   "file_extension": ".py",
   "mimetype": "text/x-python",
   "name": "python",
   "nbconvert_exporter": "python",
   "pygments_lexer": "ipython3",
   "version": "3.8.3"
  }
 },
 "nbformat": 4,
 "nbformat_minor": 5
}
