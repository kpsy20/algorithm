{
 "cells": [
  {
   "cell_type": "code",
   "execution_count": 13,
   "id": "willing-notice",
   "metadata": {},
   "outputs": [
    {
     "name": "stdout",
     "output_type": "stream",
     "text": [
      "0 0 6 2 5 -4 2 2\n",
      "1\n"
     ]
    }
   ],
   "source": [
    "from fractions import Fraction\n",
    "\n",
    "x1, y1, x2, y2, x3, y3, x4, y4 = map(int, input().split())\n",
    "if x1 == x2 and x3 == x4:\n",
    "    print(0)\n",
    "elif y1 == y2 and y3 == y4:\n",
    "    print(0)\n",
    "elif x1 == x2:\n",
    "    if max(x3, x4) > x1 and min(x3, x4) < x1:\n",
    "        print(1)\n",
    "    else:\n",
    "        print(0)\n",
    "elif y1 == y2:\n",
    "    if max(y3, y4) > y1 and min(y3, y4) < y1:\n",
    "        print(1)\n",
    "    else:\n",
    "        print(0)\n",
    "elif x3 == x4:\n",
    "    if max(x1, x2) > x3 and min(x1, x2) < x3:\n",
    "        print(1)\n",
    "    else:\n",
    "        print(0)\n",
    "elif y3 == y4:\n",
    "    if max(y1, y2) > y3 and min(y1, y2) < y3:\n",
    "        print(1)\n",
    "    else:\n",
    "        print(0)\n",
    "else:\n",
    "    a1 = Fraction(y2-y1, x2-x1)\n",
    "    b1 = y1 - a1 * x1\n",
    "    a2 = Fraction(y4-y3, x4-x3)\n",
    "    b2 = y3 - a2 * x3\n",
    "\n",
    "    a3 = a1 - a2\n",
    "    b3 = b1 - b2\n",
    "    if a3 == 0: #평행\n",
    "        print(0)\n",
    "    else:\n",
    "        x = -b3 / a3\n",
    "        x\n",
    "        if max(x1, x2) > x and min(x1, x2) < x and max(x3, x4) > x and min(x3, x4) < x:\n",
    "            print(1)\n",
    "        else:\n",
    "            print(0)"
   ]
  },
  {
   "cell_type": "code",
   "execution_count": null,
   "id": "entitled-cartridge",
   "metadata": {},
   "outputs": [],
   "source": [
    "0 0 6 2 5 -4 2 2\n"
   ]
  },
  {
   "cell_type": "code",
   "execution_count": 12,
   "id": "comparable-converter",
   "metadata": {},
   "outputs": [
    {
     "ename": "ZeroDivisionError",
     "evalue": "Fraction(3, 0)",
     "output_type": "error",
     "traceback": [
      "\u001b[1;31m---------------------------------------------------------------------------\u001b[0m",
      "\u001b[1;31mZeroDivisionError\u001b[0m                         Traceback (most recent call last)",
      "\u001b[1;32m<ipython-input-12-44a4e4a3ac5d>\u001b[0m in \u001b[0;36m<module>\u001b[1;34m\u001b[0m\n\u001b[1;32m----> 1\u001b[1;33m \u001b[0mFraction\u001b[0m\u001b[1;33m(\u001b[0m\u001b[1;36m3\u001b[0m\u001b[1;33m,\u001b[0m \u001b[1;36m0\u001b[0m\u001b[1;33m)\u001b[0m\u001b[1;33m\u001b[0m\u001b[1;33m\u001b[0m\u001b[0m\n\u001b[0m",
      "\u001b[1;32m~\\anaconda3\\lib\\fractions.py\u001b[0m in \u001b[0;36m__new__\u001b[1;34m(cls, numerator, denominator, _normalize)\u001b[0m\n\u001b[0;32m    176\u001b[0m \u001b[1;33m\u001b[0m\u001b[0m\n\u001b[0;32m    177\u001b[0m         \u001b[1;32mif\u001b[0m \u001b[0mdenominator\u001b[0m \u001b[1;33m==\u001b[0m \u001b[1;36m0\u001b[0m\u001b[1;33m:\u001b[0m\u001b[1;33m\u001b[0m\u001b[1;33m\u001b[0m\u001b[0m\n\u001b[1;32m--> 178\u001b[1;33m             \u001b[1;32mraise\u001b[0m \u001b[0mZeroDivisionError\u001b[0m\u001b[1;33m(\u001b[0m\u001b[1;34m'Fraction(%s, 0)'\u001b[0m \u001b[1;33m%\u001b[0m \u001b[0mnumerator\u001b[0m\u001b[1;33m)\u001b[0m\u001b[1;33m\u001b[0m\u001b[1;33m\u001b[0m\u001b[0m\n\u001b[0m\u001b[0;32m    179\u001b[0m         \u001b[1;32mif\u001b[0m \u001b[0m_normalize\u001b[0m\u001b[1;33m:\u001b[0m\u001b[1;33m\u001b[0m\u001b[1;33m\u001b[0m\u001b[0m\n\u001b[0;32m    180\u001b[0m             \u001b[1;32mif\u001b[0m \u001b[0mtype\u001b[0m\u001b[1;33m(\u001b[0m\u001b[0mnumerator\u001b[0m\u001b[1;33m)\u001b[0m \u001b[1;32mis\u001b[0m \u001b[0mint\u001b[0m \u001b[1;32mis\u001b[0m \u001b[0mtype\u001b[0m\u001b[1;33m(\u001b[0m\u001b[0mdenominator\u001b[0m\u001b[1;33m)\u001b[0m\u001b[1;33m:\u001b[0m\u001b[1;33m\u001b[0m\u001b[1;33m\u001b[0m\u001b[0m\n",
      "\u001b[1;31mZeroDivisionError\u001b[0m: Fraction(3, 0)"
     ]
    }
   ],
   "source": [
    "Fraction(3, 0)"
   ]
  },
  {
   "cell_type": "code",
   "execution_count": null,
   "id": "technological-vanilla",
   "metadata": {},
   "outputs": [],
   "source": []
  }
 ],
 "metadata": {
  "kernelspec": {
   "display_name": "Python 3",
   "language": "python",
   "name": "python3"
  },
  "language_info": {
   "codemirror_mode": {
    "name": "ipython",
    "version": 3
   },
   "file_extension": ".py",
   "mimetype": "text/x-python",
   "name": "python",
   "nbconvert_exporter": "python",
   "pygments_lexer": "ipython3",
   "version": "3.8.3"
  }
 },
 "nbformat": 4,
 "nbformat_minor": 5
}
