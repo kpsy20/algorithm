{
 "cells": [
  {
   "cell_type": "code",
   "execution_count": 22,
   "id": "sophisticated-silicon",
   "metadata": {},
   "outputs": [
    {
     "name": "stdout",
     "output_type": "stream",
     "text": [
      "1000 1 1000\n",
      "999 1000\n",
      "1000 999\n",
      "1000 999\n"
     ]
    }
   ],
   "source": [
    "n, m, v = map(int, input().split())\n",
    "edge = [[0 for x in range(n+1)] for y in range(n+1)]\n",
    "for i in range(m):\n",
    "    e1, e2 = map(int, input().split())\n",
    "    edge[e1][e2] = 1\n",
    "    edge[e2][e1] = 1\n",
    "\n",
    "    \n",
    "    \n",
    "visited = [False for x in range(n+1)]\n",
    "\n",
    "q = [v]\n",
    "res = ''\n",
    "while q:\n",
    "    now = q.pop()\n",
    "    if visited[now] ==True:\n",
    "        continue\n",
    "    visited[now] = True\n",
    "    res += str(now) + \" \"\n",
    "    \n",
    "    for i in range(n, -1, -1):\n",
    "        if edge[now][i] == 1 and visited[i] == False:\n",
    "            q.append(i)\n",
    "            \n",
    "print(res[:-1])\n",
    "\n",
    "visited = [False for x in range(n+1)]\n",
    "\n",
    "visited[v] = True\n",
    "q = [v]\n",
    "res = ''\n",
    "while q:\n",
    "    now = q[0]\n",
    "    q = q[1:]\n",
    "    res += str(now) + \" \"\n",
    "    for i in range(n+1):\n",
    "        if edge[now][i] == 1 and visited[i] == False:\n",
    "            q.append(i)\n",
    "            visited[i] = True\n",
    "print(res[:-1])\n",
    "\n"
   ]
  }
 ],
 "metadata": {
  "kernelspec": {
   "display_name": "Python 3",
   "language": "python",
   "name": "python3"
  },
  "language_info": {
   "codemirror_mode": {
    "name": "ipython",
    "version": 3
   },
   "file_extension": ".py",
   "mimetype": "text/x-python",
   "name": "python",
   "nbconvert_exporter": "python",
   "pygments_lexer": "ipython3",
   "version": "3.8.3"
  }
 },
 "nbformat": 4,
 "nbformat_minor": 5
}
