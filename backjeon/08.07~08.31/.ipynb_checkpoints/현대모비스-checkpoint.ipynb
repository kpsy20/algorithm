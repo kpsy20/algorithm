{
 "cells": [
  {
   "cell_type": "code",
   "execution_count": 27,
   "id": "right-beatles",
   "metadata": {},
   "outputs": [],
   "source": [
    "def solution(dice):\n",
    "    answer = 1\n",
    "    dic = {}\n",
    "    for i in range(len(dice)):\n",
    "        set_dice = list(set(dice[i]))\n",
    "        for j in range(len(set_dice)):\n",
    "            if set_dice[j] in dic:\n",
    "                dic[set_dice[j]] += 1\n",
    "            else:\n",
    "                dic[set_dice[j]] = 1\n",
    "    for i in range(9):\n",
    "        if i not in dic:\n",
    "            dic[i] = 0\n",
    "    #dic에 숫자 몇이 몇개 있는지 들어감.\n",
    "    res = [str(x) for x in range(1, 10000)]\n",
    "    check = True\n",
    "    for i in range(len(res)): #1~10000\n",
    "        if not check:\n",
    "            break\n",
    "        use_num = {}\n",
    "        for j in range(len(res[i])):\n",
    "            if res[i][j] in use_num:\n",
    "                use_num[res[i][j]] += 1\n",
    "            else:\n",
    "                use_num[res[i][j]] = 1\n",
    "        for j in use_num:\n",
    "            if use_num[j] > dic[int(j)]: #못만듬\n",
    "                check = False\n",
    "                break\n",
    "        if check:\n",
    "            answer += 1\n",
    "    return answer"
   ]
  },
  {
   "cell_type": "code",
   "execution_count": 28,
   "id": "otherwise-trout",
   "metadata": {},
   "outputs": [
    {
     "data": {
      "text/plain": [
       "7"
      ]
     },
     "execution_count": 28,
     "metadata": {},
     "output_type": "execute_result"
    }
   ],
   "source": [
    "a = [[1,2,3,4,5,6]]\n",
    "solution(a)"
   ]
  },
  {
   "cell_type": "code",
   "execution_count": 90,
   "id": "behind-israeli",
   "metadata": {},
   "outputs": [],
   "source": [
    "def del_a(a):\n",
    "    if a[0] == 'a':\n",
    "        return a[1:]\n",
    "    else:\n",
    "        return a[:-1]\n",
    "def del_b(a, a_num):\n",
    "    check=True\n",
    "    for i in range(a_num):\n",
    "        if a[i] == 'b' and a[len(a)-1-i] == 'b':\n",
    "            pass\n",
    "        else:\n",
    "            check=False\n",
    "    if check:\n",
    "        return a[a_num:len(a)-a_num]\n",
    "    else:\n",
    "        return check\n",
    "def solution(a):\n",
    "    answer = []\n",
    "    for i in range(len(a)):\n",
    "        a_num = a[i].count('a')\n",
    "        b_num = a[i].count('b')\n",
    "        if b_num % 2 == 1:\n",
    "            answer.append(False)\n",
    "            continue\n",
    "        while True:\n",
    "            if a_num == 1 and b_num == 0: #끝나는 포인트\n",
    "                answer.append(True)\n",
    "                break\n",
    "            if a_num == 0:\n",
    "                answer.append(False)\n",
    "                break\n",
    "            if b_num == 0 and a_num != 0:\n",
    "                answer.append(True)\n",
    "                break\n",
    "                \n",
    "            if a[i][0] == 'a' or a[i][-1] == 'a':\n",
    "                a[i] = del_a(a[i])\n",
    "                a_num -= 1\n",
    "            elif a[i][0] == 'b' and a[i][-1] == 'b':\n",
    "                a[i] = del_b(a[i], a_num)\n",
    "                if a[i] == False:\n",
    "                    answer.append(False)\n",
    "                    break\n",
    "                b_num -= a_num*2\n",
    "            \n",
    "    return answer"
   ]
  },
  {
   "cell_type": "code",
   "execution_count": 91,
   "id": "ahead-insulation",
   "metadata": {},
   "outputs": [
    {
     "name": "stdout",
     "output_type": "stream",
     "text": [
      "bababababbbbbbaaaaaaaaaabbbbbbbb\n"
     ]
    },
    {
     "data": {
      "text/plain": [
       "[False]"
      ]
     },
     "execution_count": 91,
     "metadata": {},
     "output_type": "execute_result"
    }
   ],
   "source": [
    "solution(['bababababbbbbbaaaaaaaaaabbbbbbbb'])"
   ]
  },
  {
   "cell_type": "code",
   "execution_count": 290,
   "id": "systematic-coast",
   "metadata": {},
   "outputs": [],
   "source": [
    "def solution(m, b):\n",
    "    answer = []\n",
    "    start = 0\n",
    "    for i in range(len(m)):\n",
    "        now = b[start:start+m[i]]\n",
    "        start += m[i]\n",
    "        count = 0\n",
    "        res = []\n",
    "        now.sort()\n",
    "        temp = now[0]\n",
    "        for k in now:\n",
    "            res.append([int(x) for x in list(format(k, 'b').zfill(31))])\n",
    "            \n",
    "        while True:\n",
    "            \n",
    "            #print(now)\n",
    "            temp = now[0]\n",
    "            for k in now:\n",
    "                temp &= k\n",
    "            #print(now, temp)\n",
    "            temp_2 = format(temp, 'b')\n",
    "            if temp_2 == '0':\n",
    "                answer.append(count)\n",
    "                break\n",
    "            if temp_2 == '1':\n",
    "                answer.append(count+1)\n",
    "                break\n",
    "            min_zero = 31-len(temp_2)\n",
    "            idx = 0\n",
    "            #print(\"TEMP2\", temp_2)\n",
    "            for k in range(len(res)):\n",
    "               # print(\"RES\", res[k])\n",
    "                for k2 in range(32-len(temp_2), 31):\n",
    "                    \n",
    "                    if res[k][k2] == 0:\n",
    "                        if min_zero == -1:\n",
    "                            min_zero = k2\n",
    "                            idx = k\n",
    "                        elif min_zero > k2:\n",
    "                            min_zero = k2\n",
    "                            idx = k\n",
    "            #print(min_zero)\n",
    "            if min_zero == 31-len(temp_2):\n",
    "                res[idx][min_zero] = 0\n",
    "                now[idx] -= 2**(30-min_zero)\n",
    "                count += 2**(30-min_zero)\n",
    "            else:\n",
    "                res[idx][min_zero-1] = 0\n",
    "                res[idx][min_zero] = 1\n",
    "                now[idx] -= 2**(30-min_zero)\n",
    "                count += 2**(30-min_zero)\n",
    "            #print(\"LAST\", now)\n",
    "    #print(\"LAST RES\", res)\n",
    "    return (answer)"
   ]
  },
  {
   "cell_type": "code",
   "execution_count": 291,
   "id": "acquired-threat",
   "metadata": {},
   "outputs": [
    {
     "data": {
      "text/plain": [
       "[21]"
      ]
     },
     "execution_count": 291,
     "metadata": {},
     "output_type": "execute_result"
    }
   ],
   "source": [
    "m = [2]\n",
    "b = [21, 31]\n",
    "solution(m, b)"
   ]
  },
  {
   "cell_type": "code",
   "execution_count": 226,
   "id": "naked-generation",
   "metadata": {},
   "outputs": [
    {
     "data": {
      "text/plain": [
       "True"
      ]
     },
     "execution_count": 226,
     "metadata": {},
     "output_type": "execute_result"
    }
   ],
   "source": [
    "format(1, 'b') == '1'"
   ]
  },
  {
   "cell_type": "code",
   "execution_count": 194,
   "id": "concrete-appendix",
   "metadata": {},
   "outputs": [],
   "source": [
    "def solution(m, b):\n",
    "    start = 0\n",
    "    answer = []\n",
    "    for i in range(len(m)):\n",
    "        now = b[start:start+m[i]]\n",
    "        start += m[i]\n",
    "        dp = [0 for x in range(len(now))]\n",
    "        count = 0\n",
    "        temp = now[0]\n",
    "        for k in range(len(now)):\n",
    "            temp &= now[k]\n",
    "        if temp == 0:\n",
    "            answer.append(0)\n",
    "            continue\n",
    "        while True:\n",
    "            for j1 in range(len(now)):\n",
    "                temp = 2**30-1\n",
    "                for j in range(len(now)):\n",
    "                    if j1 == j and now[j]>=0:\n",
    "                        temp &= (now[j]-1)\n",
    "                    else:\n",
    "                        temp &= now[j]\n",
    "                dp[j1] = temp\n",
    "            idx = dp.index(min(dp))\n",
    "            now[idx] -= 1\n",
    "            count += 1\n",
    "            if min(dp) == 0:\n",
    "                break\n",
    "            \n",
    "        answer.append(count)\n",
    "    return answer"
   ]
  },
  {
   "cell_type": "code",
   "execution_count": 199,
   "id": "headed-juice",
   "metadata": {},
   "outputs": [
    {
     "data": {
      "text/plain": [
       "[7]"
      ]
     },
     "execution_count": 199,
     "metadata": {},
     "output_type": "execute_result"
    }
   ],
   "source": [
    "m = [5]\n",
    "b = [7, 7, 7, 7, 7]\n",
    "solution(m, b)"
   ]
  },
  {
   "cell_type": "code",
   "execution_count": 158,
   "id": "revolutionary-theta",
   "metadata": {},
   "outputs": [],
   "source": [
    "import bisect\n",
    "def solution(p, q):\n",
    "    answer = []\n",
    "    for i in range(len(p)):\n",
    "        x = p[i]\n",
    "        y = q[i]\n",
    "        x.sort()\n",
    "        y.sort()\n",
    "        check = False\n",
    "        for k in range(len(y)):\n",
    "            print(x)\n",
    "            print(y)\n",
    "            if y[k] in x:\n",
    "                idx = x.index(y[k])\n",
    "                del y[k]\n",
    "                del x[idx]\n",
    "                y = [0] + y\n",
    "                x = [0] + x\n",
    "            else:\n",
    "                check = False\n",
    "                for e1 in range(k, len(x)-1):\n",
    "                    for e2 in range(e1+1, len(x)):\n",
    "                        if x[e1] + x[e2] == y[k]:\n",
    "                            check = True\n",
    "                            del x[e1]\n",
    "                            x = [0] + x\n",
    "                            del x[e2]\n",
    "                            x = [0] + x\n",
    "                            del y[k]\n",
    "                            y = [0] + y\n",
    "                if not check:\n",
    "                    break\n",
    "        if set(x) == {0} and set(y) == {0}:\n",
    "            answer.append(True)\n",
    "        elif not check or len(y) != len(x): #합해서 되는게 없을때 랑 x, y같은데 x길이가 더 길때\n",
    "            answer.append(False)\n",
    "    return answer"
   ]
  },
  {
   "cell_type": "code",
   "execution_count": 123,
   "id": "external-remedy",
   "metadata": {},
   "outputs": [
    {
     "name": "stdout",
     "output_type": "stream",
     "text": [
      "[1, 2, 3]\n",
      "0\n",
      "[2, 3, 1]\n",
      "1\n",
      "[2, 1, 1]\n",
      "2\n"
     ]
    }
   ],
   "source": [
    "a = [1,2,3]\n",
    "for i in range(len(a)):\n",
    "    print(a)\n",
    "    print(i)\n",
    "    del a[i]\n",
    "    a.append(1)"
   ]
  },
  {
   "cell_type": "code",
   "execution_count": 122,
   "id": "tamil-pleasure",
   "metadata": {},
   "outputs": [
    {
     "data": {
      "text/plain": [
       "[2, 1, 1]"
      ]
     },
     "execution_count": 122,
     "metadata": {},
     "output_type": "execute_result"
    }
   ],
   "source": [
    "a"
   ]
  },
  {
   "cell_type": "code",
   "execution_count": 159,
   "id": "scenic-draft",
   "metadata": {},
   "outputs": [
    {
     "name": "stdout",
     "output_type": "stream",
     "text": [
      "[3, 3, 4]\n",
      "[5, 5]\n",
      "[1, 2, 3]\n",
      "[1, 5]\n",
      "[0, 2, 3]\n",
      "[0, 5]\n",
      "[2, 3, 4]\n",
      "[1, 8]\n"
     ]
    },
    {
     "data": {
      "text/plain": [
       "[False, True, False]"
      ]
     },
     "execution_count": 159,
     "metadata": {},
     "output_type": "execute_result"
    }
   ],
   "source": [
    "solution([[4,3,3],[1,2,3],[3,2,4]], [[5,5],[5,1],[1,8]])"
   ]
  },
  {
   "cell_type": "code",
   "execution_count": 161,
   "id": "supreme-alexandria",
   "metadata": {},
   "outputs": [
    {
     "name": "stdout",
     "output_type": "stream",
     "text": [
      "[1, 2, 3, 4, 5]\n",
      "[6, 9]\n",
      "[0, 0, 2, 3, 4]\n",
      "[0, 9]\n"
     ]
    },
    {
     "data": {
      "text/plain": [
       "[False]"
      ]
     },
     "execution_count": 161,
     "metadata": {},
     "output_type": "execute_result"
    }
   ],
   "source": [
    "solution([[1,2,3,4,5]], [[6,9]])"
   ]
  },
  {
   "cell_type": "code",
   "execution_count": null,
   "id": "younger-civilization",
   "metadata": {},
   "outputs": [],
   "source": []
  }
 ],
 "metadata": {
  "kernelspec": {
   "display_name": "Python 3",
   "language": "python",
   "name": "python3"
  },
  "language_info": {
   "codemirror_mode": {
    "name": "ipython",
    "version": 3
   },
   "file_extension": ".py",
   "mimetype": "text/x-python",
   "name": "python",
   "nbconvert_exporter": "python",
   "pygments_lexer": "ipython3",
   "version": "3.8.3"
  }
 },
 "nbformat": 4,
 "nbformat_minor": 5
}
