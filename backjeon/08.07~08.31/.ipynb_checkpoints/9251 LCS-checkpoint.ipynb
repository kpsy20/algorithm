{
 "cells": [
  {
   "cell_type": "code",
   "execution_count": 33,
   "id": "wrapped-discussion",
   "metadata": {},
   "outputs": [
    {
     "name": "stdout",
     "output_type": "stream",
     "text": [
      "ACAYKP\n",
      "CAPCAK\n",
      "4\n"
     ]
    }
   ],
   "source": [
    "a = input()\n",
    "b = input()\n",
    "dp = [[0 for x in range(len(a)+1)] for y in range(len(b)+1)]\n",
    "\n",
    "for i in range(len(b)):\n",
    "    for j in range(len(a)):\n",
    "        if b[i] == a[j]:\n",
    "            dp[i+1][j+1] = dp[i][j] + 1\n",
    "        else:\n",
    "            dp[i+1][j+1] = max(dp[i+1][j], dp[i][j+1])\n",
    "print(max(dp[-1]))\n",
    "\n"
   ]
  }
 ],
 "metadata": {
  "kernelspec": {
   "display_name": "Python 3",
   "language": "python",
   "name": "python3"
  },
  "language_info": {
   "codemirror_mode": {
    "name": "ipython",
    "version": 3
   },
   "file_extension": ".py",
   "mimetype": "text/x-python",
   "name": "python",
   "nbconvert_exporter": "python",
   "pygments_lexer": "ipython3",
   "version": "3.8.3"
  }
 },
 "nbformat": 4,
 "nbformat_minor": 5
}
