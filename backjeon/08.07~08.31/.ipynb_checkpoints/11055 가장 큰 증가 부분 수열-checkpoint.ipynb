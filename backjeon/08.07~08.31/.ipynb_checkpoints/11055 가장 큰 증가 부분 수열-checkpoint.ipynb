{
 "cells": [
  {
   "cell_type": "code",
   "execution_count": 6,
   "id": "commercial-sharing",
   "metadata": {},
   "outputs": [
    {
     "name": "stdout",
     "output_type": "stream",
     "text": [
      "10\n",
      "1 100 2 50 60 3 5 6 7 8\n"
     ]
    },
    {
     "data": {
      "text/plain": [
       "[1, 2, 2, 3, 4, 3, 4, 5, 6, 7]"
      ]
     },
     "execution_count": 6,
     "metadata": {},
     "output_type": "execute_result"
    }
   ],
   "source": [
    "x = int(input())\n",
    "arr = list(map(int, input().split()))\n",
    "\n",
    "import bisect\n",
    "dp = [arr[0]]\n",
    "index = [1 for y in range(x)]\n",
    "for i in range(1, x):\n",
    "    if dp[-1] < arr[i]:\n",
    "        dp.append(arr[i])\n",
    "        index[i] = len(dp)\n",
    "    else:\n",
    "        idx = bisect.bisect_left(dp, arr[i])\n",
    "        dp[idx] = arr[i]\n",
    "        index[i] = idx+1\n",
    "index"
   ]
  },
  {
   "cell_type": "markdown",
   "id": "cubic-kentucky",
   "metadata": {},
   "source": [
    "아래꺼임"
   ]
  },
  {
   "cell_type": "code",
   "execution_count": 8,
   "id": "indirect-bandwidth",
   "metadata": {},
   "outputs": [
    {
     "name": "stdout",
     "output_type": "stream",
     "text": [
      "10\n",
      "1 100 2 50 60 3 5 6 7 8\n",
      "113\n"
     ]
    }
   ],
   "source": [
    "x = int(input())\n",
    "arr = list(map(int, input().split()))\n",
    "\n",
    "dp = [0 for n in range(x)]\n",
    "result = arr[0]\n",
    "for i in range(x):\n",
    "    dp[i] = arr[i]\n",
    "    for j in range(i):\n",
    "        if arr[j] < arr[i]:\n",
    "            dp[i] = max(dp[i], dp[j]+arr[i])\n",
    "    result = max(result, dp[i])\n",
    "print(result)"
   ]
  },
  {
   "cell_type": "code",
   "execution_count": null,
   "id": "described-complex",
   "metadata": {},
   "outputs": [],
   "source": [
    "10\n",
    "1 100 2 50 60 3 5 6 7 8"
   ]
  }
 ],
 "metadata": {
  "kernelspec": {
   "display_name": "Python 3",
   "language": "python",
   "name": "python3"
  },
  "language_info": {
   "codemirror_mode": {
    "name": "ipython",
    "version": 3
   },
   "file_extension": ".py",
   "mimetype": "text/x-python",
   "name": "python",
   "nbconvert_exporter": "python",
   "pygments_lexer": "ipython3",
   "version": "3.8.3"
  }
 },
 "nbformat": 4,
 "nbformat_minor": 5
}
