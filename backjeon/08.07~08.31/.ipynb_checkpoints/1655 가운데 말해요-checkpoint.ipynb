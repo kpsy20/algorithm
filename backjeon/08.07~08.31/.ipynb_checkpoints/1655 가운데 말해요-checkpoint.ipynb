{
 "cells": [
  {
   "cell_type": "code",
   "execution_count": null,
   "id": "monthly-emerald",
   "metadata": {},
   "outputs": [],
   "source": [
    "7\n",
    "1\n",
    "5\n",
    "2\n",
    "10\n",
    "-99\n",
    "7\n",
    "5"
   ]
  },
  {
   "cell_type": "code",
   "execution_count": 24,
   "id": "imposed-longitude",
   "metadata": {},
   "outputs": [
    {
     "name": "stdout",
     "output_type": "stream",
     "text": [
      "7\n",
      "1\n",
      "1\n",
      "5\n",
      "1\n",
      "2\n",
      "2\n",
      "10\n",
      "2\n",
      "-99\n",
      "2\n",
      "7\n",
      "2\n",
      "5\n",
      "5\n"
     ]
    }
   ],
   "source": [
    "import sys\n",
    "import heapq\n",
    "\n",
    "#n = int(sys.stdin.readline())\n",
    "n = int(input())\n",
    "min_heap = []\n",
    "max_heap = []\n",
    "for _ in range(n):\n",
    "    #now = int(sys.stdin.readline())\n",
    "    now = int(input())\n",
    "    if len(min_heap) == len(max_heap):\n",
    "        heapq.heappush(max_heap, (-now, now))\n",
    "    else:\n",
    "        heapq.heappush(min_heap, (now, now))\n",
    "        \n",
    "    if max_heap and min_heap and max_heap[0][1] > min_heap[0][1]:\n",
    "        temp_max = heapq.heappop(max_heap)[1]\n",
    "        temp_min = heapq.heappop(min_heap)[1]\n",
    "        heapq.heappush(max_heap, (-temp_min, temp_min))\n",
    "        heapq.heappush(min_heap, (temp_max, temp_max))\n",
    "    print(max_heap[0][1])"
   ]
  },
  {
   "cell_type": "code",
   "execution_count": null,
   "id": "fourth-lunch",
   "metadata": {},
   "outputs": [],
   "source": []
  }
 ],
 "metadata": {
  "kernelspec": {
   "display_name": "Python 3",
   "language": "python",
   "name": "python3"
  },
  "language_info": {
   "codemirror_mode": {
    "name": "ipython",
    "version": 3
   },
   "file_extension": ".py",
   "mimetype": "text/x-python",
   "name": "python",
   "nbconvert_exporter": "python",
   "pygments_lexer": "ipython3",
   "version": "3.8.3"
  }
 },
 "nbformat": 4,
 "nbformat_minor": 5
}
