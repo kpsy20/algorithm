{
 "cells": [
  {
   "cell_type": "code",
   "execution_count": null,
   "id": "digital-respect",
   "metadata": {},
   "outputs": [],
   "source": [
    "6 4\n",
    "1 2\n",
    "1 3\n",
    "2 5\n",
    "4 5"
   ]
  },
  {
   "cell_type": "code",
   "execution_count": 6,
   "id": "retained-symbol",
   "metadata": {},
   "outputs": [
    {
     "name": "stdout",
     "output_type": "stream",
     "text": [
      "3 2\n",
      "2 3\n",
      "1 2\n",
      "1 2 3\n"
     ]
    }
   ],
   "source": [
    "n, k = map(int, input().split())\n",
    "\n",
    "in_degree = [0 for x in range(n)]\n",
    "out_node = [[] for x in range(n)]\n",
    "\n",
    "for i in range(k):\n",
    "    e1, e2 = map(int, input().split())\n",
    "    e1-=1\n",
    "    e2-=1\n",
    "    in_degree[e2] += 1\n",
    "    out_node[e1].append(e2)\n",
    "stack = []\n",
    "for i in range(len(in_degree)):\n",
    "    if in_degree[i] == 0:\n",
    "        stack.append(i)\n",
    "ans = [1 for x in range(n)]\n",
    "idx = 1\n",
    "while stack:\n",
    "    while stack:\n",
    "        now = stack.pop()\n",
    "        in_degree[now] -= 1\n",
    "        ans[now] = idx\n",
    "        for i in out_node[now]:\n",
    "            in_degree[i] -= 1\n",
    "    for i in range(len(in_degree)):\n",
    "        if in_degree[i] == 0:\n",
    "            stack.append(i)\n",
    "    idx += 1\n",
    "print(' '.join([str(x) for x in ans]))"
   ]
  },
  {
   "cell_type": "code",
   "execution_count": null,
   "id": "loose-enforcement",
   "metadata": {},
   "outputs": [],
   "source": []
  }
 ],
 "metadata": {
  "kernelspec": {
   "display_name": "Python 3",
   "language": "python",
   "name": "python3"
  },
  "language_info": {
   "codemirror_mode": {
    "name": "ipython",
    "version": 3
   },
   "file_extension": ".py",
   "mimetype": "text/x-python",
   "name": "python",
   "nbconvert_exporter": "python",
   "pygments_lexer": "ipython3",
   "version": "3.8.3"
  }
 },
 "nbformat": 4,
 "nbformat_minor": 5
}
