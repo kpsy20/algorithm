{
 "cells": [
  {
   "cell_type": "code",
   "execution_count": null,
   "id": "faced-benchmark",
   "metadata": {},
   "outputs": [],
   "source": [
    "import bisect\n",
    "n = int(input())\n",
    "arr = list(map(int, input().split()))\n",
    "\n",
    "dp = [arr[0]]\n",
    "\n",
    "for i in range(n):\n",
    "    if dp[-1] < arr[i]:\n",
    "        dp.append(arr[i])\n",
    "    else:\n",
    "        idx = bisect.bisect_left(dp, arr[i])\n",
    "        dp[idx] = arr[i]\n",
    "print(len(dp))"
   ]
  }
 ],
 "metadata": {
  "kernelspec": {
   "display_name": "Python 3",
   "language": "python",
   "name": "python3"
  },
  "language_info": {
   "codemirror_mode": {
    "name": "ipython",
    "version": 3
   },
   "file_extension": ".py",
   "mimetype": "text/x-python",
   "name": "python",
   "nbconvert_exporter": "python",
   "pygments_lexer": "ipython3",
   "version": "3.8.3"
  }
 },
 "nbformat": 4,
 "nbformat_minor": 5
}
