{
 "cells": [
  {
   "cell_type": "code",
   "execution_count": null,
   "id": "incredible-columbia",
   "metadata": {},
   "outputs": [],
   "source": [
    "import bisect\n",
    "n = int(input())\n",
    "arr = list(map(int, input().split()))\n",
    "\n",
    "dp = [arr[0]]\n",
    "index = [1 for x in range(n)]\n",
    "for i in range(n):\n",
    "    if dp[-1] < arr[i]:\n",
    "        dp.append(arr[i])\n",
    "        index[i] = len(dp)\n",
    "    else:\n",
    "        idx = bisect.bisect_left(dp, arr[i])\n",
    "        dp[idx] = arr[i]\n",
    "        index[i] = idx+1\n",
    "catch = len(dp) #길이\n",
    "print(catch)\n",
    "ans = []\n",
    "for i in range(n-1, -1, -1):\n",
    "    if index[i] == catch:\n",
    "        ans.append(arr[i])\n",
    "        catch -= 1\n",
    "    if catch == 0:\n",
    "        break\n",
    "ans.reverse()\n",
    "print(' '.join([str(x) for x in ans]))"
   ]
  }
 ],
 "metadata": {
  "kernelspec": {
   "display_name": "Python 3",
   "language": "python",
   "name": "python3"
  },
  "language_info": {
   "codemirror_mode": {
    "name": "ipython",
    "version": 3
   },
   "file_extension": ".py",
   "mimetype": "text/x-python",
   "name": "python",
   "nbconvert_exporter": "python",
   "pygments_lexer": "ipython3",
   "version": "3.8.3"
  }
 },
 "nbformat": 4,
 "nbformat_minor": 5
}
