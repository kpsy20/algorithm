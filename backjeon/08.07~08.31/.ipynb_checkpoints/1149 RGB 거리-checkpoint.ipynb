{
 "cells": [
  {
   "cell_type": "code",
   "execution_count": null,
   "id": "specific-opportunity",
   "metadata": {},
   "outputs": [],
   "source": [
    "3\n",
    "26 40 83\n",
    "49 60 57\n",
    "13 89 99"
   ]
  },
  {
   "cell_type": "code",
   "execution_count": 3,
   "id": "amino-royalty",
   "metadata": {},
   "outputs": [
    {
     "name": "stdout",
     "output_type": "stream",
     "text": [
      "3\n",
      "26 40 83\n",
      "49 60 57\n",
      "13 89 99\n",
      "96\n"
     ]
    }
   ],
   "source": [
    "n = int(input())\n",
    "house = []\n",
    "for i in range(n):\n",
    "    house.append(list(map(int, input().split())))\n",
    "    \n",
    "dp = [[0 for x in range(3)] for y in range(n)]\n",
    "dp[0][0] = house[0][0]\n",
    "dp[0][1] = house[0][1]\n",
    "dp[0][2] = house[0][2]\n",
    "d = [[1,2], [0,2], [0,1]]\n",
    "for i in range(1, n):\n",
    "    for j in range(3):\n",
    "        dp[i][j] = min(dp[i-1][d[j][0]], dp[i-1][d[j][1]]) + house[i][j]\n",
    "print(min(dp[-1]))\n",
    "            "
   ]
  },
  {
   "cell_type": "code",
   "execution_count": null,
   "id": "numerous-discount",
   "metadata": {},
   "outputs": [],
   "source": []
  }
 ],
 "metadata": {
  "kernelspec": {
   "display_name": "Python 3",
   "language": "python",
   "name": "python3"
  },
  "language_info": {
   "codemirror_mode": {
    "name": "ipython",
    "version": 3
   },
   "file_extension": ".py",
   "mimetype": "text/x-python",
   "name": "python",
   "nbconvert_exporter": "python",
   "pygments_lexer": "ipython3",
   "version": "3.8.3"
  }
 },
 "nbformat": 4,
 "nbformat_minor": 5
}
