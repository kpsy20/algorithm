{
 "cells": [
  {
   "cell_type": "code",
   "execution_count": null,
   "id": "aquatic-optics",
   "metadata": {},
   "outputs": [],
   "source": [
    "4 7\n",
    "6 13\n",
    "4 8\n",
    "3 6\n",
    "5 12"
   ]
  },
  {
   "cell_type": "code",
   "execution_count": 6,
   "id": "fuzzy-presentation",
   "metadata": {},
   "outputs": [
    {
     "name": "stdout",
     "output_type": "stream",
     "text": [
      "3 10\n",
      "3 33\n",
      "333 3\n",
      "333 3\n",
      "33\n"
     ]
    }
   ],
   "source": [
    "n, k = map(int, input().split())\n",
    "item = []\n",
    "for i in range(n):\n",
    "    item.append(list(map(int, input().split())))\n",
    "dp = [0 for x in range(k+1)] #각 무게에 따른 값어치 넣는곳\n",
    "item.sort()\n",
    "if k >= item[0][0]:\n",
    "    dp[item[0][0]] = item[0][1]\n",
    "    for i in range(1, n):\n",
    "        for j in range(k-item[i][0], -1, -1):\n",
    "            if dp[j] != 0:\n",
    "                dp[j+item[i][0]] = max(dp[j+item[i][0]], dp[j] + item[i][1])\n",
    "        if item[i][0] <= k and dp[item[i][0]] < item[i][1]:\n",
    "            dp[item[i][0]] = item[i][1]\n",
    "    print(max(dp))\n",
    "        \n",
    "else:\n",
    "    print(0)"
   ]
  },
  {
   "cell_type": "code",
   "execution_count": null,
   "id": "chubby-sunrise",
   "metadata": {},
   "outputs": [],
   "source": []
  }
 ],
 "metadata": {
  "kernelspec": {
   "display_name": "Python 3",
   "language": "python",
   "name": "python3"
  },
  "language_info": {
   "codemirror_mode": {
    "name": "ipython",
    "version": 3
   },
   "file_extension": ".py",
   "mimetype": "text/x-python",
   "name": "python",
   "nbconvert_exporter": "python",
   "pygments_lexer": "ipython3",
   "version": "3.8.3"
  }
 },
 "nbformat": 4,
 "nbformat_minor": 5
}
