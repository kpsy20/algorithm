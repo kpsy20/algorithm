{
 "cells": [
  {
   "cell_type": "code",
   "execution_count": null,
   "id": "strong-anthropology",
   "metadata": {},
   "outputs": [],
   "source": [
    "3 2\n",
    "1 3\n",
    "2 3"
   ]
  },
  {
   "cell_type": "code",
   "execution_count": 7,
   "id": "wicked-burns",
   "metadata": {},
   "outputs": [
    {
     "name": "stdout",
     "output_type": "stream",
     "text": [
      "4 2\n",
      "4 2\n",
      "3 1\n",
      "4 3 2 1\n"
     ]
    }
   ],
   "source": [
    "import sys\n",
    "import copy\n",
    "n, k = map(int, input().split())\n",
    "#n, k = map(int, sys.stdin.readline().split())\n",
    "in_degree = [0 for x in range(n)]    \n",
    "out_node = [[] for x in range(n)]\n",
    "for i in range(k):\n",
    "    s, b = map(int, input().split())\n",
    "    #s, b = map(int, sys.stdin.readline().split())\n",
    "    s-=1\n",
    "    b-=1\n",
    "    in_degree[b] += 1\n",
    "    out_node[s].append(b)\n",
    "stack = []\n",
    "for i in range(len(in_degree)):\n",
    "    if in_degree[i] == 0:\n",
    "        stack.append(i)\n",
    "ans = ''\n",
    "while stack:\n",
    "    new_stack = []\n",
    "    while stack:\n",
    "        now = stack.pop()\n",
    "        in_degree[now] -= 1\n",
    "        ans += str(now+1) + \" \"\n",
    "        for i in out_node[now]:\n",
    "            in_degree[i] -= 1\n",
    "            if in_degree[i] == 0:\n",
    "                new_stack.append(i)\n",
    "    stack = copy.deepcopy(new_stack)\n",
    "for i in range(len(in_degree)):\n",
    "    if in_degree[i] == 0:\n",
    "        ans += str(i+1) + \" \"\n",
    "print(ans[:-1])"
   ]
  },
  {
   "cell_type": "code",
   "execution_count": 4,
   "id": "secure-edition",
   "metadata": {},
   "outputs": [
    {
     "data": {
      "text/plain": [
       "{0: [2], 1: [2]}"
      ]
     },
     "execution_count": 4,
     "metadata": {},
     "output_type": "execute_result"
    }
   ],
   "source": [
    "edge"
   ]
  },
  {
   "cell_type": "code",
   "execution_count": null,
   "id": "accessory-arrival",
   "metadata": {},
   "outputs": [],
   "source": []
  }
 ],
 "metadata": {
  "kernelspec": {
   "display_name": "Python 3",
   "language": "python",
   "name": "python3"
  },
  "language_info": {
   "codemirror_mode": {
    "name": "ipython",
    "version": 3
   },
   "file_extension": ".py",
   "mimetype": "text/x-python",
   "name": "python",
   "nbconvert_exporter": "python",
   "pygments_lexer": "ipython3",
   "version": "3.8.3"
  }
 },
 "nbformat": 4,
 "nbformat_minor": 5
}
