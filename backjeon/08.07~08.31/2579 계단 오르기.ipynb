{
 "cells": [
  {
   "cell_type": "code",
   "execution_count": null,
   "id": "decimal-idaho",
   "metadata": {},
   "outputs": [],
   "source": [
    "6\n",
    "10\n",
    "20\n",
    "15\n",
    "25\n",
    "10\n",
    "20"
   ]
  },
  {
   "cell_type": "code",
   "execution_count": 6,
   "id": "tired-population",
   "metadata": {},
   "outputs": [
    {
     "name": "stdout",
     "output_type": "stream",
     "text": [
      "6\n",
      "10\n",
      "20\n",
      "15\n",
      "25\n",
      "10\n",
      "20\n",
      "75\n"
     ]
    }
   ],
   "source": [
    "n = int(input())\n",
    "step =[]\n",
    "for i in range(n):\n",
    "    step.append(int(input()))\n",
    "\n",
    "dp = [0 for x in range(n)]\n",
    "\n",
    "dp[0] = step[0]\n",
    "if len(step) >= 2:\n",
    "    dp[1] = step[0] + step[1]\n",
    "if len(step) >= 3:\n",
    "    dp[2] = max(step[0]+step[2], step[1]+step[2])\n",
    "\n",
    "for i in range(3, n):\n",
    "    dp[i] = max(dp[i-2]+step[i], dp[i-3]+step[i-1]+step[i])\n",
    "\n",
    "print(dp[len(step)-1])"
   ]
  },
  {
   "cell_type": "markdown",
   "id": "saving-greensboro",
   "metadata": {},
   "source": [
    "###### dp"
   ]
  },
  {
   "cell_type": "code",
   "execution_count": null,
   "id": "toxic-yemen",
   "metadata": {},
   "outputs": [],
   "source": []
  }
 ],
 "metadata": {
  "kernelspec": {
   "display_name": "Python 3",
   "language": "python",
   "name": "python3"
  },
  "language_info": {
   "codemirror_mode": {
    "name": "ipython",
    "version": 3
   },
   "file_extension": ".py",
   "mimetype": "text/x-python",
   "name": "python",
   "nbconvert_exporter": "python",
   "pygments_lexer": "ipython3",
   "version": "3.8.3"
  }
 },
 "nbformat": 4,
 "nbformat_minor": 5
}
