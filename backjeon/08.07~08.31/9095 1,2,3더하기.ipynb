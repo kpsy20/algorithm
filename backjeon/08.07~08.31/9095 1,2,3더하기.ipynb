{
 "cells": [
  {
   "cell_type": "code",
   "execution_count": 9,
   "id": "filled-farmer",
   "metadata": {},
   "outputs": [
    {
     "name": "stdout",
     "output_type": "stream",
     "text": [
      "3\n",
      "4\n",
      "7\n",
      "7\n",
      "44\n",
      "10\n",
      "274\n"
     ]
    }
   ],
   "source": [
    "test = int(input())\n",
    "def fac(num):\n",
    "    ans = 1\n",
    "    for i in range(1, num+1):\n",
    "        ans *= i\n",
    "    return ans\n",
    "for i in range(test):\n",
    "    num = int(input())\n",
    "    res = 0\n",
    "    for k3 in range(num//3+1):\n",
    "        for k2 in range((num-3*k3)//2+1):\n",
    "            k1 = num-3*k3-2*k2\n",
    "            temp = fac(k1+k2+k3) // fac(k3) // fac(k2) // fac(k1)\n",
    "            #print(k3, k2, k1, temp)\n",
    "            res += temp\n",
    "    print(res)"
   ]
  },
  {
   "cell_type": "code",
   "execution_count": null,
   "id": "frozen-elements",
   "metadata": {},
   "outputs": [],
   "source": []
  }
 ],
 "metadata": {
  "kernelspec": {
   "display_name": "Python 3",
   "language": "python",
   "name": "python3"
  },
  "language_info": {
   "codemirror_mode": {
    "name": "ipython",
    "version": 3
   },
   "file_extension": ".py",
   "mimetype": "text/x-python",
   "name": "python",
   "nbconvert_exporter": "python",
   "pygments_lexer": "ipython3",
   "version": "3.8.3"
  }
 },
 "nbformat": 4,
 "nbformat_minor": 5
}
