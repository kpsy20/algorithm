{
 "cells": [
  {
   "cell_type": "code",
   "execution_count": null,
   "id": "offshore-electric",
   "metadata": {},
   "outputs": [],
   "source": [
    "5\n",
    "6 9 5 7 4"
   ]
  },
  {
   "cell_type": "code",
   "execution_count": 11,
   "id": "liberal-thriller",
   "metadata": {},
   "outputs": [
    {
     "name": "stdout",
     "output_type": "stream",
     "text": [
      "5\n",
      "6 9 5 7 4\n",
      "[[100000001, 0]]\n",
      "[[100000001, 0], [6, 1]]\n",
      "[[100000001, 0], [9, 2]]\n",
      "[[100000001, 0], [9, 2], [5, 3]]\n",
      "[[100000001, 0], [9, 2], [7, 4]]\n"
     ]
    }
   ],
   "source": [
    "num = int(input())\n",
    "max_top = [[100000001, 0]]\n",
    "ans = [0]\n",
    "towers = list(map(int, input().split()))\n",
    "for i in range(1, num+1):\n",
    "    top = towers[i-1]\n",
    "    if max_top[-1][0] > top:\n",
    "        max_top.append([top, i])\n",
    "        ans.append(max_top[-2][1])\n",
    "        \n",
    "    else:\n",
    "        while max_top[-1][0] < top:\n",
    "            max_top.pop()\n",
    "        max_top.append([top, i])\n",
    "        ans.append(max_top[-2][1])\n",
    "res = \" \".join([str(x) for x in ans[1:]])\n",
    "print(res)"
   ]
  },
  {
   "cell_type": "code",
   "execution_count": 12,
   "id": "focal-banks",
   "metadata": {},
   "outputs": [
    {
     "data": {
      "text/plain": [
       "'0 0 2 2 4'"
      ]
     },
     "execution_count": 12,
     "metadata": {},
     "output_type": "execute_result"
    }
   ],
   "source": [
    "res"
   ]
  },
  {
   "cell_type": "code",
   "execution_count": null,
   "id": "elect-allah",
   "metadata": {},
   "outputs": [],
   "source": []
  }
 ],
 "metadata": {
  "kernelspec": {
   "display_name": "Python 3",
   "language": "python",
   "name": "python3"
  },
  "language_info": {
   "codemirror_mode": {
    "name": "ipython",
    "version": 3
   },
   "file_extension": ".py",
   "mimetype": "text/x-python",
   "name": "python",
   "nbconvert_exporter": "python",
   "pygments_lexer": "ipython3",
   "version": "3.8.3"
  }
 },
 "nbformat": 4,
 "nbformat_minor": 5
}
