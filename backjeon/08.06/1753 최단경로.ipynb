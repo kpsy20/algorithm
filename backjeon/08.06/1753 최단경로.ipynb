{
 "cells": [
  {
   "cell_type": "code",
   "execution_count": null,
   "id": "quick-breath",
   "metadata": {},
   "outputs": [],
   "source": [
    "5 6 정점과 간선의 갯수\n",
    "1 출발지\n",
    "5 1 1\n",
    "1 2 2\n",
    "1 3 3\n",
    "2 3 4\n",
    "2 4 5\n",
    "3 4 6"
   ]
  },
  {
   "cell_type": "code",
   "execution_count": null,
   "id": "occasional-prize",
   "metadata": {},
   "outputs": [],
   "source": [
    "class Node:\n",
    "    def __init__ (self):\n",
    "        self.next = []\n",
    "        self.id = -1\n",
    "    def setting(self, idx, nexts):\n",
    "        self.id = idx\n",
    "        self.next = nexts\n",
    "        \n",
    "    \n",
    "v, e = list(map(int, input().split()))\n",
    "start = int(input())\n",
    "world = [[-1 for x in range(e)] for y in range(e)]\n",
    "cost = [[-1 for x in range(e)] for y in range(e)]\n",
    "ans = [0 for x in range(v)]\n",
    "\n",
    "#world[1][3] ==> 1->3 가는데 드는 돈\n",
    "for i in range(e):\n",
    "    edge = list(map(int, input().split()))\n",
    "    if world[edge[0]][edge[1]] == -1 or world[edge[0]][edge[1]] > edge[2]:\n",
    "        world[edge[0]][edge[1]] = edge[2]\n"
   ]
  }
 ],
 "metadata": {
  "kernelspec": {
   "display_name": "Python 3",
   "language": "python",
   "name": "python3"
  },
  "language_info": {
   "codemirror_mode": {
    "name": "ipython",
    "version": 3
   },
   "file_extension": ".py",
   "mimetype": "text/x-python",
   "name": "python",
   "nbconvert_exporter": "python",
   "pygments_lexer": "ipython3",
   "version": "3.8.3"
  }
 },
 "nbformat": 4,
 "nbformat_minor": 5
}
