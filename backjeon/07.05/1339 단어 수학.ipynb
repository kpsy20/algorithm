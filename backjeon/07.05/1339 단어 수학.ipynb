{
 "cells": [
  {
   "cell_type": "code",
   "execution_count": 12,
   "id": "color-arbor",
   "metadata": {},
   "outputs": [
    {
     "name": "stdout",
     "output_type": "stream",
     "text": [
      "2\n",
      "GCF\n",
      "ACDEB\n",
      "[('A', 10000), ('C', 1010), ('G', 100), ('D', 100), ('E', 10), ('F', 1), ('B', 1)]\n",
      "99437\n"
     ]
    }
   ],
   "source": [
    "import operator\n",
    "\n",
    "test = int(input())\n",
    "num_dict = {}\n",
    "\n",
    "for i in range(test):\n",
    "    num = input()\n",
    "    num_len = len(num)\n",
    "    for j in range(num_len):\n",
    "        if num[num_len-1-j] not in num_dict:\n",
    "            num_dict[num[num_len-1-j]] = 10**j\n",
    "        else:\n",
    "            num_dict[num[num_len-1-j]] += 10**j\n",
    "        \n",
    "\n",
    "sdict= sorted(num_dict.items(), key=operator.itemgetter(1), reverse=True)\n",
    "answer = 0\n",
    "result = [9, 8, 7, 6, 5, 4, 3, 2, 1, 0]\n",
    "count = 0\n",
    "for i in sdict:\n",
    "    answer += i[1]*result[count]\n",
    "    count += 1\n",
    "print(answer)"
   ]
  }
 ],
 "metadata": {
  "kernelspec": {
   "display_name": "Python 3",
   "language": "python",
   "name": "python3"
  },
  "language_info": {
   "codemirror_mode": {
    "name": "ipython",
    "version": 3
   },
   "file_extension": ".py",
   "mimetype": "text/x-python",
   "name": "python",
   "nbconvert_exporter": "python",
   "pygments_lexer": "ipython3",
   "version": "3.8.3"
  }
 },
 "nbformat": 4,
 "nbformat_minor": 5
}
