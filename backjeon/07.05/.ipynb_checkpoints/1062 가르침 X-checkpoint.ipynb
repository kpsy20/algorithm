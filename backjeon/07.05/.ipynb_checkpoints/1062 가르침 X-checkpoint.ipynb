{
 "cells": [
  {
   "cell_type": "code",
   "execution_count": null,
   "id": "awful-armenia",
   "metadata": {},
   "outputs": [],
   "source": [
    "3 6\n",
    "antarctica\n",
    "antahellotica\n",
    "antacartica"
   ]
  },
  {
   "cell_type": "code",
   "execution_count": null,
   "id": "gothic-jones",
   "metadata": {
    "scrolled": false
   },
   "outputs": [],
   "source": [
    "n, k = map(int, input().split())\n"
   ]
  },
  {
   "cell_type": "code",
   "execution_count": null,
   "id": "pleased-passing",
   "metadata": {},
   "outputs": [],
   "source": []
  }
 ],
 "metadata": {
  "kernelspec": {
   "display_name": "Python 3",
   "language": "python",
   "name": "python3"
  },
  "language_info": {
   "codemirror_mode": {
    "name": "ipython",
    "version": 3
   },
   "file_extension": ".py",
   "mimetype": "text/x-python",
   "name": "python",
   "nbconvert_exporter": "python",
   "pygments_lexer": "ipython3",
   "version": "3.8.3"
  }
 },
 "nbformat": 4,
 "nbformat_minor": 5
}
