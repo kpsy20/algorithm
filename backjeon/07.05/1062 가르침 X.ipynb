{
 "cells": [
  {
   "cell_type": "code",
   "execution_count": null,
   "id": "awful-armenia",
   "metadata": {},
   "outputs": [],
   "source": [
    "3 6\n",
    "antarctica\n",
    "antahellotica\n",
    "antacartica"
   ]
  },
  {
   "cell_type": "code",
   "execution_count": 2,
   "id": "gothic-jones",
   "metadata": {
    "scrolled": false
   },
   "outputs": [
    {
     "name": "stdout",
     "output_type": "stream",
     "text": [
      "2 5\n",
      "antaptica\n",
      "antapotica\n"
     ]
    }
   ],
   "source": [
    "from itertool import combinations\n",
    "base = ['a', 'n', 't', 'r', 'i']\n",
    "n, k = map(int, input().split())\n",
    "if k < 5:\n",
    "    print(-1)\n",
    "word = []\n",
    "word_dict = {}\n",
    "alpha = []\n",
    "for i in range(n):\n",
    "    w = input()[4:-4]\n",
    "    for i in range(len(list(w))):\n",
    "        if list(w)[i] not in alpha:\n",
    "            alpha.append(list(w)[i])\n",
    "    wo = ''.join(sorted([x for x in list(set(w)) if x not in base]) )\n",
    "    if w not in word_dict:\n",
    "        word_dict[wo] = 1\n",
    "    else:\n",
    "        word_dict[wo] += 1\n",
    "#word dict에 배워야 할 알파벳이 스트링으로 들어감\n",
    "com = combinations(alpha, min(len(alpha), k-5))\n",
    "for combi in com:\n",
    "    for word in word_dict:\n",
    "        "
   ]
  },
  {
   "cell_type": "code",
   "execution_count": 3,
   "id": "instructional-bryan",
   "metadata": {},
   "outputs": [
    {
     "data": {
      "text/plain": [
       "{'p': 1, 'op': 1}"
      ]
     },
     "execution_count": 3,
     "metadata": {},
     "output_type": "execute_result"
    }
   ],
   "source": [
    "word_dict"
   ]
  },
  {
   "cell_type": "code",
   "execution_count": 6,
   "id": "republican-recognition",
   "metadata": {},
   "outputs": [
    {
     "data": {
      "text/plain": [
       "['p', 'o']"
      ]
     },
     "execution_count": 6,
     "metadata": {},
     "output_type": "execute_result"
    }
   ],
   "source": [
    "alpha"
   ]
  },
  {
   "cell_type": "code",
   "execution_count": null,
   "id": "fifteen-diploma",
   "metadata": {},
   "outputs": [],
   "source": []
  }
 ],
 "metadata": {
  "kernelspec": {
   "display_name": "Python 3",
   "language": "python",
   "name": "python3"
  },
  "language_info": {
   "codemirror_mode": {
    "name": "ipython",
    "version": 3
   },
   "file_extension": ".py",
   "mimetype": "text/x-python",
   "name": "python",
   "nbconvert_exporter": "python",
   "pygments_lexer": "ipython3",
   "version": "3.8.3"
  }
 },
 "nbformat": 4,
 "nbformat_minor": 5
}
