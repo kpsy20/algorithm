{
 "cells": [
  {
   "cell_type": "code",
   "execution_count": 54,
   "id": "liquid-technician",
   "metadata": {
    "scrolled": true
   },
   "outputs": [
    {
     "name": "stdout",
     "output_type": "stream",
     "text": [
      "4\n",
      "[]\n"
     ]
    }
   ],
   "source": [
    "\n",
    "def recur(line, n, result, chess):\n",
    "    if line == n:\n",
    "        result.append(1)\n",
    "        print('last', result)\n",
    "        return\n",
    "    for i in range(n):\n",
    "        if chess[line][i] != -1:\n",
    "            continue\n",
    "        chess[line][i] = line\n",
    "        \n",
    "        for x in range(n):\n",
    "            if chess[line][x] == -1:\n",
    "                chess[line][x] = line\n",
    "        for y in range(line, n):\n",
    "            if chess[y][i] == -1:\n",
    "                chess[y][i] = line\n",
    "        for y in range(line, n):\n",
    "            for x in range(i, -1, -1):\n",
    "                if chess[y][x] == -1:\n",
    "                    chess[y][x] = line\n",
    "        for y in range(line, n):\n",
    "            for x in range(i, n):\n",
    "                if chess[y][x] == -1:\n",
    "                    chess[y][x] = line\n",
    "                    \n",
    "        recur(line+1, n, result, chess)\n",
    "        \n",
    "        for x in range(n):\n",
    "            if chess[line][x] == line:\n",
    "                chess[line][x] = -1\n",
    "        for y in range(line, n):\n",
    "            if chess[y][i] == line:\n",
    "                chess[y][i] = -1\n",
    "        for y in range(line, n):\n",
    "            for x in range(i, -1, -1):\n",
    "                if chess[y][x] == line:\n",
    "                    chess[y][x] = -1\n",
    "        for y in range(line, n):\n",
    "            for x in range(i, n):\n",
    "                if chess[y][x] == line:\n",
    "                    chess[y][x] = -1\n",
    "n = int(input())\n",
    "result = []\n",
    "chess = [[0 for x in range(14)] for y in range(14)]\n",
    "recur(0, n, result, chess)\n",
    "print(result)"
   ]
  },
  {
   "cell_type": "markdown",
   "id": "corrected-aberdeen",
   "metadata": {},
   "source": [
    "n = 01, solution count is 1.\n",
    "n = 02, solution count is 0.\n",
    "n = 03, solution count is 0.\n",
    "n = 04, solution count is 2.\n",
    "n = 05, solution count is 10.\n",
    "n = 06, solution count is 4.\n",
    "n = 07, solution count is 40.\n",
    "n = 08, solution count is 92.\n",
    "n = 09, solution count is 352.\n",
    "n = 10, solution count is 724.\n",
    "n = 11, solution count is 2680.\n",
    "n = 12, solution count is 14200.\n",
    "n = 13, solution count is 73712."
   ]
  },
  {
   "cell_type": "markdown",
   "id": "spread-roommate",
   "metadata": {},
   "source": [
    "# a"
   ]
  }
 ],
 "metadata": {
  "kernelspec": {
   "display_name": "Python 3",
   "language": "python",
   "name": "python3"
  },
  "language_info": {
   "codemirror_mode": {
    "name": "ipython",
    "version": 3
   },
   "file_extension": ".py",
   "mimetype": "text/x-python",
   "name": "python",
   "nbconvert_exporter": "python",
   "pygments_lexer": "ipython3",
   "version": "3.8.3"
  }
 },
 "nbformat": 4,
 "nbformat_minor": 5
}
