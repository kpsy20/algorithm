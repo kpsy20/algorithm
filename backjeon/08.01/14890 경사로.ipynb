{
 "cells": [
  {
   "cell_type": "code",
   "execution_count": 22,
   "id": "meaningful-positive",
   "metadata": {
    "scrolled": true
   },
   "outputs": [
    {
     "name": "stdout",
     "output_type": "stream",
     "text": [
      "6 100\n",
      "1 1 1 1 1 1\n",
      "[1, 1, 1, 1, 1, 1] 0 first\n",
      "1 1 1 1 1 1\n",
      "[1, 1, 1, 1, 1, 1] 1 first\n",
      "1 1 1 1 1 2\n",
      "1 1 1 1 1 2\n",
      "1 1 1 1 1 100\n",
      "1 2 3 1 2 3\n",
      "second 0\n",
      "[1, 1, 1, 1, 1, 1] 0 second\n",
      "second 1\n",
      "second 2\n",
      "second 3\n",
      "[1, 1, 1, 1, 1, 1] 3 second\n",
      "second 4\n",
      "second 5\n",
      "4\n"
     ]
    }
   ],
   "source": [
    "def check(road, l, n):\n",
    "    idx = 0\n",
    "    res = True\n",
    "    visit = [False for x in range(n)]\n",
    "    while(idx<n-1 and res):\n",
    "#        print(idx)\n",
    "        if road[idx] - road[idx+1] == 1: #1차이 날 때 높은데서 낮은데.\n",
    "            if idx+l<n and  min(road[idx+1:idx+1+l]) == max(road[idx+1:idx+1+l]): #쭉 같을 때\n",
    "                \n",
    "                for i in range(idx+1, idx+1+l):\n",
    "                    visit[i] = True #다리 놓은 곳 체크\n",
    "                idx+=l-1\n",
    "            else:\n",
    "                res = False\n",
    "        elif road[idx] - road[idx+1] == -1: #낮은데서 높은데 -> 낮은곳을 봐야함\n",
    "            if idx - l+1>=0 and min(road[idx-l+1:idx+1]) == max(road[idx-l+1:idx+1]): #같을 때\n",
    "                for i in range(idx-l+1, idx+1):\n",
    "                    if visit[i] == True:\n",
    "                        res = False\n",
    "                        break\n",
    "                    else:\n",
    "                        visit[i] = True\n",
    "            else: #같지 않을 때\n",
    "                res = False\n",
    "        elif road[idx] == road[idx+1]:\n",
    "            pass\n",
    "        else: #크게 차이날 때\n",
    "            res = False\n",
    "            break\n",
    "        idx+=1\n",
    "    return res\n",
    "        \n",
    "n, l = map(int, input().split())\n",
    "world = []\n",
    "ans = 0\n",
    "for i in range(n):\n",
    "    road = list(map(int, input().split()))\n",
    "    world.append(road)\n",
    "    if check(road, l, n):\n",
    "        #print(road, i, \"first\")\n",
    "        ans += 1\n",
    "        \n",
    "for i in range(n):\n",
    "    road = []\n",
    "    #print(\"second\", i)\n",
    "    for j in range(n):\n",
    "        road.append(world[j][i])\n",
    "    if check(road, l, n):\n",
    "        #print(road, i, \"second\")\n",
    "        ans+=1\n",
    "print(ans)"
   ]
  },
  {
   "cell_type": "markdown",
   "id": "thorough-ownership",
   "metadata": {},
   "source": [
    "### "
   ]
  },
  {
   "cell_type": "code",
   "execution_count": null,
   "id": "british-xerox",
   "metadata": {},
   "outputs": [],
   "source": []
  }
 ],
 "metadata": {
  "kernelspec": {
   "display_name": "Python 3",
   "language": "python",
   "name": "python3"
  },
  "language_info": {
   "codemirror_mode": {
    "name": "ipython",
    "version": 3
   },
   "file_extension": ".py",
   "mimetype": "text/x-python",
   "name": "python",
   "nbconvert_exporter": "python",
   "pygments_lexer": "ipython3",
   "version": "3.8.3"
  }
 },
 "nbformat": 4,
 "nbformat_minor": 5
}
