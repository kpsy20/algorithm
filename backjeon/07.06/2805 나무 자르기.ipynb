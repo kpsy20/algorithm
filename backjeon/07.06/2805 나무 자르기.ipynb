{
 "cells": [
  {
   "cell_type": "code",
   "execution_count": 75,
   "id": "cheap-editor",
   "metadata": {},
   "outputs": [
    {
     "name": "stdout",
     "output_type": "stream",
     "text": [
      "5 20\n",
      "4 42 40 26 46\n",
      "23 62\n",
      "35 23\n",
      "41 6\n",
      "38 14\n",
      "36 20\n",
      "37 17\n",
      "36\n"
     ]
    }
   ],
   "source": [
    "n, m = map(int, input().split())\n",
    "\n",
    "tree = list(map(int, input().split()))\n",
    "\n",
    "start=0\n",
    "end=max(tree)\n",
    "result=0\n",
    "\n",
    "while start<=end:\n",
    "    mid=(start+end)//2\n",
    "    total=0\n",
    "\n",
    "    for i in tree:\n",
    "        if i>=mid:\n",
    "            total+=i-mid\n",
    "\n",
    "    if total >= m:\n",
    "        start=mid+1\n",
    "        result=mid\n",
    "    else:\n",
    "        end=mid-1\n",
    "\n",
    "print(result)"
   ]
  },
  {
   "cell_type": "code",
   "execution_count": 71,
   "id": "prospective-convenience",
   "metadata": {},
   "outputs": [
    {
     "data": {
      "text/plain": [
       "1"
      ]
     },
     "execution_count": 71,
     "metadata": {},
     "output_type": "execute_result"
    }
   ],
   "source": [
    "mid"
   ]
  },
  {
   "cell_type": "code",
   "execution_count": 4,
   "id": "synthetic-crime",
   "metadata": {},
   "outputs": [
    {
     "data": {
      "text/plain": [
       "1"
      ]
     },
     "execution_count": 4,
     "metadata": {},
     "output_type": "execute_result"
    }
   ],
   "source": [
    "right"
   ]
  },
  {
   "cell_type": "code",
   "execution_count": null,
   "id": "mobile-heath",
   "metadata": {},
   "outputs": [],
   "source": []
  }
 ],
 "metadata": {
  "kernelspec": {
   "display_name": "Python 3",
   "language": "python",
   "name": "python3"
  },
  "language_info": {
   "codemirror_mode": {
    "name": "ipython",
    "version": 3
   },
   "file_extension": ".py",
   "mimetype": "text/x-python",
   "name": "python",
   "nbconvert_exporter": "python",
   "pygments_lexer": "ipython3",
   "version": "3.8.3"
  }
 },
 "nbformat": 4,
 "nbformat_minor": 5
}
