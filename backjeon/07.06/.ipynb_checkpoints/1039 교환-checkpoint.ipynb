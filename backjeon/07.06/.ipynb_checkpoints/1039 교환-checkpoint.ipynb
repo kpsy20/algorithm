{
 "cells": [
  {
   "cell_type": "code",
   "execution_count": 35,
   "id": "monthly-gossip",
   "metadata": {},
   "outputs": [
    {
     "name": "stdout",
     "output_type": "stream",
     "text": [
      "1003 2\n",
      "LEVEL 0\n",
      "LEVEL 1\n",
      "3100\n"
     ]
    }
   ],
   "source": [
    "import copy\n",
    "def toInt(l):\n",
    "    res = 0\n",
    "    for i in range(len(l)):\n",
    "        res += l[len(l)-1-i] * (10 ** i)\n",
    "    return res\n",
    "\n",
    "n, k = map(int, input().split())\n",
    "n_str = [int(x) for x in list(str(n))]\n",
    "num_q = []\n",
    "idx = [x for x in range(len(n_str))]\n",
    "now = n\n",
    "num_q.append(n)\n",
    "\n",
    "\n",
    "for i in range(k):\n",
    "    if not num_q:\n",
    "        break\n",
    "    new_q = []\n",
    "    for kk in range(len(num_q)):\n",
    "        now = num_q[kk]\n",
    "        n_str = [int(x) for x in list(str(now))]\n",
    "        \n",
    "        for front in range(len(n_str)-1): #앞수\n",
    "            for back in range(front+1, len(n_str)): #뒷수\n",
    "                n_str = [int(x) for x in list(str(now))]\n",
    "                temp = n_str[front]\n",
    "                n_str[front] = n_str[back]\n",
    "                n_str[back] = temp\n",
    "                if n_str[0] == 0:\n",
    "                    pass\n",
    "                else:\n",
    "                    num = toInt(n_str)\n",
    "                    new_q.append(num)\n",
    "                \n",
    "    num_q = copy.deepcopy(new_q)\n",
    "    num_q = list(set(num_q))\n",
    "if not num_q:\n",
    "    print(-1)\n",
    "else:\n",
    "    print(max(num_q))\n",
    "            \n",
    "            \n",
    "            "
   ]
  },
  {
   "cell_type": "code",
   "execution_count": null,
   "id": "critical-wagon",
   "metadata": {},
   "outputs": [],
   "source": []
  }
 ],
 "metadata": {
  "kernelspec": {
   "display_name": "Python 3",
   "language": "python",
   "name": "python3"
  },
  "language_info": {
   "codemirror_mode": {
    "name": "ipython",
    "version": 3
   },
   "file_extension": ".py",
   "mimetype": "text/x-python",
   "name": "python",
   "nbconvert_exporter": "python",
   "pygments_lexer": "ipython3",
   "version": "3.8.3"
  }
 },
 "nbformat": 4,
 "nbformat_minor": 5
}
