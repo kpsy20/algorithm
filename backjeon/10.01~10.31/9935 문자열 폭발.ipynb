{
 "cells": [
  {
   "cell_type": "code",
   "execution_count": null,
   "id": "incoming-headquarters",
   "metadata": {},
   "outputs": [],
   "source": [
    "12ab112ab2ab\n",
    "12ab"
   ]
  },
  {
   "cell_type": "code",
   "execution_count": null,
   "id": "cellular-metabolism",
   "metadata": {},
   "outputs": [],
   "source": [
    "s = input()\n",
    "stack = []\n",
    "\n"
   ]
  }
 ],
 "metadata": {
  "kernelspec": {
   "display_name": "Python 3",
   "language": "python",
   "name": "python3"
  },
  "language_info": {
   "codemirror_mode": {
    "name": "ipython",
    "version": 3
   },
   "file_extension": ".py",
   "mimetype": "text/x-python",
   "name": "python",
   "nbconvert_exporter": "python",
   "pygments_lexer": "ipython3",
   "version": "3.8.3"
  }
 },
 "nbformat": 4,
 "nbformat_minor": 5
}
