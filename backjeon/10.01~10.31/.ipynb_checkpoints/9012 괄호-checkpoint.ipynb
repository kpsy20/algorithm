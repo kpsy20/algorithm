{
 "cells": [
  {
   "cell_type": "code",
   "execution_count": null,
   "id": "optimum-sword",
   "metadata": {},
   "outputs": [],
   "source": [
    "6\n",
    "(())())\n",
    "(((()())()\n",
    "(()())((()))\n",
    "((()()(()))(((())))()\n",
    "()()()()(()()())()\n",
    "(()((())()("
   ]
  },
  {
   "cell_type": "code",
   "execution_count": 6,
   "id": "hollow-pickup",
   "metadata": {},
   "outputs": [
    {
     "name": "stdout",
     "output_type": "stream",
     "text": [
      "6\n",
      "(())())\n",
      "NO\n",
      "(((()())()\n",
      "NO\n",
      "(()())((()))\n",
      "YES\n",
      "((()()(()))(((())))()\n",
      "NO\n",
      "()()()()(()()())()\n",
      "YES\n",
      "(()((())()(\n",
      "NO\n"
     ]
    }
   ],
   "source": [
    "n = int(input())\n",
    "for i in range(n):\n",
    "    now = input()\n",
    "    stack = []\n",
    "    check = True\n",
    "    for j in range(len(now)):\n",
    "        if now[j] == '(':\n",
    "            stack.append('(')\n",
    "        else:\n",
    "            if stack:\n",
    "                stack.pop()\n",
    "            else:\n",
    "                check = False\n",
    "                print(\"NO\")\n",
    "                break\n",
    "    if check and not stack:\n",
    "        print(\"YES\")\n",
    "    elif check and stack:\n",
    "        print(\"NO\")"
   ]
  },
  {
   "cell_type": "code",
   "execution_count": null,
   "id": "polish-attempt",
   "metadata": {},
   "outputs": [],
   "source": []
  }
 ],
 "metadata": {
  "kernelspec": {
   "display_name": "Python 3",
   "language": "python",
   "name": "python3"
  },
  "language_info": {
   "codemirror_mode": {
    "name": "ipython",
    "version": 3
   },
   "file_extension": ".py",
   "mimetype": "text/x-python",
   "name": "python",
   "nbconvert_exporter": "python",
   "pygments_lexer": "ipython3",
   "version": "3.8.3"
  }
 },
 "nbformat": 4,
 "nbformat_minor": 5
}
