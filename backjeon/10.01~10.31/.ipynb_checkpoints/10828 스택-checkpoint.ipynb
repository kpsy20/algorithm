{
 "cells": [
  {
   "cell_type": "code",
   "execution_count": null,
   "id": "hollow-finance",
   "metadata": {},
   "outputs": [],
   "source": [
    "push X: 정수 X를 스택에 넣는 연산이다.\n",
    "pop: 스택에서 가장 위에 있는 정수를 빼고, 그 수를 출력한다. 만약 스택에 들어있는 정수가 없는 경우에는 -1을 출력한다.\n",
    "size: 스택에 들어있는 정수의 개수를 출력한다.\n",
    "empty: 스택이 비어있으면 1, 아니면 0을 출력한다.\n",
    "top: 스택의 가장 위에 있는 정수를 출력한다. 만약 스택에 들어있는 정수가 없는 경우에는 -1을 출력한다."
   ]
  },
  {
   "cell_type": "code",
   "execution_count": null,
   "id": "greek-basis",
   "metadata": {},
   "outputs": [],
   "source": [
    "14\n",
    "push 1\n",
    "push 2\n",
    "top\n",
    "size\n",
    "empty\n",
    "pop\n",
    "pop\n",
    "pop\n",
    "size\n",
    "empty\n",
    "pop\n",
    "push 3\n",
    "empty\n",
    "top"
   ]
  },
  {
   "cell_type": "code",
   "execution_count": null,
   "id": "meaningful-harbor",
   "metadata": {},
   "outputs": [],
   "source": [
    "import sys\n",
    "n = int(input())\n",
    "stack = []\n",
    "for i in range(n):\n",
    "    op = sys.stdin.readline().split()\n",
    "    if op[0][1] == 'u':\n",
    "        stack.append(int(op[1]))\n",
    "    elif op[0][1] == 'o':\n",
    "        if op[0][0] == 't': # top\n",
    "            if stack:\n",
    "                print(stack[-1])\n",
    "            else:\n",
    "                print(-1)\n",
    "        else: #pop\n",
    "            if stack:\n",
    "                print(stack.pop())\n",
    "            else:\n",
    "                print(-1)\n",
    "            \n",
    "    elif op[0][1] == 'i':\n",
    "        print(len(stack))\n",
    "    elif op[0][1] == 'm':\n",
    "        if stack:\n",
    "            print(0)\n",
    "        else:\n",
    "            print(1)"
   ]
  }
 ],
 "metadata": {
  "kernelspec": {
   "display_name": "Python 3",
   "language": "python",
   "name": "python3"
  },
  "language_info": {
   "codemirror_mode": {
    "name": "ipython",
    "version": 3
   },
   "file_extension": ".py",
   "mimetype": "text/x-python",
   "name": "python",
   "nbconvert_exporter": "python",
   "pygments_lexer": "ipython3",
   "version": "3.8.3"
  }
 },
 "nbformat": 4,
 "nbformat_minor": 5
}
