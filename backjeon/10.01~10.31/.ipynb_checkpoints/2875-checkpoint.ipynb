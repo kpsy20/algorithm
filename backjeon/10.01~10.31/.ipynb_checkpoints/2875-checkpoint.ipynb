{
 "cells": [
  {
   "cell_type": "code",
   "execution_count": null,
   "id": "rising-cologne",
   "metadata": {},
   "outputs": [],
   "source": [
    "n, m, k = map(int, input().split())\n",
    "\n",
    "idx = 1\n",
    "\n",
    "while idx <= k:\n",
    "    if n//2 >= m:\n",
    "        n -= 1\n",
    "    else:\n",
    "        m -= 1\n",
    "    idx += 1\n",
    "    \n",
    "if n//2 > m:\n",
    "    print(m)\n",
    "else:\n",
    "    print(n//2)"
   ]
  }
 ],
 "metadata": {
  "kernelspec": {
   "display_name": "Python 3",
   "language": "python",
   "name": "python3"
  },
  "language_info": {
   "codemirror_mode": {
    "name": "ipython",
    "version": 3
   },
   "file_extension": ".py",
   "mimetype": "text/x-python",
   "name": "python",
   "nbconvert_exporter": "python",
   "pygments_lexer": "ipython3",
   "version": "3.8.3"
  }
 },
 "nbformat": 4,
 "nbformat_minor": 5
}
