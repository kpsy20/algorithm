{
 "cells": [
  {
   "cell_type": "code",
   "execution_count": null,
   "id": "excited-fellow",
   "metadata": {},
   "outputs": [],
   "source": [
    "4\n",
    "3 5 2 7\n",
    "\n",
    "5 7 7 -1\n",
    "\n",
    "4\n",
    "9 5 4 8\n",
    "\n",
    "-1 8 8 -1"
   ]
  },
  {
   "cell_type": "code",
   "execution_count": null,
   "id": "generic-inflation",
   "metadata": {},
   "outputs": [],
   "source": [
    "작은건 빼고 큰건 넣고"
   ]
  },
  {
   "cell_type": "code",
   "execution_count": 11,
   "id": "presidential-relaxation",
   "metadata": {},
   "outputs": [
    {
     "name": "stdout",
     "output_type": "stream",
     "text": [
      "4\n",
      "9 5 4 8\n",
      "-1 8 8 -1\n"
     ]
    }
   ],
   "source": [
    "n = int(input())\n",
    "top = list(map(int, input().split()))\n",
    "for i in range(len(top)):\n",
    "    top[i] = [top[i], i]\n",
    "\n",
    "stack = []\n",
    "ans = [-1 for x in range(n)]\n",
    "for i in range(len(top)):\n",
    "    if stack:\n",
    "        if stack[-1][0] < top[i][0]: #지금 것이 더 크다. 다 뺀다.\n",
    "            while stack and stack[-1][0] < top[i][0]:\n",
    "                now = stack.pop()\n",
    "                ans[now[1]] = top[i][0]\n",
    "            stack.append(top[i])\n",
    "        else:\n",
    "            stack.append(top[i])\n",
    "    else:\n",
    "        stack.append(top[i])\n",
    "        \n",
    "print(' '.join([str(x) for x in ans]))\n"
   ]
  },
  {
   "cell_type": "code",
   "execution_count": 4,
   "id": "hungarian-ready",
   "metadata": {},
   "outputs": [
    {
     "data": {
      "text/plain": [
       "[[9, 0], [5, 1], [4, 2], [8, 3]]"
      ]
     },
     "execution_count": 4,
     "metadata": {},
     "output_type": "execute_result"
    }
   ],
   "source": [
    "top"
   ]
  },
  {
   "cell_type": "code",
   "execution_count": null,
   "id": "emerging-wagner",
   "metadata": {},
   "outputs": [],
   "source": []
  }
 ],
 "metadata": {
  "kernelspec": {
   "display_name": "Python 3",
   "language": "python",
   "name": "python3"
  },
  "language_info": {
   "codemirror_mode": {
    "name": "ipython",
    "version": 3
   },
   "file_extension": ".py",
   "mimetype": "text/x-python",
   "name": "python",
   "nbconvert_exporter": "python",
   "pygments_lexer": "ipython3",
   "version": "3.8.3"
  }
 },
 "nbformat": 4,
 "nbformat_minor": 5
}
