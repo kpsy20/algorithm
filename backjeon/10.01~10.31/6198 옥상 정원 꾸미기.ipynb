{
 "cells": [
  {
   "cell_type": "code",
   "execution_count": null,
   "id": "gorgeous-administration",
   "metadata": {},
   "outputs": [],
   "source": [
    "6\n",
    "10\n",
    "3\n",
    "7\n",
    "4\n",
    "12\n",
    "2"
   ]
  },
  {
   "cell_type": "code",
   "execution_count": 1,
   "id": "unique-daisy",
   "metadata": {},
   "outputs": [
    {
     "name": "stdout",
     "output_type": "stream",
     "text": [
      "6\n",
      "10\n",
      "3\n",
      "7\n",
      "4\n",
      "12\n",
      "2\n",
      "5\n"
     ]
    }
   ],
   "source": [
    "n = int(input())\n",
    "top = []\n",
    "for i in range(n):\n",
    "    top.append([int(input()), i])\n",
    "\n",
    "stack = []\n",
    "ans = [-1 for x in range(n)]\n",
    "for i in range(n):\n",
    "    if stack:\n",
    "        if stack[-1][0] <= top[i][0]: #지금이 더 높아 따 빼\n",
    "            while stack and stack[-1][0] <= top[i][0]:\n",
    "                now = stack.pop()\n",
    "                ans[now[1]] = i - now[1] - 1\n",
    "            stack.append(top[i])\n",
    "        else:\n",
    "            stack.append(top[i])\n",
    "            \n",
    "    else:\n",
    "        stack.append(top[i])\n",
    "\n",
    "if stack:\n",
    "    for i in range(len(stack)):\n",
    "        ans[stack[i][1]] = n - stack[i][1] - 1\n",
    "print(sum(ans))"
   ]
  },
  {
   "cell_type": "code",
   "execution_count": null,
   "id": "laden-transportation",
   "metadata": {},
   "outputs": [],
   "source": []
  }
 ],
 "metadata": {
  "kernelspec": {
   "display_name": "Python 3",
   "language": "python",
   "name": "python3"
  },
  "language_info": {
   "codemirror_mode": {
    "name": "ipython",
    "version": 3
   },
   "file_extension": ".py",
   "mimetype": "text/x-python",
   "name": "python",
   "nbconvert_exporter": "python",
   "pygments_lexer": "ipython3",
   "version": "3.8.3"
  }
 },
 "nbformat": 4,
 "nbformat_minor": 5
}
