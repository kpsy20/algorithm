{
 "cells": [
  {
   "cell_type": "code",
   "execution_count": 1,
   "id": "split-rebate",
   "metadata": {},
   "outputs": [
    {
     "ename": "SyntaxError",
     "evalue": "invalid syntax (<ipython-input-1-0cb59fb4219e>, line 1)",
     "output_type": "error",
     "traceback": [
      "\u001b[1;36m  File \u001b[1;32m\"<ipython-input-1-0cb59fb4219e>\"\u001b[1;36m, line \u001b[1;32m1\u001b[0m\n\u001b[1;33m    0 3 5 4 6 9 2 7 8\u001b[0m\n\u001b[1;37m      ^\u001b[0m\n\u001b[1;31mSyntaxError\u001b[0m\u001b[1;31m:\u001b[0m invalid syntax\n"
     ]
    }
   ],
   "source": [
    "0 3 5 4 6 9 2 7 8\n",
    "7 8 2 1 0 5 6 0 9\n",
    "0 6 0 2 7 8 1 3 5\n",
    "3 2 1 0 4 6 8 9 7\n",
    "8 0 4 9 1 3 5 0 6\n",
    "5 9 6 8 2 0 4 1 3\n",
    "9 1 7 6 5 2 0 8 0\n",
    "6 0 3 7 0 1 9 5 2\n",
    "2 5 8 3 9 4 7 6 0"
   ]
  },
  {
   "cell_type": "code",
   "execution_count": 3,
   "id": "inclusive-poison",
   "metadata": {},
   "outputs": [
    {
     "ename": "SyntaxError",
     "evalue": "invalid syntax (<ipython-input-3-3fa6b7adc0cb>, line 20)",
     "output_type": "error",
     "traceback": [
      "\u001b[1;36m  File \u001b[1;32m\"<ipython-input-3-3fa6b7adc0cb>\"\u001b[1;36m, line \u001b[1;32m20\u001b[0m\n\u001b[1;33m    can_go = [x for x in range(1, 10) if not in [y for y in range(1, 10)]]\u001b[0m\n\u001b[1;37m                                             ^\u001b[0m\n\u001b[1;31mSyntaxError\u001b[0m\u001b[1;31m:\u001b[0m invalid syntax\n"
     ]
    }
   ],
   "source": [
    "sdo = []\n",
    "for i in range(9):\n",
    "    sdo.append(list(map(int, input().split())))\n",
    "\n",
    "def check(sdo, y, x):\n",
    "    row = []\n",
    "    col = []\n",
    "    box = []\n",
    "    \n",
    "    for i in range(9):\n",
    "        row.append(sdo[y][i])\n",
    "    for i in range(9):\n",
    "        col.append(sdo[i][x])\n",
    "    box_x = x//3\n",
    "    box_y = y//3\n",
    "    for i in range(box_y*3, box_y*3+3):\n",
    "        for j in range(box_x*3, box_x*3+3):\n",
    "            box.append(sdo[i][j])\n",
    "    already = list(set(row+col+box))\n",
    "    res = []\n",
    "    for i in range(1, 10):\n",
    "        if i not in already:\n",
    "            res.append(i)\n",
    "    return res"
   ]
  },
  {
   "cell_type": "code",
   "execution_count": 2,
   "id": "annoying-avatar",
   "metadata": {},
   "outputs": [
    {
     "data": {
      "text/plain": [
       "[1, 2, 2, 3]"
      ]
     },
     "execution_count": 2,
     "metadata": {},
     "output_type": "execute_result"
    }
   ],
   "source": []
  },
  {
   "cell_type": "code",
   "execution_count": null,
   "id": "extraordinary-alexander",
   "metadata": {},
   "outputs": [],
   "source": []
  }
 ],
 "metadata": {
  "kernelspec": {
   "display_name": "Python 3",
   "language": "python",
   "name": "python3"
  },
  "language_info": {
   "codemirror_mode": {
    "name": "ipython",
    "version": 3
   },
   "file_extension": ".py",
   "mimetype": "text/x-python",
   "name": "python",
   "nbconvert_exporter": "python",
   "pygments_lexer": "ipython3",
   "version": "3.8.3"
  }
 },
 "nbformat": 4,
 "nbformat_minor": 5
}
