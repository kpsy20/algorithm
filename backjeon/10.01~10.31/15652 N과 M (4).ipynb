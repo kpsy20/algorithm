{
 "cells": [
  {
   "cell_type": "code",
   "execution_count": 5,
   "id": "piano-acting",
   "metadata": {},
   "outputs": [
    {
     "name": "stdout",
     "output_type": "stream",
     "text": [
      "3 3\n"
     ]
    }
   ],
   "source": [
    "import copy\n",
    "n, m = map(int, input().split())\n",
    "res = []\n",
    "def make(now, idx, finish):\n",
    "    global n\n",
    "    if idx == finish:\n",
    "        res.append(now)\n",
    "        return\n",
    "    for i in range(now[-1], n+1):\n",
    "        temp = copy.deepcopy(now)\n",
    "        temp.append(i)\n",
    "        make(temp, idx+1, finish)\n",
    "    \n",
    "for i in range(1, n+1):\n",
    "    make([i], 1, m)"
   ]
  },
  {
   "cell_type": "code",
   "execution_count": 6,
   "id": "future-productivity",
   "metadata": {},
   "outputs": [
    {
     "data": {
      "text/plain": [
       "[[1, 1, 1],\n",
       " [1, 1, 2],\n",
       " [1, 1, 3],\n",
       " [1, 2, 2],\n",
       " [1, 2, 3],\n",
       " [1, 3, 3],\n",
       " [2, 2, 2],\n",
       " [2, 2, 3],\n",
       " [2, 3, 3],\n",
       " [3, 3, 3]]"
      ]
     },
     "execution_count": 6,
     "metadata": {},
     "output_type": "execute_result"
    }
   ],
   "source": [
    "res"
   ]
  },
  {
   "cell_type": "code",
   "execution_count": null,
   "id": "signed-skating",
   "metadata": {},
   "outputs": [],
   "source": [
    "1 1 1\n",
    "1 1 2\n",
    "1 1 3\n",
    "1 2 2\n",
    "1 2 3\n",
    "1 3 3\n",
    "2 2 2\n",
    "2 2 3\n",
    "2 3 3\n",
    "3 3 3"
   ]
  }
 ],
 "metadata": {
  "kernelspec": {
   "display_name": "Python 3",
   "language": "python",
   "name": "python3"
  },
  "language_info": {
   "codemirror_mode": {
    "name": "ipython",
    "version": 3
   },
   "file_extension": ".py",
   "mimetype": "text/x-python",
   "name": "python",
   "nbconvert_exporter": "python",
   "pygments_lexer": "ipython3",
   "version": "3.8.3"
  }
 },
 "nbformat": 4,
 "nbformat_minor": 5
}
