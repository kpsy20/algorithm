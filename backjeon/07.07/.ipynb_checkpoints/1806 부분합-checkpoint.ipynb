{
 "cells": [
  {
   "cell_type": "code",
   "execution_count": 10,
   "id": "supreme-heath",
   "metadata": {},
   "outputs": [
    {
     "name": "stdout",
     "output_type": "stream",
     "text": [
      "10 10\n",
      "1 1 1 1 1 1 1 1 1 1\n",
      "10 10\n",
      "10\n"
     ]
    }
   ],
   "source": [
    "n, m = map(int, input().split())\n",
    "nums = list(map(int, input().split()))\n",
    "\n",
    "length = -1\n",
    "start = 0\n",
    "\n",
    "s = 0\n",
    "idx = 0\n",
    "ch=True\n",
    "while idx < len(nums) and ch:\n",
    "    while s < m:\n",
    "        s += nums[idx]\n",
    "        idx += 1\n",
    "        \n",
    "        if idx == len(nums):\n",
    "            ch=False\n",
    "            break\n",
    "            \n",
    "    \n",
    "    while s >= m:\n",
    "        if length == -1 or length > idx - start + 1:\n",
    "            length = idx-start+1\n",
    "            \n",
    "        s -= nums[start]\n",
    "        start += 1\n",
    "        \n",
    "        if length == -1 or length > idx - start + 1:\n",
    "            length = idx-start+1\n",
    "            \n",
    "if length == -1:\n",
    "    print(0)\n",
    "else:\n",
    "    print(length)"
   ]
  },
  {
   "cell_type": "code",
   "execution_count": null,
   "id": "fitting-bench",
   "metadata": {},
   "outputs": [],
   "source": []
  }
 ],
 "metadata": {
  "kernelspec": {
   "display_name": "Python 3",
   "language": "python",
   "name": "python3"
  },
  "language_info": {
   "codemirror_mode": {
    "name": "ipython",
    "version": 3
   },
   "file_extension": ".py",
   "mimetype": "text/x-python",
   "name": "python",
   "nbconvert_exporter": "python",
   "pygments_lexer": "ipython3",
   "version": "3.8.3"
  }
 },
 "nbformat": 4,
 "nbformat_minor": 5
}
