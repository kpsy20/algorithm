{
 "cells": [
  {
   "cell_type": "code",
   "execution_count": 1,
   "id": "ordered-duncan",
   "metadata": {},
   "outputs": [],
   "source": [
    "for i in range(1, 1):\n",
    "    print(2)"
   ]
  },
  {
   "cell_type": "code",
   "execution_count": 20,
   "id": "polyphonic-preservation",
   "metadata": {},
   "outputs": [
    {
     "name": "stdout",
     "output_type": "stream",
     "text": [
      "5\n",
      "4\n",
      "1 3 1 2\n",
      "3\n",
      "1 3 2\n",
      "0 0 1 6 0\n",
      "0 1 1 5 0\n",
      "0 2 1 4 0\n",
      "2 3 2 3 2\n",
      "3 4 3 2 3\n",
      "5 5 4 1 5\n",
      "7\n"
     ]
    }
   ],
   "source": [
    "t = int(input())\n",
    "n_a = int(input())\n",
    "a = list(map(int, input().split()))\n",
    "n_b = int(input())\n",
    "b = list(map(int, input().split()))\n",
    "\n",
    "count = 1\n",
    "sep_a = []\n",
    "sep_b = []\n",
    "many_a = {}\n",
    "many_b = {}\n",
    "while count <= n_a:\n",
    "    for i in range(n_a-count+1):\n",
    "        s = sum(a[i:i+count])\n",
    "        sep_a.append(s)\n",
    "        if s in many_a:\n",
    "            many_a[s] += 1\n",
    "        else:\n",
    "            many_a[s] = 1\n",
    "    count += 1\n",
    "count = 1\n",
    "while count <= n_b:\n",
    "    for i in range(n_b-count+1):\n",
    "        s = sum(b[i:i+count])\n",
    "        sep_b.append(s)\n",
    "        if s in many_b:\n",
    "            many_b[s] += 1\n",
    "        else:\n",
    "            many_b[s] = 1\n",
    "    count += 1\n",
    "    \n",
    "\n",
    "sep_a.sort()\n",
    "sep_b = sorted(sep_b, reverse=True)\n",
    "n_a = len(sep_a)\n",
    "n_b = len(sep_b)\n",
    "idx_a = 0 #작음\n",
    "idx_b = 0 #큼\n",
    "#근데 작은걸 \n",
    "ans = 0\n",
    "#print(sep_a)\n",
    "#print(sep_b)\n",
    "ch = False\n",
    "while(idx_a < n_a and idx_b < n_b):\n",
    "    print(idx_a, idx_b, sep_a[idx_a], sep_b[idx_b], ans)\n",
    "    s = sep_a[idx_a] + sep_b[idx_b] - t\n",
    "    if s > 0:\n",
    "        idx_b +=1\n",
    "    elif s < 0:\n",
    "        idx_a +=1\n",
    "    else:\n",
    "        ans += many_a[sep_a[idx_a]] * many_b[sep_b[idx_b]]\n",
    "        temp_a = sep_a[idx_a]\n",
    "        temp_b = sep_b[idx_b]\n",
    "        while idx_a < n_a and temp_a == sep_a[idx_a]:\n",
    "            idx_a += 1\n",
    "        while idx_b < n_b and temp_b == sep_b[idx_b]:\n",
    "            idx_b += 1\n",
    "            \n",
    "print(ans)"
   ]
  },
  {
   "cell_type": "code",
   "execution_count": 4,
   "id": "given-president",
   "metadata": {},
   "outputs": [
    {
     "data": {
      "text/plain": [
       "[6, 5, 4, 3, 2, 1]"
      ]
     },
     "execution_count": 4,
     "metadata": {},
     "output_type": "execute_result"
    }
   ],
   "source": [
    "sep_b"
   ]
  },
  {
   "cell_type": "code",
   "execution_count": 5,
   "id": "infinite-cream",
   "metadata": {},
   "outputs": [
    {
     "data": {
      "text/plain": [
       "[1, 1, 2, 3, 3, 4, 4, 5, 6, 7]"
      ]
     },
     "execution_count": 5,
     "metadata": {},
     "output_type": "execute_result"
    }
   ],
   "source": [
    "sep_a"
   ]
  },
  {
   "cell_type": "code",
   "execution_count": null,
   "id": "persistent-fault",
   "metadata": {},
   "outputs": [],
   "source": []
  }
 ],
 "metadata": {
  "kernelspec": {
   "display_name": "Python 3",
   "language": "python",
   "name": "python3"
  },
  "language_info": {
   "codemirror_mode": {
    "name": "ipython",
    "version": 3
   },
   "file_extension": ".py",
   "mimetype": "text/x-python",
   "name": "python",
   "nbconvert_exporter": "python",
   "pygments_lexer": "ipython3",
   "version": "3.8.3"
  }
 },
 "nbformat": 4,
 "nbformat_minor": 5
}
