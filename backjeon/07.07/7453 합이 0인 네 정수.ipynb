{
 "cells": [
  {
   "cell_type": "code",
   "execution_count": 4,
   "id": "acceptable-chapter",
   "metadata": {},
   "outputs": [
    {
     "name": "stdout",
     "output_type": "stream",
     "text": [
      "6\n",
      "-45 22 42 -16\n",
      "-41 -27 56 30\n",
      "-36 53 -37 77\n",
      "-36 30 -75 -46\n",
      "26 -38 -10 62\n",
      "-32 -54 -6 45\n",
      "5\n"
     ]
    }
   ],
   "source": [
    "n = int(input())\n",
    "a=[]\n",
    "b=[]\n",
    "c=[]\n",
    "d=[]\n",
    "for i in range(n):\n",
    "    a_t, b_t, c_t, d_t = (map(int, input().split()))\n",
    "    a.append(a_t)\n",
    "    b.append(b_t)\n",
    "    c.append(c_t)\n",
    "    d.append(d_t)\n",
    "ans=0\n",
    "\n",
    "ab = {}\n",
    "cd = {}\n",
    "for i in a:\n",
    "    for j in b:\n",
    "        #print(i, j, ab)\n",
    "        if i+j in ab:\n",
    "            ab[i+j] += 1\n",
    "        else:\n",
    "            ab[i+j] = 1\n",
    "for i in c:\n",
    "    for j in d:\n",
    "        if -(i+j) in ab:\n",
    "            ans += ab[-(i+j)]\n",
    "print(ans)"
   ]
  }
 ],
 "metadata": {
  "kernelspec": {
   "display_name": "Python 3",
   "language": "python",
   "name": "python3"
  },
  "language_info": {
   "codemirror_mode": {
    "name": "ipython",
    "version": 3
   },
   "file_extension": ".py",
   "mimetype": "text/x-python",
   "name": "python",
   "nbconvert_exporter": "python",
   "pygments_lexer": "ipython3",
   "version": "3.8.3"
  }
 },
 "nbformat": 4,
 "nbformat_minor": 5
}
