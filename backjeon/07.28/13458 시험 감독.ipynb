{
 "cells": [
  {
   "cell_type": "code",
   "execution_count": null,
   "id": "pacific-custody",
   "metadata": {},
   "outputs": [],
   "source": [
    "3\n",
    "3 4 5\n",
    "2 2"
   ]
  },
  {
   "cell_type": "code",
   "execution_count": 5,
   "id": "democratic-comedy",
   "metadata": {},
   "outputs": [
    {
     "name": "stdout",
     "output_type": "stream",
     "text": [
      "3\n",
      "3 4 5\n",
      "2 2\n"
     ]
    }
   ],
   "source": [
    "num = int(input())\n",
    "people = list(map(int, input().split()))\n",
    "b, c = map(int, input().split())"
   ]
  },
  {
   "cell_type": "code",
   "execution_count": 6,
   "id": "synthetic-video",
   "metadata": {},
   "outputs": [
    {
     "name": "stdout",
     "output_type": "stream",
     "text": [
      "7\n"
     ]
    }
   ],
   "source": [
    "answer = 0\n",
    "for i in range(len(people)):\n",
    "    if people[i] <= b:\n",
    "        answer += 1\n",
    "    else:\n",
    "        people[i] -= b\n",
    "        answer += 1\n",
    "        d = people[i] // c\n",
    "        e = people[i] % c\n",
    "        if e == 0:\n",
    "            answer += d\n",
    "        else:\n",
    "            answer += d+1\n",
    "print(answer)"
   ]
  },
  {
   "cell_type": "code",
   "execution_count": null,
   "id": "herbal-keyboard",
   "metadata": {},
   "outputs": [],
   "source": []
  }
 ],
 "metadata": {
  "kernelspec": {
   "display_name": "Python 3",
   "language": "python",
   "name": "python3"
  },
  "language_info": {
   "codemirror_mode": {
    "name": "ipython",
    "version": 3
   },
   "file_extension": ".py",
   "mimetype": "text/x-python",
   "name": "python",
   "nbconvert_exporter": "python",
   "pygments_lexer": "ipython3",
   "version": "3.8.3"
  }
 },
 "nbformat": 4,
 "nbformat_minor": 5
}
