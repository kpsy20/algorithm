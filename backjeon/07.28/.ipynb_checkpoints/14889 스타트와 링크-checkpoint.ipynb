{
 "cells": [
  {
   "cell_type": "code",
   "execution_count": null,
   "id": "destroyed-ratio",
   "metadata": {},
   "outputs": [],
   "source": [
    "6\n",
    "0 1 2 3 4 5\n",
    "1 0 2 3 4 5\n",
    "1 2 0 3 4 5\n",
    "1 2 3 0 4 5\n",
    "1 2 3 4 0 5\n",
    "1 2 3 4 5 0"
   ]
  },
  {
   "cell_type": "code",
   "execution_count": 5,
   "id": "diverse-voice",
   "metadata": {},
   "outputs": [
    {
     "name": "stdout",
     "output_type": "stream",
     "text": [
      "6\n",
      "0 1 2 3 4 5\n",
      "1 0 2 3 4 5\n",
      "1 2 0 3 4 5\n",
      "1 2 3 0 4 5\n",
      "1 2 3 4 0 5\n",
      "1 2 3 4 5 0\n",
      "2\n"
     ]
    }
   ],
   "source": [
    "num = int(input())\n",
    "\n",
    "stat = []\n",
    "for i in range(num):\n",
    "    stat.append(list(map(int, input().split())))\n",
    "from itertools import combinations\n",
    "\n",
    "select = [x for x in range(num)]\n",
    "sel_com = list(combinations(select, num//2))\n",
    "\n",
    "res = -1\n",
    "for i in range(len(sel_com) // 2):\n",
    "    start = 0\n",
    "    end = 0\n",
    "    for j in range(len(sel_com[i])):\n",
    "        for k in range(len(sel_com[i])):\n",
    "            start += stat[sel_com[i][j]][sel_com[i][k]]\n",
    "    for j in range(len(sel_com[i])):\n",
    "        for k in range(len(sel_com[i])):\n",
    "            end += stat[sel_com[len(sel_com)-1-i][j]][sel_com[len(sel_com)-1-i][k]]\n",
    "    if res == -1 or res > abs(end-start):\n",
    "        res = abs(end-start)\n",
    "print(res)"
   ]
  },
  {
   "cell_type": "code",
   "execution_count": null,
   "id": "collaborative-familiar",
   "metadata": {},
   "outputs": [],
   "source": []
  }
 ],
 "metadata": {
  "kernelspec": {
   "display_name": "Python 3",
   "language": "python",
   "name": "python3"
  },
  "language_info": {
   "codemirror_mode": {
    "name": "ipython",
    "version": 3
   },
   "file_extension": ".py",
   "mimetype": "text/x-python",
   "name": "python",
   "nbconvert_exporter": "python",
   "pygments_lexer": "ipython3",
   "version": "3.8.3"
  }
 },
 "nbformat": 4,
 "nbformat_minor": 5
}
