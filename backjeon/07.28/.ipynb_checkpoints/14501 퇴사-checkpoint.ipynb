{
 "cells": [
  {
   "cell_type": "code",
   "execution_count": null,
   "id": "meaning-strategy",
   "metadata": {},
   "outputs": [],
   "source": [
    "7\n",
    "3 10\n",
    "5 20\n",
    "1 10\n",
    "1 20\n",
    "2 15\n",
    "4 40\n",
    "2 200"
   ]
  },
  {
   "cell_type": "code",
   "execution_count": 36,
   "id": "advance-reverse",
   "metadata": {},
   "outputs": [
    {
     "name": "stdout",
     "output_type": "stream",
     "text": [
      "10\n",
      "5 50\n",
      "4 40\n",
      "3 30\n",
      "2 20\n",
      "1 10\n",
      "1 10\n",
      "2 20\n",
      "3 30\n",
      "4 40\n",
      "5 50\n",
      "0 [0, 0, 0, 0, 0, 0, 0, 0, 0, 0, 0]\n",
      "1 [0, 0, 0, 0, 0, 50, 0, 0, 0, 0, 0]\n",
      "2 [0, 0, 0, 0, 0, 50, 0, 0, 0, 0, 0]\n",
      "3 [0, 0, 0, 0, 0, 50, 0, 0, 0, 0, 0]\n",
      "4 [0, 0, 0, 0, 0, 50, 0, 0, 0, 0, 0]\n",
      "5 [0, 0, 0, 0, 0, 50, 0, 0, 0, 0, 0]\n",
      "6 [0, 0, 0, 0, 0, 50, 60, 0, 0, 0, 0]\n",
      "7 [0, 0, 0, 0, 0, 50, 60, 0, 80, 0, 0]\n",
      "8 [0, 0, 0, 0, 0, 50, 60, 60, 80, 0, 90]\n",
      "9 [0, 0, 0, 0, 0, 50, 60, 60, 80, 0, 90]\n",
      "10 [0, 0, 0, 0, 0, 50, 60, 60, 80, 0, 90]\n",
      "90\n"
     ]
    }
   ],
   "source": [
    "days = int(input())\n",
    "money = []\n",
    "for i in range(days):\n",
    "    money.append(list(map(int, input().split())))\n",
    "\n",
    "get = [0 for x in range(days+1)]\n",
    "\n",
    "idx=0\n",
    "while(True):\n",
    "    \n",
    "    if idx == len(money):\n",
    "        break\n",
    "    \n",
    "    if idx + money[idx][0] <= len(money): #끝낼 수 있을 때\n",
    "        if idx!=0:\n",
    "            get[idx] = max(get[:idx+1])\n",
    "        if money[idx][1] + get[idx] > get[idx + money[idx][0]]: #지금 이 더 크면\n",
    "            get[idx + money[idx][0]] = money[idx][1] + get[idx] #바꿔준다\n",
    "    idx += 1\n",
    "print(max(get))"
   ]
  }
 ],
 "metadata": {
  "kernelspec": {
   "display_name": "Python 3",
   "language": "python",
   "name": "python3"
  },
  "language_info": {
   "codemirror_mode": {
    "name": "ipython",
    "version": 3
   },
   "file_extension": ".py",
   "mimetype": "text/x-python",
   "name": "python",
   "nbconvert_exporter": "python",
   "pygments_lexer": "ipython3",
   "version": "3.8.3"
  }
 },
 "nbformat": 4,
 "nbformat_minor": 5
}
