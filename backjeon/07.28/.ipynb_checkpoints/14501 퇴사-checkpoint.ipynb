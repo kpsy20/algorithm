{
 "cells": [
  {
   "cell_type": "code",
   "execution_count": null,
   "id": "meaning-strategy",
   "metadata": {},
   "outputs": [],
   "source": [
    "7\n",
    "3 10\n",
    "5 20\n",
    "1 10\n",
    "1 20\n",
    "2 15\n",
    "4 40\n",
    "2 200"
   ]
  },
  {
   "cell_type": "code",
   "execution_count": 2,
   "id": "conscious-footage",
   "metadata": {},
   "outputs": [],
   "source": [
    "10\n",
    "5 10\n",
    "5 9\n",
    "5 8\n",
    "5 7\n",
    "5 6\n",
    "5 10\n",
    "5 9\n",
    "5 8\n",
    "5 7\n",
    "5 6"
   ]
  },
  {
   "cell_type": "code",
   "execution_count": 35,
   "id": "injured-funeral",
   "metadata": {},
   "outputs": [
    {
     "name": "stdout",
     "output_type": "stream",
     "text": [
      "1\n",
      "1\n"
     ]
    },
    {
     "ename": "IndexError",
     "evalue": "list index out of range",
     "output_type": "error",
     "traceback": [
      "\u001b[1;31m---------------------------------------------------------------------------\u001b[0m",
      "\u001b[1;31mIndexError\u001b[0m                                Traceback (most recent call last)",
      "\u001b[1;32m<ipython-input-35-e27ef7ab0205>\u001b[0m in \u001b[0;36m<module>\u001b[1;34m\u001b[0m\n\u001b[0;32m     19\u001b[0m \u001b[1;32mfor\u001b[0m \u001b[0mi\u001b[0m \u001b[1;32min\u001b[0m \u001b[0mrange\u001b[0m\u001b[1;33m(\u001b[0m\u001b[0mnum\u001b[0m\u001b[1;33m)\u001b[0m\u001b[1;33m:\u001b[0m\u001b[1;33m\u001b[0m\u001b[1;33m\u001b[0m\u001b[0m\n\u001b[0;32m     20\u001b[0m     \u001b[0mmoney\u001b[0m\u001b[1;33m.\u001b[0m\u001b[0mappend\u001b[0m\u001b[1;33m(\u001b[0m\u001b[0mlist\u001b[0m\u001b[1;33m(\u001b[0m\u001b[0mmap\u001b[0m\u001b[1;33m(\u001b[0m\u001b[0mint\u001b[0m\u001b[1;33m,\u001b[0m \u001b[0minput\u001b[0m\u001b[1;33m(\u001b[0m\u001b[1;33m)\u001b[0m\u001b[1;33m.\u001b[0m\u001b[0msplit\u001b[0m\u001b[1;33m(\u001b[0m\u001b[1;33m)\u001b[0m\u001b[1;33m)\u001b[0m\u001b[1;33m)\u001b[0m\u001b[1;33m)\u001b[0m\u001b[1;33m\u001b[0m\u001b[1;33m\u001b[0m\u001b[0m\n\u001b[1;32m---> 21\u001b[1;33m \u001b[0mstep\u001b[0m\u001b[1;33m(\u001b[0m\u001b[0mmoney\u001b[0m\u001b[1;33m,\u001b[0m \u001b[1;36m0\u001b[0m\u001b[1;33m,\u001b[0m \u001b[1;36m0\u001b[0m\u001b[1;33m,\u001b[0m \u001b[0mresult\u001b[0m\u001b[1;33m)\u001b[0m\u001b[1;33m\u001b[0m\u001b[1;33m\u001b[0m\u001b[0m\n\u001b[0m\u001b[0;32m     22\u001b[0m \u001b[0mprint\u001b[0m\u001b[1;33m(\u001b[0m\u001b[0mmax\u001b[0m\u001b[1;33m(\u001b[0m\u001b[0mresult\u001b[0m\u001b[1;33m)\u001b[0m\u001b[1;33m)\u001b[0m\u001b[1;33m\u001b[0m\u001b[1;33m\u001b[0m\u001b[0m\n",
      "\u001b[1;32m<ipython-input-35-e27ef7ab0205>\u001b[0m in \u001b[0;36mstep\u001b[1;34m(l, index, m, result)\u001b[0m\n\u001b[0;32m      9\u001b[0m     \u001b[1;31m#같을때는?\u001b[0m\u001b[1;33m\u001b[0m\u001b[1;33m\u001b[0m\u001b[1;33m\u001b[0m\u001b[0m\n\u001b[0;32m     10\u001b[0m     \u001b[1;32mif\u001b[0m \u001b[0mindex\u001b[0m \u001b[1;33m+\u001b[0m \u001b[0ml\u001b[0m\u001b[1;33m[\u001b[0m\u001b[0mindex\u001b[0m\u001b[1;33m]\u001b[0m\u001b[1;33m[\u001b[0m\u001b[1;36m0\u001b[0m\u001b[1;33m]\u001b[0m \u001b[1;33m==\u001b[0m \u001b[0mlen\u001b[0m\u001b[1;33m(\u001b[0m\u001b[0ml\u001b[0m\u001b[1;33m)\u001b[0m\u001b[1;33m:\u001b[0m\u001b[1;33m\u001b[0m\u001b[1;33m\u001b[0m\u001b[0m\n\u001b[1;32m---> 11\u001b[1;33m         \u001b[0mresult\u001b[0m\u001b[1;33m.\u001b[0m\u001b[0mappend\u001b[0m\u001b[1;33m(\u001b[0m\u001b[0mm\u001b[0m\u001b[1;33m+\u001b[0m\u001b[0ml\u001b[0m\u001b[1;33m[\u001b[0m\u001b[0mindex\u001b[0m\u001b[1;33m]\u001b[0m\u001b[1;33m[\u001b[0m\u001b[1;36m1\u001b[0m\u001b[1;33m]\u001b[0m\u001b[1;33m)\u001b[0m\u001b[1;33m\u001b[0m\u001b[1;33m\u001b[0m\u001b[0m\n\u001b[0m\u001b[0;32m     12\u001b[0m         \u001b[1;32mreturn\u001b[0m\u001b[1;33m\u001b[0m\u001b[1;33m\u001b[0m\u001b[0m\n\u001b[0;32m     13\u001b[0m     \u001b[1;31m#작을때\u001b[0m\u001b[1;33m\u001b[0m\u001b[1;33m\u001b[0m\u001b[1;33m\u001b[0m\u001b[0m\n",
      "\u001b[1;31mIndexError\u001b[0m: list index out of range"
     ]
    }
   ],
   "source": [
    "def step(l, index, m, result):\n",
    "    #끝나는 포인트 지금 인덱스 + 걸리는 일수가 넘칠 때\n",
    "    if index +l[index][0] > len(l):\n",
    "        result.append(m)\n",
    "        return\n",
    "    \n",
    "    for i in range(index+1, index+l[index][0]):\n",
    "        step(l, i, m, result) #사이 얘들 실행시켜줌\n",
    "    #같을때는?\n",
    "    if index + l[index][0] == len(l):\n",
    "        result.append(m+l[index][1])\n",
    "        return\n",
    "    #작을때\n",
    "    else:\n",
    "        step(l, index+l[index][0], m+l[index][1], result)\n",
    "num = int(input())\n",
    "money = []\n",
    "result = []\n",
    "for i in range(num):\n",
    "    money.append(list(map(int, input().split())))\n",
    "step(money, 0, 0, result)\n",
    "print(max(result))"
   ]
  },
  {
   "cell_type": "code",
   "execution_count": 4,
   "id": "educated-gregory",
   "metadata": {},
   "outputs": [
    {
     "data": {
      "text/plain": [
       "[30, 45, 20, 35, 0, 15, 0, 20, 30, 45, 30, 45]"
      ]
     },
     "execution_count": 4,
     "metadata": {},
     "output_type": "execute_result"
    }
   ],
   "source": [
    "7\n",
    "3 10\n",
    "5 20\n",
    "1 10\n",
    "1 20\n",
    "2 15\n",
    "4 40\n",
    "2 200"
   ]
  },
  {
   "cell_type": "code",
   "execution_count": 57,
   "id": "chubby-bolivia",
   "metadata": {},
   "outputs": [
    {
     "name": "stdout",
     "output_type": "stream",
     "text": [
      "10\n",
      "5 10\n",
      "5 9\n",
      "5 8\n",
      "5 7\n",
      "5 6\n",
      "5 10\n",
      "5 9\n",
      "5 8\n",
      "5 7\n",
      "5 \n",
      "5 \n",
      "34\n",
      "[0, 10, 19, 27, 34, 34, 34, 34, 34, 0]\n"
     ]
    }
   ],
   "source": [
    "num = int(input())\n",
    "money = []\n",
    "result = [0 for x in range(num)]\n",
    "for i in range(num+1):\n",
    "    money.append(list(map(int, input().split())))\n",
    "idx = 0\n",
    "\n",
    "while idx < len(result)-1:\n",
    "    if idx + money[idx][0] < len(result)-1: #끝낼 수 있는곳.\n",
    "        for i in range(idx+1, idx+money[idx][0]):\n",
    "            if result[i] < result[idx] + money[idx][1]:\n",
    "                result[i] = result[idx] + money[idx][1]\n",
    "        if result[idx + money[idx][0]] < result[idx] + money[idx][1]:\n",
    "            result[idx + money[idx][0]] = result[idx] + money[idx][1]\n",
    "        \n",
    "    idx += 1\n",
    "print(max(result))\n",
    "print(result)"
   ]
  },
  {
   "cell_type": "code",
   "execution_count": 56,
   "id": "statewide-forth",
   "metadata": {},
   "outputs": [
    {
     "ename": "TypeError",
     "evalue": "can only assign an iterable",
     "output_type": "error",
     "traceback": [
      "\u001b[1;31m---------------------------------------------------------------------------\u001b[0m",
      "\u001b[1;31mTypeError\u001b[0m                                 Traceback (most recent call last)",
      "\u001b[1;32m<ipython-input-56-bb4584c73271>\u001b[0m in \u001b[0;36m<module>\u001b[1;34m\u001b[0m\n\u001b[0;32m      1\u001b[0m \u001b[0ma\u001b[0m \u001b[1;33m=\u001b[0m \u001b[1;33m[\u001b[0m\u001b[1;36m0\u001b[0m\u001b[1;33m,\u001b[0m\u001b[1;36m0\u001b[0m\u001b[1;33m,\u001b[0m\u001b[1;36m0\u001b[0m\u001b[1;33m]\u001b[0m\u001b[1;33m\u001b[0m\u001b[1;33m\u001b[0m\u001b[0m\n\u001b[1;32m----> 2\u001b[1;33m \u001b[0ma\u001b[0m\u001b[1;33m[\u001b[0m\u001b[1;36m1\u001b[0m\u001b[1;33m:\u001b[0m\u001b[1;33m]\u001b[0m \u001b[1;33m=\u001b[0m \u001b[1;36m20\u001b[0m\u001b[1;33m\u001b[0m\u001b[1;33m\u001b[0m\u001b[0m\n\u001b[0m",
      "\u001b[1;31mTypeError\u001b[0m: can only assign an iterable"
     ]
    }
   ],
   "source": []
  },
  {
   "cell_type": "markdown",
   "id": "historic-juice",
   "metadata": {},
   "source": [
    "10\n",
    "5 50\n",
    "4 40\n",
    "3 30\n",
    "2 20\n",
    "1 10\n",
    "1 10\n",
    "2 20\n",
    "3 30\n",
    "4 40\n",
    "5 50"
   ]
  }
 ],
 "metadata": {
  "kernelspec": {
   "display_name": "Python 3",
   "language": "python",
   "name": "python3"
  },
  "language_info": {
   "codemirror_mode": {
    "name": "ipython",
    "version": 3
   },
   "file_extension": ".py",
   "mimetype": "text/x-python",
   "name": "python",
   "nbconvert_exporter": "python",
   "pygments_lexer": "ipython3",
   "version": "3.8.3"
  }
 },
 "nbformat": 4,
 "nbformat_minor": 5
}
