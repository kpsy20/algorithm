{
 "cells": [
  {
   "cell_type": "code",
   "execution_count": null,
   "id": "awful-armenia",
   "metadata": {},
   "outputs": [],
   "source": [
    "3 6\n",
    "antarctica\n",
    "antahellotica\n",
    "antacartica"
   ]
  },
  {
   "cell_type": "code",
   "execution_count": 185,
   "id": "gothic-jones",
   "metadata": {
    "scrolled": false
   },
   "outputs": [
    {
     "name": "stdout",
     "output_type": "stream",
     "text": [
      "2 8\n",
      "antaqwetica\n",
      "antaewetica\n",
      "2\n"
     ]
    }
   ],
   "source": [
    "from itertools import combinations\n",
    "test, num = map(int, input().split())\n",
    "y = ['a', 'n', 't', 'i', 'c']\n",
    "all_word ={}\n",
    "if num < 5:\n",
    "    for i in range(test):\n",
    "        word = input()\n",
    "    print(0)\n",
    "\n",
    "else:\n",
    "    for i in range(test):\n",
    "        word = input()[4:-4]\n",
    "        real = sorted(list(set([x for x in word if x not in y])))\n",
    "        answer = ''.join(real)\n",
    "        \n",
    "        if answer not in all_word:\n",
    "            all_word[answer] = 1\n",
    "        else:\n",
    "            all_word[answer] += 1\n",
    "    \n",
    "    alpha = []\n",
    "    for i in all_word:\n",
    "        for j in range(len(i)):\n",
    "            if i[j] not in alpha:\n",
    "                alpha.append(i[j])\n",
    "    # alpha 쓰인 총 알파벳\n",
    "    # all_word 필요한 알파벳 셋\n",
    "    alpha.sort()\n",
    "    \n",
    "    alpha_com = list(combinations(alpha, min(num-5, len(alpha))))  # 알파벳 콤비네이션, 이제 모두 봐. \n",
    "    answer = 0\n",
    "    max_answer = -1\n",
    "    for com in alpha_com: #모든 콤비네이션\n",
    "        for i in all_word: #모든 단어\n",
    "            if sorted(list( set(list(com)) & set(list(i)) )) == list(i):\n",
    "                answer += all_word[i]\n",
    "        if max_answer == -1 or max_answer < answer:\n",
    "            max_answer = answer\n",
    "        answer = 0\n",
    "#     if ch:\n",
    "#         max_answer += 1\n",
    "    print(max_answer)\n",
    "    "
   ]
  },
  {
   "cell_type": "code",
   "execution_count": 175,
   "id": "flexible-living",
   "metadata": {
    "scrolled": true
   },
   "outputs": [
    {
     "data": {
      "text/plain": [
       "{'eqw': 1, 'ew': 1}"
      ]
     },
     "execution_count": 175,
     "metadata": {},
     "output_type": "execute_result"
    }
   ],
   "source": [
    "all_word"
   ]
  },
  {
   "cell_type": "code",
   "execution_count": 176,
   "id": "passive-saint",
   "metadata": {
    "scrolled": true
   },
   "outputs": [
    {
     "data": {
      "text/plain": [
       "['e', 'q', 'w']"
      ]
     },
     "execution_count": 176,
     "metadata": {},
     "output_type": "execute_result"
    }
   ],
   "source": [
    "alpha"
   ]
  },
  {
   "cell_type": "code",
   "execution_count": 177,
   "id": "incredible-culture",
   "metadata": {
    "scrolled": true
   },
   "outputs": [
    {
     "data": {
      "text/plain": [
       "['e', 'w', 'q']"
      ]
     },
     "execution_count": 177,
     "metadata": {},
     "output_type": "execute_result"
    }
   ],
   "source": [
    "list(set(alpha_com[0]))"
   ]
  },
  {
   "cell_type": "code",
   "execution_count": 161,
   "id": "perfect-hampton",
   "metadata": {},
   "outputs": [
    {
     "data": {
      "text/plain": [
       "['q', 'w']"
      ]
     },
     "execution_count": 161,
     "metadata": {},
     "output_type": "execute_result"
    }
   ],
   "source": [
    "list('qw')"
   ]
  },
  {
   "cell_type": "code",
   "execution_count": 170,
   "id": "sacred-ministry",
   "metadata": {},
   "outputs": [
    {
     "data": {
      "text/plain": [
       "True"
      ]
     },
     "execution_count": 170,
     "metadata": {},
     "output_type": "execute_result"
    }
   ],
   "source": [
    "list(set(list(('e','q','w'))) & set(list('ewq'))) == list('ewq')"
   ]
  },
  {
   "cell_type": "code",
   "execution_count": null,
   "id": "announced-ladder",
   "metadata": {},
   "outputs": [],
   "source": [
    "4 7\n",
    "antazxtica\n",
    "antaxztica\n",
    "antazxqtica\n",
    "antaqwxtica"
   ]
  }
 ],
 "metadata": {
  "kernelspec": {
   "display_name": "Python 3",
   "language": "python",
   "name": "python3"
  },
  "language_info": {
   "codemirror_mode": {
    "name": "ipython",
    "version": 3
   },
   "file_extension": ".py",
   "mimetype": "text/x-python",
   "name": "python",
   "nbconvert_exporter": "python",
   "pygments_lexer": "ipython3",
   "version": "3.8.3"
  }
 },
 "nbformat": 4,
 "nbformat_minor": 5
}
