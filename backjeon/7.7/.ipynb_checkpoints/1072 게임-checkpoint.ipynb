{
 "cells": [
  {
   "cell_type": "code",
   "execution_count": 58,
   "id": "naked-contemporary",
   "metadata": {},
   "outputs": [
    {
     "name": "stdout",
     "output_type": "stream",
     "text": [
      "1000000000 980000000\n",
      "1000000000\n"
     ]
    }
   ],
   "source": [
    "x, y = map(int, input().split())\n",
    "z = int(y*100//x)\n",
    "left = 0\n",
    "right = 1000000000\n",
    "mid = (left+right)//2\n",
    "if z >= 99:\n",
    "    print(-1)\n",
    "else:\n",
    "    while(True):\n",
    "        #print(left, mid, right)\n",
    "        if right == mid or left == mid:\n",
    "            break\n",
    "        if int( (y+mid)*100 // (x+mid)) - z >= 1:\n",
    "            right = mid\n",
    "            mid = (right+left) // 2\n",
    "        else:\n",
    "            left = mid\n",
    "            mid = (right+left) // 2\n",
    "    mid = int(mid)\n",
    "    \n",
    "    for i in range(max(1, mid-16),mid+16):\n",
    "        \n",
    "        if int( (y+i)*100 // (x+i)) - z >= 1:\n",
    "            print(i)\n",
    "            break"
   ]
  }
 ],
 "metadata": {
  "kernelspec": {
   "display_name": "Python 3",
   "language": "python",
   "name": "python3"
  },
  "language_info": {
   "codemirror_mode": {
    "name": "ipython",
    "version": 3
   },
   "file_extension": ".py",
   "mimetype": "text/x-python",
   "name": "python",
   "nbconvert_exporter": "python",
   "pygments_lexer": "ipython3",
   "version": "3.8.3"
  }
 },
 "nbformat": 4,
 "nbformat_minor": 5
}
