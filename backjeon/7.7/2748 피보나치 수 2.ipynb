{
 "cells": [
  {
   "cell_type": "code",
   "execution_count": 10,
   "id": "loaded-match",
   "metadata": {},
   "outputs": [
    {
     "name": "stdout",
     "output_type": "stream",
     "text": [
      "5\n",
      "5\n"
     ]
    }
   ],
   "source": [
    "n = int(input())\n",
    "fibo = [0, 1]\n",
    "if n == 0 or n == 1:\n",
    "    print(fibo[n])\n",
    "else:\n",
    "    for i in range(1, n):\n",
    "        fibo.append(fibo[i] + fibo[i-1])\n",
    "    print(fibo[-1])"
   ]
  },
  {
   "cell_type": "markdown",
   "id": "engaging-commander",
   "metadata": {},
   "source": [
    "### "
   ]
  },
  {
   "cell_type": "code",
   "execution_count": null,
   "id": "literary-citizen",
   "metadata": {},
   "outputs": [],
   "source": []
  }
 ],
 "metadata": {
  "kernelspec": {
   "display_name": "Python 3",
   "language": "python",
   "name": "python3"
  },
  "language_info": {
   "codemirror_mode": {
    "name": "ipython",
    "version": 3
   },
   "file_extension": ".py",
   "mimetype": "text/x-python",
   "name": "python",
   "nbconvert_exporter": "python",
   "pygments_lexer": "ipython3",
   "version": "3.8.3"
  }
 },
 "nbformat": 4,
 "nbformat_minor": 5
}
